{
 "cells": [
  {
   "cell_type": "markdown",
   "metadata": {},
   "source": [
    "<div style=\"background-color : white; border-radius: 15px; width: 93%; padding: 2em; color: black; font-family: Gill Sans, sans-serif;\">\n",
    "<h1 style =\"text-align: center; color: black; font-family: Gill Sans, sans-serif;font-weight: 700;\"> Estrazione delle features dalle foto </h1>\n",
    "<h2>Indice</h2>\n",
    "\n",
    "<ol type=\"1\">\n",
    "    <li style=\"padding-bottom: 0.3em;\"><a href=\"#intro\">Acquisizione delle immagini</a>\n",
    "        <ul>\n",
    "            <li style=\"padding-top: 0.3em; padding-bottom: 0.3em;\">1.1 Processo di acquisizione</li>\n",
    "            <li>1.1 Descrizione delle immagini</li>\n",
    "        </ul>\n",
    "    </li>\n",
    "    <li style=\"padding-bottom: 0.3em;\"><a href=\"#intro\">Segmentazione delle immagini</a>\n",
    "        <ul>\n",
    "            <li style=\"padding-top: 0.3em; padding-bottom: 0.3em;\">2.1 Inizializzazione</li>\n",
    "            <li style=\"padding-bottom: 0.3em;\">2.2 Rimozione della rete</li>\n",
    "            <li style=\"padding-bottom: 0.3em;\">2.3 Rimozione dei bachi e dello sfondo</li>\n",
    "            <li style=\"padding-bottom: 0.3em;\">2.4 Rimozione delle foglie</li>\n",
    "            <li>2.5 Test delle immagini segmentate</li>\n",
    "        </ul>\n",
    "    </li>\n",
    "    <li style=\"padding-bottom: 0.3em;\"><a href=\"#intro\">Estrazioni delle features</a>\n",
    "        <ul>\n",
    "            <li style=\"padding-top: 0.3em; padding-bottom: 0.3em;\">3.1 Presenza delle foglie</li>\n",
    "            <li style=\"padding-bottom: 0.3em;\">3.2 Presenza dei bachi e dello sfondo</li>\n",
    "            <li>3.3 Assenza di elementi</li>\n",
    "        </ul>\n",
    "    </li>\n",
    "    <li style=\"padding-bottom: 0.3em;\"><a href=\"#intro\">Creazione del dataset</a>\n",
    "        <ul>\n",
    "            <li style=\"padding-top: 0.3em; padding-bottom: 0.3em;\">4.1 Popolazione del dataset con feature e target</li>\n",
    "            <li>4.2 Esportazione dataset in file csv</li>\n",
    "        </ul>\n",
    "    </li>\n",
    "</div>"
   ]
  },
  {
   "cell_type": "markdown",
   "metadata": {},
   "source": [
    "<div style=\"background-color: white; border-radius: 15px; width: 93%; padding: 2em 2em 0.2em 2em; font-family: Gill Sans, sans-serif;\">\n",
    "    <a id=\"#intro\" style=\"text-decoration:none; color: black;\"><h3 style=\"font-weight:700;\"> 1. Acquisizione delle immagini </h3></a>\n",
    "    <h3 style=\"color:black\"> 1.1 Processo di acquisizione </h3>\n",
    "    <p style=\"color:black\">\n",
    "        Il processo di acquisizione è stato effettuato nella maniera più simile possibile a quella della futura applicazione del sistema. La fotocamera è stata posizionata prima a circa 45° rispetto al piano del letto dei bachi e successivamente a 90°. Quest'ultima era posizionata su un supporto treppiedi a circa 80-100cm dal letto dei bachi.\n",
    "    </p>\n",
    "    <span style=\"display:flex; flex-direction:row; gap: 5%; align-items: center; justify-content: center; align-content:center;\">\n",
    "        <img src=\"./notebook_pic/camera-pos-1.jpg\" style=\"width: 53%;\">\n",
    "        <img src=\"./notebook_pic/camera-pos-2.jpg\" style=\"width: 40%;\">\n",
    "    </span>\n",
    "    <h3 style=\"color:black\"> 1.2 Descrizione delle immagini </h3>\n",
    "    <p style=\"color:black\">\n",
    "        Sono state acquisite 1351 immagini. Quest'ultime a volte diversi livelli di luminosità. Infatti, nonostante l'uso del flash, la luce naturale entrate dalla finestra affianco ai letti, illuminava quest'ultimi sopratutto verso l'alba. Tuttavia ciò non ha portato troppe problematiche nella formazione del dataset. Il background delle foto (al di fuori del letto) non varia quasi mai. Analizzando le immaggini si possono definire due classi:\n",
    "        <ul>\n",
    "            <li style=\"color:black; padding-bottom: 1%;\">I bachi hanno bisogno di essere nutriti con altre foglie</li>\n",
    "            <span style=\"display:flex; flex-direction:row; gap: 5%; align-items: center; justify-content: center; align-content:center; padding-bottom: 2%\">\n",
    "                <img src=\"./notebook_pic/es3.jpg\" style=\"width: 40%;\">\n",
    "                <img src=\"./notebook_pic/es1.jpg\" style=\"width: 40%;\">\n",
    "            </span> \n",
    "            <li style=\"color:black; padding-bottom: 1%;\">I bachi non necessitano di altre foglie</li>\n",
    "            <span style=\"display:flex; flex-direction:row; gap: 5%; align-items: center; justify-content: center; align-content:center;\">\n",
    "                <img src=\"./notebook_pic/es2.jpg\" style=\"width: 40%;\">\n",
    "                <img src=\"./notebook_pic/es4.jpg\" style=\"width: 40%;\">\n",
    "            </span>\n",
    "    </p>\n",
    "    <p style=\"color:black; padding-top: 1%;\">\n",
    "        Risulta evidente come il discriminante tra i due casi sia la quantità di verde (presenza di foglie) e la quantità di bianco (presenza di bachi e fondo del letto).\n",
    "    </p>\n",
    "</div>"
   ]
  },
  {
   "cell_type": "markdown",
   "metadata": {},
   "source": [
    "<div style=\"background-color: white; border-top-left-radius: 15px; border-top-right-radius: 15px; width: 93%; padding: 2em 2em 0.2em 2em; font-family: Gill Sans, sans-serif; color:black;\">\n",
    "    <a id=\"#intro\" style=\"text-decoration:none; color: black;\"><h3 style=\"font-weight:700;\"> 2. Segmentazioni delle immagini </h3></a>\n",
    "    <p>La maggior parte delle soglie, degli intervalli e degli spazi di colore sono stati ottenuti seguento un processo <i>trial and error</i>. L'obiettivo della segmentazione è ottenere due tipologie di immagini: una senza bachi e sfondo e una senza foglie. Entrambe le tipologie non dovranno contenere la rete del letto dei bachi.</p>\n",
    "    <h3> 2.1 Inizializzazione </h3>\n",
    "    <p> Oltre a caricare i pacchetti necessari al funzionamento del programma, sono inizializzate alcune variabili: </p>\n",
    "    <ul>\n",
    "        <li style=\"color:black;\"><p style=\"color:black;\"><code style=\"background-color:#eff0f1; color: rgb(64, 64, 64); padding: 0.3em; border-radius: 5px\">window_name</code> - Titolo della finestra per mostrare le immagini segmentate (debug e controllo)</li>\n",
    "        <li style=\"color:black;\"><p style=\"color:black;\"><code style=\"background-color:#eff0f1; color: rgb(64, 64, 64); padding: 0.3em; border-radius: 5px\">dim</code> - Dimemsione foto nella finestra</li>\n",
    "        <li style=\"color:black;\"><p style=\"color:black;\"><code style=\"background-color:#eff0f1; color: rgb(64, 64, 64); padding: 0.3em; border-radius: 5px\">test_dir</code> - Percorso della cartella con le immagini per testare il programma</li>\n",
    "        <li style=\"color:black;\"><p style=\"color:black;\"><code style=\"background-color:#eff0f1; color: rgb(64, 64, 64); padding: 0.3em; border-radius: 5px\">data_dir</code> - Percorso della cartella con le immagini da cui estrarre i dati</li>\n",
    "    </ul>\n",
    "</div>"
   ]
  },
  {
   "cell_type": "code",
   "execution_count": 1,
   "metadata": {},
   "outputs": [],
   "source": [
    "import cv2 as cv\n",
    "import numpy as np\n",
    "from os import listdir\n",
    "import csv\n",
    "\n",
    "window_name = 'Originale - No foglie - No bachi'\n",
    "dim = (430, 250)\n",
    "test_dir = \"./sample/\"\n",
    "data_dir = \"E:\\\\SilkIA\\\\100CANON\\\\\""
   ]
  },
  {
   "cell_type": "markdown",
   "metadata": {},
   "source": [
    "<div style=\"background-color: white; width: 93%; padding: 2em 2em 0.2em 2em; font-family: Gill Sans, sans-serif; color:black;\">   \n",
    "    <h3> 2.2 Rimozione della rete </h3>\n",
    "    <p> \n",
    "        La rete del letto dei bachi è un elemento di distrubo per l'estrazione delle features, in quanto anch'essa di colore verde. Infatti se dall'immagine fossero stati immediatamente rimossi bachi e sfondo, il risultato finale avrebbe presentato anche la rete oltre che le foglie, la quale avrebbe influenzato (seppur di poco) la presenza di verde nell'immagine. Quindi la rete deve essere necessariamente rimossa. Mantenendo l'immagine in uno spazio di colore RGB e impostando un intervallo di colori che identificasse la maggior parte dei pixel della rete, è stata formata una maschera la quale una volta invertita e messa in AND con l'immagine iniziale restituirà l'immagine senza la maggior parte della rete\n",
    "    </p>\n",
    "    <img src=\"./notebook_pic/no_web_nb.png\">\n",
    "</div>"
   ]
  },
  {
   "cell_type": "code",
   "execution_count": 2,
   "metadata": {},
   "outputs": [],
   "source": [
    "def remove_web(pic):\n",
    "    lower = np.array([51, 71, 21], np.uint8)\n",
    "    upper = np.array([255, 255, 85], np.uint8)\n",
    "    \n",
    "    mask = cv.inRange(pic, lower, upper)\n",
    "    mask_inv = cv.bitwise_not(mask)  \n",
    "    res = cv.bitwise_and(pic,pic,mask = mask_inv)  \n",
    "    \n",
    "    return res"
   ]
  },
  {
   "cell_type": "markdown",
   "metadata": {},
   "source": [
    "<div style=\"background-color: white; width: 93%; padding: 2em 2em 0.2em 2em; font-family: Gill Sans, sans-serif; color:black;\">\n",
    "    <h3> 2.2 Rimozione dei bachi e dello sfondo </h3>\n",
    "    <p> \n",
    "        Partendo dall'immagine senza rete, i bachi e lo sono stati rimossi dall'immagine applicando lo stesso procedimento della <i>sezione 2.2</i>.\n",
    "    </p>\n",
    "    <img src=\"./notebook_pic/no_worms_nb.png\">\n",
    "</div>"
   ]
  },
  {
   "cell_type": "code",
   "execution_count": 1,
   "metadata": {},
   "outputs": [],
   "source": [
    "def remove_worms(pic):\n",
    "    lower = np.array([110, 109, 109], np.uint8)\n",
    "    upper = np.array([255, 255, 255], np.uint8)\n",
    "    \n",
    "    mask = cv.inRange(pic, lower, upper)\n",
    "    mask_inv = cv.bitwise_not(mask)  \n",
    "    res = cv.bitwise_and(pic,pic,mask = mask_inv)  \n",
    "\n",
    "    return res"
   ]
  },
  {
   "cell_type": "markdown",
   "metadata": {},
   "source": [
    "<div style=\"background-color: white; width: 93%; padding: 2em 2em 0.2em 2em; font-family: Gill Sans, sans-serif; color:black;\">\n",
    "    <h3> 2.3 Rimozione delle foglie </h3>\n",
    "    <p> \n",
    "        Partendo dall'immagine senza rete, le foglie state rimosse dall'immagine applicando lo stesso procedimento della <i>sezione 2.2</i>. L'unica differenza risiede nel fatto che l'immagine è inizialmente convertita nello spazio di colore BGR in quanto la segmentazione risultava più efficace.\n",
    "    </p>\n",
    "    <img src=\"./notebook_pic/no_leaves_nb.png\">\n",
    "</div>"
   ]
  },
  {
   "cell_type": "code",
   "execution_count": null,
   "metadata": {},
   "outputs": [],
   "source": [
    "def remove_leaves(src):\n",
    "    leaves_mask_space = cv.COLOR_RGBA2BGR\n",
    "\n",
    "    lower = np.array([100, 150, 170], np.uint8)\n",
    "    upper = np.array([255, 255, 255], np.uint8)\n",
    "    \n",
    "    # Converto in BGR per via del maggior contrasto tra foglie, bachi e sfondo\n",
    "    pic = cv.cvtColor(src,leaves_mask_space)\n",
    "    mask = cv.inRange(pic, lower, upper)\n",
    "    res = cv.bitwise_and(pic,pic,mask = mask)  \n",
    "    fin = cv.cvtColor(res,leaves_mask_space)\n",
    "    \n",
    "    return fin"
   ]
  },
  {
   "cell_type": "markdown",
   "metadata": {},
   "source": []
  }
 ],
 "metadata": {
  "kernelspec": {
   "display_name": "Python 3.10.4 64-bit",
   "language": "python",
   "name": "python3"
  },
  "language_info": {
   "codemirror_mode": {
    "name": "ipython",
    "version": 3
   },
   "file_extension": ".py",
   "mimetype": "text/x-python",
   "name": "python",
   "nbconvert_exporter": "python",
   "pygments_lexer": "ipython3",
   "version": "3.10.4"
  },
  "orig_nbformat": 4,
  "vscode": {
   "interpreter": {
    "hash": "702afc27125c4b44e8d6e4d91e2be92deaff276ecbbea6cc8c365578c4a94287"
   }
  }
 },
 "nbformat": 4,
 "nbformat_minor": 2
}
