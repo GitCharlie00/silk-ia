{
 "cells": [
  {
   "cell_type": "markdown",
   "metadata": {},
   "source": [
    "<div style=\"background-color : white; border-radius: 15px; width: 93%; padding: 2em; color: black; font-family: Gill Sans, sans-serif;\">\n",
    "<h1 style =\"text-align: center; color: black; font-family: Gill Sans, sans-serif;font-weight: 700;\"> Estrazione delle features dalle foto </h1>\n",
    "<h2>Indice</h2>\n",
    "\n",
    "<ol type=\"1\">\n",
    "    <li style=\"padding-bottom: 0.3em;\"><b>Acquisizione delle immagini</b>\n",
    "        <ul>\n",
    "            <li style=\"padding-top: 0.3em; padding-bottom: 0.3em;\">1.1 Processo di acquisizione</li>\n",
    "            <li>1.2 Descrizione delle immagini</li>\n",
    "        </ul>\n",
    "    </li>\n",
    "    <li style=\"padding-bottom: 0.3em;\"><b>Segmentazione delle immagini</b>\n",
    "        <ul>\n",
    "            <li style=\"padding-top: 0.3em; padding-bottom: 0.3em;\">2.1 Inizializzazione</li>\n",
    "            <li style=\"padding-bottom: 0.3em;\">2.2 Rimozione della rete</li>\n",
    "            <li style=\"padding-bottom: 0.3em;\">2.3 Rimozione dei bachi e dello sfondo</li>\n",
    "            <li>2.4 Rimozione delle foglie</li>\n",
    "        </ul>\n",
    "    </li>\n",
    "    <li style=\"padding-bottom: 0.3em;\"><b>Estrazioni delle features</b>\n",
    "        <ul>\n",
    "            <li style=\"padding-top: 0.3em; padding-bottom: 0.3em;\">3.1 Presenza delle foglie</li>\n",
    "            <li style=\"padding-bottom: 0.3em;\">3.2 Presenza dei bachi e dello sfondo</li>\n",
    "            <li style=\"padding-bottom: 0.3em;\">3.3 Assenza di elementi</li>\n",
    "            <li>3.4 Test delle immagini segmentate</li>\n",
    "        </ul>\n",
    "    </li>\n",
    "    <li style=\"padding-bottom: 0.3em;\"><b>Creazione del dataset</b>\n",
    "        <ul>\n",
    "            <li style=\"padding-top: 0.3em; padding-bottom: 0.3em;\">4.1 Popolazione del dataset con features e target</li>\n",
    "            <li>4.2 Esportazione dataset in file csv</li>\n",
    "        </ul>\n",
    "    </li>\n",
    "</div>"
   ]
  },
  {
   "cell_type": "markdown",
   "metadata": {},
   "source": [
    "<div style=\"color:black; background-color: white; border-radius: 15px; width: 93%; padding: 2em 2em 0.2em 2em; font-family: Gill Sans, sans-serif;\">\n",
    "    <h3 style=\"font-weight:700;\"> 1. Acquisizione delle immagini </h3>\n",
    "    <h3> 1.1 Processo di acquisizione </h3>\n",
    "    <p>\n",
    "        Il processo di acquisizione è stato effettuato nella maniera più simile possibile a quella della futura applicazione del sistema. Le foto sono state effettuate nella zona di allevamento dei bachi presso Zagarolo (RM) utilizzando una fotocamera reflex Canon EOS 700D con sensore Hybrid CMOS AF da 18 megapixel. La fotocamera montava l'obiettivo EFS 18-55mm\n",
    "        La fotocamera è stata posizionata prima a circa 45° rispetto al piano del letto dei bachi e successivamente a 90°. In entrambi i casi quest'ultima era posizionata su un supporto treppiedi a circa 80-100cm dal letto dei bachi.</p>\n",
    "    <span style=\"display:flex; flex-direction:row; gap: 5%; align-items: center; justify-content: center; align-content:center;\">\n",
    "        <img src=\"./notebook_pic/camera-pos-1.jpg\" style=\"width: 53%;\">\n",
    "        <img src=\"./notebook_pic/camera-pos-2.jpg\" style=\"width: 40%;\">\n",
    "    </span>\n",
    "    <h3> 1.2 Descrizione delle immagini </h3>\n",
    "    <p>\n",
    "        Sono state acquisite 1351 immagini. Quest'ultime a volte con diversi livelli di luminosità. Infatti, nonostante l'uso del flash, la luce naturale entrate dalla finestra affianco ai letti, irradiava quest'ultimi sopratutto verso l'alba. Tuttavia ciò non ha portato troppe problematiche nell'estrazione delle features dalle immagini. Il background delle foto (al di fuori del letto) non varia quasi mai. Fatte tali considerazioni, analizzando le immagini si possono definire due classi:\n",
    "        <ul>\n",
    "            <li style=\"color:black; padding-bottom: 2%;\">I bachi hanno bisogno di essere nutriti con altre foglie</li>\n",
    "            <span style=\"display:flex; flex-direction:row; gap: 5%; align-items: center; justify-content: center; align-content:center; padding-bottom: 2%\">\n",
    "                <img src=\"./notebook_pic/es3.jpg\" style=\"width: 40%;\">\n",
    "                <img src=\"./notebook_pic/es1.jpg\" style=\"width: 40%;\">\n",
    "            </span> \n",
    "            <li style=\"color:black; padding-bottom: 2%;\">I bachi non necessitano di altre foglie</li>\n",
    "            <span style=\"display:flex; flex-direction:row; gap: 5%; align-items: center; justify-content: center; align-content:center;\">\n",
    "                <img src=\"./notebook_pic/es2.jpg\" style=\"width: 40%;\">\n",
    "                <img src=\"./notebook_pic/es4.jpg\" style=\"width: 40%;\">\n",
    "            </span>\n",
    "    </p>\n",
    "    <p style=\"padding-top: 1%;\">\n",
    "        Risulta evidente come il discriminante tra i due casi sia la quantità di verde (presenza di foglie) e la quantità di bianco (presenza di bachi e fondo del letto).\n",
    "    </p>\n",
    "</div>"
   ]
  },
  {
   "cell_type": "markdown",
   "metadata": {},
   "source": [
    "<div style=\"color:black; background-color: white; border-top-left-radius: 15px; border-top-right-radius: 15px; width: 93%; padding: 2em 2em 0.2em 2em; font-family: Gill Sans, sans-serif; color:black;\">\n",
    "    <h3 style=\"font-weight:700;\"> 2. Segmentazioni delle immagini </h3>\n",
    "    <p>La maggior parte delle soglie, degli intervalli e degli spazi di colore sono stati ottenuti seguento un processo <i>trial and error</i>. L'obbiettivo della segmentazione è ottenere due tipologie di immagini: una senza bachi e sfondo e una senza foglie. Entrambe le tipologie non dovranno contenere la rete del letto dei bachi.</p>\n",
    "    <h3> 2.1 Inizializzazione </h3>\n",
    "    <p> Oltre a caricare i pacchetti necessari al funzionamento del programma, sono inizializzate alcune variabili globali: </p>\n",
    "    <ul>\n",
    "        <li style=\"color:black;\"><p style=\"color:black;\"><code style=\"background-color:#eff0f1; color: rgb(64, 64, 64); padding: 0.3em; border-radius: 5px\">window_name</code> - Titolo della finestra per mostrare le immagini segmentate (debug e controllo)</li>\n",
    "        <li style=\"color:black;\"><p style=\"color:black;\"><code style=\"background-color:#eff0f1; color: rgb(64, 64, 64); padding: 0.3em; border-radius: 5px\">dim</code> - Dimemsione foto nella finestra</li>\n",
    "        <li style=\"color:black;\"><p style=\"color:black;\"><code style=\"background-color:#eff0f1; color: rgb(64, 64, 64); padding: 0.3em; border-radius: 5px\">test_dir</code> - Percorso della cartella con le immagini per testare il programma</li>\n",
    "        <li style=\"color:black;\"><p style=\"color:black;\"><code style=\"background-color:#eff0f1; color: rgb(64, 64, 64); padding: 0.3em; border-radius: 5px\">data_dir</code> - Percorso della cartella con le immagini da cui estrarre i dati</li>\n",
    "    </ul>\n",
    "</div>"
   ]
  },
  {
   "cell_type": "code",
   "execution_count": 3,
   "metadata": {},
   "outputs": [],
   "source": [
    "import cv2 as cv\n",
    "import numpy as np\n",
    "from os import listdir\n",
    "import csv\n",
    "\n",
    "window_name = 'Originale - No foglie - No bachi'\n",
    "dim = (430, 250)\n",
    "test_dir = \"./sample/\"\n",
    "data_dir = \"E:\\\\SilkIA\\\\100CANON\\\\\""
   ]
  },
  {
   "cell_type": "markdown",
   "metadata": {},
   "source": [
    "<div style=\"background-color: white; width: 93%; padding: 2em 2em 0.2em 2em; font-family: Gill Sans, sans-serif; color:black;\">   \n",
    "    <h3> 2.2 Rimozione della rete </h3>\n",
    "    <p> \n",
    "        La rete del letto dei bachi è un elemento di distrubo per l'estrazione delle features, in quanto anch'essa di colore verde. Infatti se dall'immagine fossero stati immediatamente rimossi bachi e sfondo, il risultato finale avrebbe presentato anche la rete oltre che le foglie, la quale avrebbe influenzato (seppur di poco) la presenza di verde nell'immagine. Quindi la rete deve essere necessariamente rimossa. Mantenendo l'immagine in uno spazio di colore RGB e impostando un intervallo di colori che identificasse la maggior parte dei pixel della rete: quest'ultima infatti è di un verde leggermente più scuro rispetto alle foglie. Successivamente è stata formata una maschera la quale una volta invertita e messa in AND con l'immagine iniziale restituirà l'immagine senza la maggior parte della rete.\n",
    "    </p>\n",
    "    <img src=\"./notebook_pic/no_web_nb.png\">\n",
    "</div>"
   ]
  },
  {
   "cell_type": "code",
   "execution_count": 4,
   "metadata": {},
   "outputs": [],
   "source": [
    "def remove_web(pic):\n",
    "    lower = np.array([51, 71, 21], np.uint8)\n",
    "    upper = np.array([255, 255, 85], np.uint8)\n",
    "    \n",
    "    mask = cv.inRange(pic, lower, upper)\n",
    "    mask_inv = cv.bitwise_not(mask)  \n",
    "    res = cv.bitwise_and(pic,pic,mask = mask_inv)  \n",
    "    \n",
    "    return res"
   ]
  },
  {
   "cell_type": "markdown",
   "metadata": {},
   "source": [
    "<div style=\"background-color: white; width: 93%; padding: 2em 2em 0.2em 2em; font-family: Gill Sans, sans-serif; color:black;\">\n",
    "    <h3> 2.3 Rimozione dei bachi e dello sfondo </h3>\n",
    "    <p> \n",
    "        Partendo dall'immagine senza rete, i bachi e lo sono stati rimossi dall'immagine applicando lo stesso procedimento della <i>sezione 2.2</i>, isolando un intervallo di colori diverso.\n",
    "    </p>\n",
    "    <img src=\"./notebook_pic/no_worms_nb.png\">\n",
    "</div>"
   ]
  },
  {
   "cell_type": "code",
   "execution_count": 5,
   "metadata": {},
   "outputs": [],
   "source": [
    "def remove_worms(pic):\n",
    "    lower = np.array([110, 109, 109], np.uint8)\n",
    "    upper = np.array([255, 255, 255], np.uint8)\n",
    "    \n",
    "    mask = cv.inRange(pic, lower, upper)\n",
    "    mask_inv = cv.bitwise_not(mask)  \n",
    "    res = cv.bitwise_and(pic,pic,mask = mask_inv)  \n",
    "\n",
    "    return res"
   ]
  },
  {
   "cell_type": "markdown",
   "metadata": {},
   "source": [
    "<div style=\"background-color: white; width: 93%; padding: 2em 2em 0.2em 2em; font-family: Gill Sans, sans-serif; color:black;\">\n",
    "    <h3> 2.4 Rimozione delle foglie </h3>\n",
    "    <p> \n",
    "        Partendo dall'immagine senza rete, le foglie state rimosse dall'immagine applicando lo stesso procedimento della <i>sezione 2.2</i>, isolando un intervallo di colori diverso. L'unica differenza risiede nel fatto che l'immagine è inizialmente convertita nello spazio di colore BGR in quanto la segmentazione risultava più efficace.\n",
    "    </p>\n",
    "    <img src=\"./notebook_pic/no_leaves_nb.png\">\n",
    "</div>"
   ]
  },
  {
   "cell_type": "code",
   "execution_count": 6,
   "metadata": {},
   "outputs": [],
   "source": [
    "def remove_leaves(src):\n",
    "    leaves_mask_space = cv.COLOR_RGBA2BGR\n",
    "\n",
    "    lower = np.array([100, 150, 170], np.uint8)\n",
    "    upper = np.array([255, 255, 255], np.uint8)\n",
    "    \n",
    "    # Converto in BGR per via del maggior contrasto tra foglie, bachi e sfondo\n",
    "    pic = cv.cvtColor(src,leaves_mask_space)\n",
    "    mask = cv.inRange(pic, lower, upper)\n",
    "    res = cv.bitwise_and(pic,pic,mask = mask)  \n",
    "    fin = cv.cvtColor(res,leaves_mask_space)\n",
    "    \n",
    "    return fin"
   ]
  },
  {
   "cell_type": "markdown",
   "metadata": {},
   "source": [
    "<div style=\"background-color: white; border-bottom-left-radius: 15px; border-bottom-right-radius: 15px; width: 93%; padding: 2em 2em 0.2em 2em; font-family: Gill Sans, sans-serif; color:black;\"></div>\n"
   ]
  },
  {
   "cell_type": "markdown",
   "metadata": {},
   "source": [
    "<div style=\"color:black; background-color: white; border-top-left-radius: 15px; border-top-right-radius: 15px; width: 93%; padding: 2em 2em 0.2em 2em; font-family: Gill Sans, sans-serif; color:black;\">\n",
    "    <h3 style=\"font-weight:700;\"> 3. Estrazione delle features </h3>\n",
    "    <h3> 3.1 Presenza foglie </h3>\n",
    "    <p> Data l'immagine senza rete, bachi e sfondo si procede nel seguente modo:\n",
    "        <ul>\n",
    "            <li style=\"padding-bottom: 0.3em;\">Si selezionano i canali dell'immagine</li>\n",
    "            <li style=\"padding-bottom: 0.3em;\">Viene creata una maschera che seleziona tutti i pixel non neri (foglie)</li>\n",
    "            <li style=\"padding-bottom: 0.3em;\">I pixel non neri vengono uniformati ad un colore, quelli neri rimangono tali</li>\n",
    "            <li style=\"padding-bottom: 0.3em;\">Viene calcolata la percentuale di presenza delle foglie in base ai pixel ricolorati</li>\n",
    "            <ul>\n",
    "                <li>Percentuale colore = pixel colorati / pixel totali = pixel colorati / (dimensioni immagini / 3) = pixel colorati / (altezza * lunghezza * numero canali / 3)</li>\n",
    "            </ul>\n",
    "        </ul>\n",
    "    </p>\n",
    "</div>"
   ]
  },
  {
   "cell_type": "code",
   "execution_count": 7,
   "metadata": {},
   "outputs": [],
   "source": [
    "def get_leaves_presence(img):\n",
    "    # Ottengo i canali dell'immagine\n",
    "    b, g, r = cv.split(img)\n",
    "    # Creo una maschera che individuerà solo i pixel non neri (foglie)\n",
    "    mask = (b != 0) & (g != 0) & (r != 0)\n",
    "    # Applico la maschera alla foto sostituendo i pixel non neri con un unico colore (per poterli rilevare meglio)\n",
    "    img[mask] = (48, 252, 3)\n",
    "    img[mask==0] = (0, 0, 0)\n",
    "\n",
    "    # Isolo i pixel rimasti\n",
    "    lower = np.array((48, 252, 3), dtype=np.uint8)\n",
    "    upper = np.array((48, 252, 3), dtype=np.uint8)\n",
    "\n",
    "    mask = cv.inRange(img, lower, upper)\n",
    "\n",
    "    # Calcolo la percentuale considerando i pixel non nulli\n",
    "    ratio_green = cv.countNonZero(mask)/(img.size/3)\n",
    "    colorPercent = (ratio_green * 100)\n",
    "\n",
    "    return np.round(colorPercent, 2)"
   ]
  },
  {
   "cell_type": "markdown",
   "metadata": {},
   "source": [
    "<div style=\"background-color: white; width: 93%; padding: 2em 2em 0.2em 2em; font-family: Gill Sans, sans-serif; color:black;\">\n",
    "    <h3> 3.2 Presenza dei bachi e dello sfondo </h3>\n",
    "    <p> Partendo dall'immagine senza rete e foglie, si segue lo stesso procedimento della <i>sezione 3.1</i> </p>\n",
    "</div>"
   ]
  },
  {
   "cell_type": "code",
   "execution_count": 8,
   "metadata": {},
   "outputs": [],
   "source": [
    "def get_worms_presence(img):    \n",
    "    b, g, r = cv.split(img)\n",
    "    mask = (b != 0) & (g != 0) & (r != 0)\n",
    "    img[mask] = (242, 255, 3)\n",
    "    img[mask==0] = (0, 0, 0)\n",
    "\n",
    "    lower = np.array((242, 255, 3), dtype=np.uint8)\n",
    "    upper = np.array((242, 255, 3), dtype=np.uint8)\n",
    "\n",
    "    mask = cv.inRange(img, lower, upper)\n",
    "\n",
    "    ratio_blu = cv.countNonZero(mask)/(img.size/3)\n",
    "    colorPercent = (ratio_blu * 100)\n",
    "\n",
    "    return np.round(colorPercent, 2)"
   ]
  },
  {
   "cell_type": "markdown",
   "metadata": {},
   "source": [
    "<div style=\"background-color: white; width: 93%; padding: 2em 2em 0.2em 2em; font-family: Gill Sans, sans-serif; color:black;\">\n",
    "    <h3> 3.3 Assenza elementi </h3>\n",
    "    <p> Partendo dall'immagine senza rete e foglie/bachi e sfondo, si segue lo stesso procedimento della <i>sezione 3.1</i> </p>\n",
    "</div>"
   ]
  },
  {
   "cell_type": "code",
   "execution_count": 9,
   "metadata": {},
   "outputs": [],
   "source": [
    "def get_black(img):\n",
    "    b, g, r = cv.split(img)\n",
    "    mask = (b == 0) & (g == 0) & (r == 0)\n",
    "    img[mask] = (211, 52, 235)\n",
    "    img[mask==0] = (0, 0, 0)\n",
    "\n",
    "    lower = np.array((211, 52, 235), dtype=np.uint8)\n",
    "    upper = np.array((211, 52, 235), dtype=np.uint8)\n",
    "\n",
    "    mask = cv.inRange(img, lower, upper)\n",
    "\n",
    "    ratio_yellow = cv.countNonZero(mask)/(img.size/3)\n",
    "    colorPercent = (ratio_yellow * 100)\n",
    "\n",
    "    return np.round(colorPercent, 2)"
   ]
  },
  {
   "cell_type": "markdown",
   "metadata": {},
   "source": [
    "<div style=\"background-color: white; width: 93%; padding: 2em 2em 0.2em 2em; font-family: Gill Sans, sans-serif; color:black;\">\n",
    "    <h3> 3.4 Test delle immagini segmentate </h3>\n",
    "    <p> Per ogni sample si mostra la foto originale, la foto senza bachi e sfondo e la foto senza foglie. Inoltre viene stampato a schermo il valore delle features estratte per ogni immagine elaborata.</p>\n",
    "</div>"
   ]
  },
  {
   "cell_type": "code",
   "execution_count": 10,
   "metadata": {},
   "outputs": [],
   "source": [
    "def show_samples():\n",
    "    for i in range(0,6):\n",
    "        # Carico una foto\n",
    "        src = cv.imread('./sample/src'+str(i)+'.jpg')\n",
    "\n",
    "        # Rimuovo la rete\n",
    "        no_rete = remove_web(src)\n",
    "\n",
    "        # Ottengo la foto senza rete ne bachi\n",
    "        out_nobachi = remove_worms(no_rete)\n",
    "\n",
    "        # Ottengo la foto senza rete ne foglie\n",
    "        out_nofoglie = remove_leaves(no_rete)\n",
    "        \n",
    "        # Ridimensiono le immagini per check di qualità operazione\n",
    "        src_resized = cv.resize(src, dim, interpolation = cv.INTER_AREA)\n",
    "        out_nobachi_resized = cv.resize(out_nobachi, dim, interpolation = cv.INTER_AREA)\n",
    "        out_nofoglie_resized = cv.resize(out_nofoglie, dim, interpolation = cv.INTER_AREA)\n",
    "        \n",
    "        # Posiziono le immagini in una sola finestra\n",
    "        res = np.concatenate((src_resized,out_nofoglie_resized,out_nobachi_resized), axis=1)\n",
    "        \n",
    "        # Computazione presenza colori\n",
    "        print(\"Presenza foglie: \",get_leaves_presence(out_nobachi))\n",
    "        print(\"Assenza foglie: \",get_black(out_nobachi))\n",
    "\n",
    "        print(\"Presenza bachi e sfondo: \",get_worms_presence(out_nofoglie))\n",
    "        print(\"Assenza bachi e sfondo: \",get_black(out_nofoglie))\n",
    "        \n",
    "        # Mostro il risultato\n",
    "        cv.imshow(window_name, res)\n",
    "        cv.waitKey(0)"
   ]
  },
  {
   "cell_type": "markdown",
   "metadata": {},
   "source": [
    "<div style=\"background-color: white; border-bottom-left-radius: 15px; border-bottom-right-radius: 15px; width: 93%; padding: 2em 2em 0.2em 2em; font-family: Gill Sans, sans-serif; color:black;\"></div>"
   ]
  },
  {
   "cell_type": "markdown",
   "metadata": {},
   "source": [
    "<div style=\"color:black; background-color: white; border-top-left-radius: 15px; border-top-right-radius: 15px; width: 93%; padding: 2em 2em 0.2em 2em; font-family: Gill Sans, sans-serif; color:black;\">\n",
    "    <h3 style=\"font-weight:700;\"> 4. Creazione del dataset </h3>\n",
    "    <h3> 4.1 Popolazione del dataset con features e target </h3>\n",
    "    <p> Per ogni immagine nella cartella delle foto acquisite, si ricavano le features indicate precedentemente, si aggiunge il valore della variabile target e si indica il nome della foto analizzata per motivi di controllo della qualità del processo</p>\n",
    "</div>"
   ]
  },
  {
   "cell_type": "code",
   "execution_count": 11,
   "metadata": {},
   "outputs": [],
   "source": [
    "def get_data():\n",
    "    # Percorso cartella con le foto   \n",
    "    folder_dir = data_dir\n",
    "    # Numero totale di foto\n",
    "    total_photoes = len(listdir(folder_dir))\n",
    "    # Inizializzo l'array numpy (total_photoes, 5) che conterrà le 5 features (presenza/assenza foglie, presenza/assenza bachi-sfondo, classificazione)\n",
    "    out = np.zeros(shape=(len(listdir(folder_dir)),5), dtype= 'object')\n",
    "    # Definisco il tipo dell'ultima feature come intero\n",
    "    out[:,1].astype(int)\n",
    "    # Contatore per popolare l'array\n",
    "    cnt = 0\n",
    "\n",
    "    # Per ogni immagine\n",
    "    for images in listdir(folder_dir):\n",
    "        # Acquisisco l'immagine\n",
    "        src = cv.imread(folder_dir+images)\n",
    "        # Rimuovo la rete\n",
    "        no_rete = remove_web(src)\n",
    "\n",
    "        # Ottengo la foto senza rete ne bachi\n",
    "        out_nobachi = remove_worms(no_rete)\n",
    "        # Ottengo la foto senza rete ne foglie\n",
    "        out_nofoglie = remove_leaves(no_rete)\n",
    "\n",
    "        # Calcolo la presenza di foglie nella foto\n",
    "        presenza_foglie = float(get_leaves_presence(out_nobachi))\n",
    "        # Calcolo l'assenza di foglie nella foto\n",
    "        assenza_foglie = float(get_black(out_nobachi))\n",
    "\n",
    "        # Calcolo la presenza di di bachi-sfondo nella foto\n",
    "        presenza_bachi_sfondo = float(get_worms_presence(out_nofoglie))\n",
    "        # Calcolo l'assenza di bachi-sfondo nella foto\n",
    "        assenza_bachi_sfondo = float(get_black(out_nofoglie))\n",
    "        \n",
    "        # Etichetto automaticamente i risultati con i due valori della classificazione\n",
    "        if(presenza_foglie <= 50.0 and assenza_foglie >= 50.0 and presenza_bachi_sfondo >= 15.5 and assenza_bachi_sfondo <= 84.5): #dai da mangiare\n",
    "            classificazione = 1\n",
    "        else:   #non dare da mangiare\n",
    "            classificazione = 0\n",
    "\n",
    "        # Aggiungo i dati della foto nell'output\n",
    "        out[[cnt]] = [[presenza_foglie,assenza_foglie,presenza_bachi_sfondo,assenza_bachi_sfondo,classificazione]]\n",
    "        cnt+=1\n",
    "\n",
    "    # Salvo il dataset creato\n",
    "    save_data(out, listdir(folder_dir))"
   ]
  },
  {
   "cell_type": "markdown",
   "metadata": {},
   "source": [
    "<div style=\"background-color: white; width: 93%; padding: 2em 2em 0.2em 2em; font-family: Gill Sans, sans-serif; color:black;\">\n",
    "    <h3> 4.2 Esportazione dataset in file csv </h3>\n",
    "    <p> Tutti i dati ricavati vengono posti in un file csv che avrà la funzione di dataset </p>\n",
    "</div>"
   ]
  },
  {
   "cell_type": "code",
   "execution_count": 12,
   "metadata": {},
   "outputs": [],
   "source": [
    "def save_data(data, images):\n",
    "    # Apro (creo) il file che conterrà il dataset\n",
    "    f = open('./data.csv', 'w', newline='')\n",
    "    # Inizializzo il writer\n",
    "    writer = csv.writer(f)\n",
    "\n",
    "    # Scrivo l'header (campo foto serve per test)\n",
    "    writer.writerow(['presenza_foglie','assenza_foglie','presenza_bachi_sfondo','assenza_bachi_sfondo','classificazione','foto'])\n",
    "\n",
    "    # Scrivo il dataset\n",
    "    for i in range(0, len(data)):\n",
    "        writer.writerow(np.append(data[i],images[i]))\n",
    "    \n",
    "    # Chiudo il file\n",
    "    f.close()"
   ]
  },
  {
   "cell_type": "markdown",
   "metadata": {},
   "source": [
    "<div style=\"background-color: white; border-bottom-left-radius: 15px; border-bottom-right-radius: 15px; width: 93%; padding: 2em 2em 0.2em 2em; font-family: Gill Sans, sans-serif; color:black;\"></div>"
   ]
  }
 ],
 "metadata": {
  "kernelspec": {
   "display_name": "Python 3.10.4 64-bit",
   "language": "python",
   "name": "python3"
  },
  "language_info": {
   "codemirror_mode": {
    "name": "ipython",
    "version": 3
   },
   "file_extension": ".py",
   "mimetype": "text/x-python",
   "name": "python",
   "nbconvert_exporter": "python",
   "pygments_lexer": "ipython3",
   "version": "3.10.4"
  },
  "orig_nbformat": 4,
  "vscode": {
   "interpreter": {
    "hash": "702afc27125c4b44e8d6e4d91e2be92deaff276ecbbea6cc8c365578c4a94287"
   }
  }
 },
 "nbformat": 4,
 "nbformat_minor": 2
}
