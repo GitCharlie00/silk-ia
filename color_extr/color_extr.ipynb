{
 "cells": [
  {
   "cell_type": "markdown",
   "metadata": {},
   "source": [
    "<div style=\"background-color : white; border-radius: 15px; width: 93%; padding: 2em; color: black; font-family: Gill Sans, sans-serif;\">\n",
    "<h1 style =\"text-align: center; color: black; font-family: Gill Sans, sans-serif;font-weight: 700;\"> Estrazione delle features dalle foto </h1>\n",
    "<h2>Indice</h2>\n",
    "\n",
    "<ol type=\"1\">\n",
    "    <li style=\"padding-bottom: 0.3em;\"><a href=\"#intro\">Acquisizione delle immagini</a>\n",
    "        <ul>\n",
    "            <li style=\"padding-top: 0.3em; padding-bottom: 0.3em;\">1.1 Processo di acquisizione</li>\n",
    "            <li>1.1 Descrizione delle immagini</li>\n",
    "        </ul>\n",
    "    </li>\n",
    "    <li style=\"padding-bottom: 0.3em;\"><a href=\"#intro\">Segmentazione delle immagini</a>\n",
    "        <ul>\n",
    "            <li style=\"padding-top: 0.3em; padding-bottom: 0.3em;\">2.1 Rimozione della rete</li>\n",
    "            <li style=\"padding-bottom: 0.3em;\">2.2 Rimozione dei bachi e dello sfondo</li>\n",
    "            <li style=\"padding-bottom: 0.3em;\">2.3 Rimozione delle foglie</li>\n",
    "            <li>2.4 Test delle immagini segmentate</li>\n",
    "        </ul>\n",
    "    </li>\n",
    "    <li style=\"padding-bottom: 0.3em;\"><a href=\"#intro\">Estrazioni delle features</a>\n",
    "        <ul>\n",
    "            <li style=\"padding-top: 0.3em; padding-bottom: 0.3em;\">3.1 Presenza delle foglie</li>\n",
    "            <li style=\"padding-bottom: 0.3em;\">3.2 Presenza dei bachi e dello sfondo</li>\n",
    "            <li>3.3 Assenza di elementi</li>\n",
    "        </ul>\n",
    "    </li>\n",
    "    <li style=\"padding-bottom: 0.3em;\"><a href=\"#intro\">Creazione del dataset</a>\n",
    "        <ul>\n",
    "            <li style=\"padding-top: 0.3em; padding-bottom: 0.3em;\">4.1 Popolazione del dataset con feature e target</li>\n",
    "            <li>4.2 Esportazione dataset in file csv</li>\n",
    "        </ul>\n",
    "    </li>\n",
    "</div>"
   ]
  },
  {
   "cell_type": "markdown",
   "metadata": {},
   "source": [
    "<div style=\"background-color: white; border-radius: 15px; width: 93%; padding: 2em 2em 0.2em 2em; font-family: Gill Sans, sans-serif;\">\n",
    "    <a id=\"#intro\" style=\"text-decoration:none; color: black;\"><h3 style=\"font-weight:700;\"> 1. Acquisizione delle immagini </h3></a>\n",
    "    <h3 style=\"color:black\"> 1.1 Processo di acquisizione </h3>\n",
    "    <p style=\"color:black\">\n",
    "        Il processo di acquisizione è stato effettuato nella maniera più simile possibile a quella della futura applicazione del sistema. La fotocamera è stata posizionata prima a circa 45° rispetto al piano del letto dei bachi e successivamente a 90°. Quest'ultima era posizionata su un supporto treppiedi a circa 80-100cm dal letto dei bachi.\n",
    "    </p>\n",
    "    <span style=\"display:flex; flex-direction:row; gap: 5%; align-items: center; justify-content: center; align-content:center;\">\n",
    "        <img src=\"./notebook_pic/camera-pos-1.jpg\" style=\"width: 53%;\">\n",
    "        <img src=\"./notebook_pic/camera-pos-2.jpg\" style=\"width: 40%;\">\n",
    "    </span>\n",
    "    <h3 style=\"color:black\"> 1.2 Descrizione delle immagini </h3>\n",
    "    <p style=\"color:black\">\n",
    "        Sono state acquisite 1351 immagini. Quest'ultime a volte diversi livelli di luminosità. Infatti, nonostante l'uso del flash, la luce naturale entrate dalla finestra affianco ai letti, illuminava quest'ultimi sopratutto verso l'alba. Tuttavia ciò non ha portato troppe problematiche nella formazione del dataset. Il background delle foto (al di fuori del letto) non varia quasi mai. Analizzando le immaggini si possono definire due classi: i bachi hanno bisogno di essere nutriti con altre foglie (<i>Figura 1 e 2</i>), i bachi non necessitano di altre foglie (<i>Figura 3 e 4</i>).\n",
    "    </p>\n",
    "    <span style=\"display:flex; flex-direction:row; align-items: center; justify-content: center; align-content:center;\">\n",
    "        <figure style=\"width: 53%;\">\n",
    "            <img src=\"./notebook_pic/es1.jpg\">\n",
    "            <figcaption style=\"text-align:center; color:black;\"><i>Figura 1</i></figcaption>\n",
    "        </figure>\n",
    "        <figure style=\"width: 53%;\">\n",
    "            <img src=\"./notebook_pic/es3.jpg\">\n",
    "            <figcaption style=\"text-align:center; color:black;\"><i>Figura 2</i></figcaption>\n",
    "        </figure>\n",
    "    </span>\n",
    "    <p style=\"color:black\">\n",
    "        Risulta evidente come il discriminante tra i due casi sia la quantità di verde (presenza di foglie) e la quantità di bianco (presenza di bachi e fondo del letto).\n",
    "    </p>\n",
    "</div>"
   ]
  },
  {
   "cell_type": "code",
   "execution_count": null,
   "metadata": {},
   "outputs": [],
   "source": []
  }
 ],
 "metadata": {
  "kernelspec": {
   "display_name": "Python 3.10.4 64-bit",
   "language": "python",
   "name": "python3"
  },
  "language_info": {
   "name": "python",
   "version": "3.10.4"
  },
  "orig_nbformat": 4,
  "vscode": {
   "interpreter": {
    "hash": "702afc27125c4b44e8d6e4d91e2be92deaff276ecbbea6cc8c365578c4a94287"
   }
  }
 },
 "nbformat": 4,
 "nbformat_minor": 2
}
