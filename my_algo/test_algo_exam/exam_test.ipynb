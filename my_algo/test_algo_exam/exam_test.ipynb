{
 "cells": [
  {
   "cell_type": "markdown",
   "metadata": {},
   "source": [
    "<div style=\"background-color : white; border-radius: 15px; width: 93%; padding: 2em; color: black; font-family: Gill Sans, sans-serif;\">\n",
    "<h1 style =\"text-align: center; color: black; font-family: Gill Sans, sans-serif;font-weight: 700;\"> Test della Logistic Regression implementata su dataset ammissione college</h1>\n",
    "<h2>Indice</h2>\n",
    "\n",
    "<ol type=\"1\">\n",
    "    <li style=\"padding-top: 0.3em; padding-bottom: 0.3em;\"><a href=\"#intro\">Modello implementato</a></li>\n",
    "    <li style=\"padding-top: 0.3em; padding-bottom: 0.3em;\"><a href=\"#struttura\">Preparazione dataset</a>\n",
    "        <ul>\n",
    "            <li style=\"padding-top: 0.3em; padding-bottom: 0.3em;\">2.1 Caricamento del dataset</li>\n",
    "            <li style=\"padding-bottom: 0.3em;\">2.2 Divisione del dataset in train e test set</li>\n",
    "            <li style=\"padding-bottom: 0.3em;\">2.3 Manipolazione dei dati</li>\n",
    "            <li>2.4 Normalizzazione dei dati</li>\n",
    "        </ul>\n",
    "    </li>\n",
    "    <li style=\"padding-top: 0.3em; padding-bottom: 0.3em;\"><a href=\"#grafici\">Applicazione del modello</a>\n",
    "        <ul>\n",
    "            <li style=\"padding-top: 0.3em; padding-bottom: 0.3em;\">3.1 Allenamento del modello</li>\n",
    "            <li>3.2 Risultati del modello allenato</li>\n",
    "        </ul>\n",
    "    </li>\n",
    "    <li style=\"padding-top: 0.3em; padding-bottom: 0.3em;\"><a href=\"#conclusioni\">Valutazione del modello</a></li>\n",
    "        <ul>\n",
    "            <li style=\"padding-top: 0.3em; padding-bottom: 0.3em;\">4.1 Metrica d'errore</li>\n",
    "            <li style=\"padding-bottom: 0.3em;\">4.2 Confusion Matrix</li>\n",
    "            <li style=\"padding-bottom: 0.3em;\">4.3 Curva precision e recall</li>\n",
    "            <li>4.4 Curva ROC e AUC</li>\n",
    "        </ul>\n",
    "    </li>\n",
    "</ol>\n",
    "</div>"
   ]
  },
  {
   "cell_type": "markdown",
   "metadata": {},
   "source": [
    "<div style=\"background-color: white; border-top-left-radius: 15px; border-top-right-radius: 15px; width: 93%; padding: 2em 2em 0.2em 2em; font-family: Gill Sans, sans-serif;\">\n",
    "    <a id=\"#intro\" style=\"text-decoration:none; color: black;\"><h3 style=\"font-weight:700;\"> 1. Modello implementato </h3></a>\n",
    "</div>"
   ]
  },
  {
   "cell_type": "code",
   "execution_count": 158,
   "metadata": {},
   "outputs": [],
   "source": [
    "import numpy as np\n",
    "import pandas as pd\n",
    "from sklearn.model_selection import train_test_split\n",
    "from sklearn.preprocessing import StandardScaler\n",
    "from sklearn.metrics import confusion_matrix, precision_recall_curve, f1_score, roc_curve, roc_auc_score\n",
    "import seaborn as sns\n",
    "import matplotlib.pyplot as plt\n",
    "\n",
    "def logistic(z):\n",
    "    den = 1 + np.exp(-z)\n",
    "    sigm = 1.0/den\n",
    "    return sigm\n",
    "\n",
    "def hyp(W,X):\n",
    "    param = np.dot(W,X.T)\n",
    "    return logistic(param)\n",
    "\n",
    "def cost(W,X,Y):\n",
    "    m = X.shape[0]\n",
    "    h = hyp(W,X)\n",
    "    log_h = np.log(h)\n",
    "    log_one_h = np.log(1-h)\n",
    "    l_cost = float((-1.0/m) * ((np.dot(log_h,Y)) + (np.dot(log_one_h,(1-Y)))))\n",
    "    return l_cost\n",
    "\n",
    "def gradient_ascent(X,W,Y,alpha,stop):\n",
    "    m,n = X.shape\n",
    "    cost_old = np.inf\n",
    "    cost_new = cost(W,X,Y)\n",
    "    print(cost_old - cost(W,X,Y))\n",
    "    sum = 0\n",
    "    iter = 0\n",
    "\n",
    "    while(abs(cost_old-cost_new) > stop):\n",
    "        for j in range(0,n):\n",
    "            for i in range(0,m):\n",
    "                sum += (Y[i][0] - hyp(W,X[i])) * X[i][j]\n",
    "            W[0][j] = W[0][j] + (alpha/m) * sum\n",
    "        cost_old = cost_new\n",
    "        cost_new = cost(W,X,Y)\n",
    "        print(cost_old - cost(W,X,Y))\n",
    "        iter += 1\n",
    "\n",
    "    print(W)\n",
    "    return iter  \n",
    "\n",
    "def prediction(W,X,Y):\n",
    "    m = X.shape[0]\n",
    "    h = hyp(X, W)\n",
    "    Y_hat = h > 0.5\n",
    "    accuracy = 1.0/m * np.sum(Y == Y_hat)\n",
    "    return accuracy, Y_hat, h"
   ]
  },
  {
   "cell_type": "markdown",
   "metadata": {},
   "source": [
    "<div style=\"background-color: white; border-bottom-left-radius:15px; border-bottom-right-radius:15px; width:93%; padding:2em 2em 0.2em 2em; font-family:Gill Sans, sans-serif;\">\n",
    "</div>"
   ]
  },
  {
   "cell_type": "markdown",
   "metadata": {},
   "source": [
    "<div style=\"background-color: white; border-top-left-radius: 15px; border-top-right-radius: 15px; width: 93%; padding: 2em 2em 0.2em 2em; font-family: Gill Sans, sans-serif;\">\n",
    "    <a id=\"#intro\" style=\"text-decoration:none; color: black;\"><h3 style=\"font-weight:700;\"> 2. Preparazione del dataset </h3></a>\n",
    "    <h4 style=\"color:black\"> 2.1 Caricamento del dataset </h4>\n",
    "</div>"
   ]
  },
  {
   "cell_type": "code",
   "execution_count": 159,
   "metadata": {},
   "outputs": [],
   "source": [
    "# Carico il dataset\n",
    "path = './ex2data1.txt'\n",
    "data = pd.read_csv(path, header=None, names=[\"Ex1\",\"Ex2\",\"classificazione\"])"
   ]
  },
  {
   "cell_type": "markdown",
   "metadata": {},
   "source": [
    "<div style=\"background-color: white; width: 93%; padding: 2em 2em 0.2em 2em; font-family: Gill Sans, sans-serif;\">\n",
    "    <h4 style=\"color: black;\"> 2.2 Divisione del dataset in train e test set </h4>\n",
    "</div>"
   ]
  },
  {
   "cell_type": "code",
   "execution_count": 160,
   "metadata": {},
   "outputs": [],
   "source": [
    "# Creo train e test set\n",
    "X_train, X_test, Y_train, Y_test = train_test_split(data[[\"Ex1\",\"Ex2\"]], data[['classificazione']], test_size=0.23)"
   ]
  },
  {
   "cell_type": "markdown",
   "metadata": {},
   "source": [
    "<div style=\"background-color: white; width: 93%; padding: 2em 2em 0.2em 2em; font-family: Gill Sans, sans-serif;\">\n",
    "    <h4 style=\"color: black;\"> 2.3 Manipolazione dei dati </h4>\n",
    "    <ul style=\"color: black;\">\n",
    "        <li>Tutti i set sono convertiti in array np</li>\n",
    "        <li>Alle features virne aggiunto il bias della funzione d'ipotesi (θ<sub>0</sub>)</li>\n",
    "        <li>Viene inizializzato il vettore dei pesi</li>\n",
    "    </ul>\n",
    "</div>"
   ]
  },
  {
   "cell_type": "code",
   "execution_count": 161,
   "metadata": {},
   "outputs": [],
   "source": [
    "Y_train = Y_train.to_numpy()\n",
    "Y_test = Y_test.to_numpy()\n",
    "\n",
    "m_tr, n_tr = X_train.shape\n",
    "X_train = np.concatenate((np.ones((m_tr,1)), X_train), axis=1)\n",
    "n_tr +=1\n",
    "\n",
    "m_te, n_te = X_test.shape\n",
    "X_test = np.concatenate((np.ones((m_te,1)), X_test), axis=1)\n",
    "n_te += 1\n",
    "\n",
    "W = np.array(np.zeros((1,n_te)))"
   ]
  },
  {
   "cell_type": "markdown",
   "metadata": {},
   "source": [
    "<div style=\"background-color: white; width: 93%; padding: 2em 2em 0.2em 2em; font-family: Gill Sans, sans-serif;\">\n",
    "    <h4 style=\"color: black;\"> 2.4 Normalizzazione dei dati </h4>\n",
    "</div>"
   ]
  },
  {
   "cell_type": "code",
   "execution_count": 162,
   "metadata": {},
   "outputs": [],
   "source": [
    "# Normalizzo i dati\n",
    "sc = StandardScaler()\n",
    "X_train = sc.fit_transform(X_train)\n",
    "X_test = sc.fit_transform(X_test)"
   ]
  },
  {
   "cell_type": "markdown",
   "metadata": {},
   "source": [
    "<div style=\"background-color: white; border-bottom-left-radius:15px; border-bottom-right-radius:15px; width:93%; padding:2em 2em 0.2em 2em; font-family:Gill Sans, sans-serif;\">\n",
    "</div>"
   ]
  },
  {
   "cell_type": "markdown",
   "metadata": {},
   "source": [
    "<div style=\"background-color: white; border-top-left-radius: 15px; border-top-right-radius: 15px; width: 93%; padding: 2em 2em 0.2em 2em; font-family: Gill Sans, sans-serif;\">\n",
    "    <a id=\"#intro\" style=\"text-decoration:none; color: black;\"><h3 style=\"font-weight:700;\"> 3. Applicazione del modello </h3></a>\n",
    "    <h4 style=\"color:black\"> 3.1 Allenamento del modello</h4>\n",
    "</div>"
   ]
  },
  {
   "cell_type": "code",
   "execution_count": 163,
   "metadata": {},
   "outputs": [
    {
     "name": "stdout",
     "output_type": "stream",
     "text": [
      "inf\n",
      "0.0023042336807321817\n",
      "0.0053171001730110135\n",
      "0.008223862433536566\n",
      "0.01096348658283941\n",
      "0.013478774495607526\n",
      "0.01571818951896642\n",
      "0.017637868971401183\n",
      "0.019203713207281425\n",
      "0.02039334350207589\n",
      "0.02119763903238503\n",
      "0.02162153022204738\n",
      "0.021683773023854047\n",
      "0.021415567986055428\n",
      "0.020858096098645806\n",
      "0.020059262278622314\n",
      "0.019070094741269306\n",
      "0.017941291721774777\n",
      "0.016720328467912493\n",
      "0.015449375502375962\n",
      "0.014164095227765738\n",
      "0.012893232412032662\n",
      "0.011658823356087533\n",
      "0.01047681943149431\n",
      "0.009357936666424482\n",
      "0.008308582835475198\n",
      "0.007331759445234953\n",
      "0.006427877253872949\n",
      "0.00559545583929838\n",
      "0.004831699656509203\n",
      "0.004132956487468531\n",
      "0.003495071331006072\n",
      "0.0029136516470809615\n",
      "0.0023842600927218016\n",
      "0.0019025496426518518\n",
      "0.0014643540590801862\n",
      "[[2.23096902 2.26771789 2.32398127]]\n"
     ]
    },
    {
     "data": {
      "text/plain": [
       "35"
      ]
     },
     "execution_count": 163,
     "metadata": {},
     "output_type": "execute_result"
    }
   ],
   "source": [
    "gradient_ascent(X_train,W,Y_train,0.01,0.0015)"
   ]
  },
  {
   "cell_type": "markdown",
   "metadata": {},
   "source": [
    "<div style=\"background-color: white; width: 93%; padding: 2em 2em 0.2em 2em; font-family: Gill Sans, sans-serif;\">\n",
    "    <h4 style=\"color: black;\"> 3.2 Risultati del modello allenato </h4>\n",
    "    <p style=\"color: black;\">Train accurancy dell'esercitazione: 0,89</p>\n",
    "</div>"
   ]
  },
  {
   "cell_type": "code",
   "execution_count": 164,
   "metadata": {},
   "outputs": [
    {
     "name": "stdout",
     "output_type": "stream",
     "text": [
      "### MyLog:\n",
      "\tAccuracy of training: 0.8701298701298702\n",
      "\tAccuracy of test: 0.8260869565217391\n",
      "### MyLog:\n",
      "\tError rate of training: 0.1298701298701298\n",
      "\tError rate of test: 0.17391304347826086\n"
     ]
    }
   ],
   "source": [
    "train_accurancy, train_predictions, train_prob_predictions = prediction(W,X_train,Y_train)\n",
    "test_accurancy, test_predictions, test_prob_predictions = prediction(W,X_test,Y_test)\n",
    "\n",
    "print(\"### MyLog:\\n\\tAccuracy of training: \" + str(train_accurancy)+\"\\n\\tAccuracy of test: \" + str(test_accurancy))\n",
    "print(\"### MyLog:\\n\\tError rate of training: \" + str(1 - train_accurancy)+\"\\n\\tError rate of test: \" + str(1 - test_accurancy))"
   ]
  },
  {
   "cell_type": "markdown",
   "metadata": {},
   "source": [
    "<div style=\"background-color: white; border-bottom-left-radius:15px; border-bottom-right-radius:15px; width:93%; padding:2em 2em 0.2em 2em; font-family:Gill Sans, sans-serif;\">\n",
    "</div>"
   ]
  },
  {
   "cell_type": "markdown",
   "metadata": {},
   "source": [
    "<div style=\"background-color: white; border-top-left-radius: 15px; border-top-right-radius: 15px; width: 93%; padding: 2em 2em 0.2em 2em; font-family: Gill Sans, sans-serif;\">\n",
    "    <a id=\"#intro\" style=\"text-decoration:none; color: black;\"><h3 style=\"font-weight:700;\"> 4. Valutazione del modello </h3></a>\n",
    "    <h4 style=\"color:black\"> 4.1 Metrica d'errore</h4>\n",
    "</div>"
   ]
  },
  {
   "cell_type": "code",
   "execution_count": 165,
   "metadata": {},
   "outputs": [
    {
     "name": "stdout",
     "output_type": "stream",
     "text": [
      "Error rate di un classificatore che predice solo 0:  0.4\n",
      "Accuracy di un classificatore che predice solo 0:  0.6\n"
     ]
    }
   ],
   "source": [
    "# metric_error = #valori classe 0 / #valori classi\n",
    "metric_error = len(data[data.classificazione == 0]) / len(data)\n",
    "metric_accurancy = 1 - metric_error\n",
    "\n",
    "print(\"Error rate di un classificatore che predice solo 0: \", metric_error)\n",
    "print(\"Accuracy di un classificatore che predice solo 0: \", metric_accurancy)"
   ]
  },
  {
   "cell_type": "markdown",
   "metadata": {},
   "source": [
    "<div style=\"background-color: white; width: 93%; padding: 2em 2em 0.2em 2em; font-family: Gill Sans, sans-serif;\">\n",
    "    <h4 style=\"color: black;\"> 4.2 Confusion Matrix </h4>\n",
    "</div>"
   ]
  },
  {
   "cell_type": "code",
   "execution_count": 166,
   "metadata": {},
   "outputs": [
    {
     "data": {
      "image/png": "[encoded data removed]",
      "text/plain": [
       "<Figure size 432x288 with 2 Axes>"
      ]
     },
     "metadata": {},
     "output_type": "display_data"
    }
   ],
   "source": [
    "cm = confusion_matrix(Y_test, test_predictions)\n",
    "plt.figure()\n",
    "sns.set(font_scale=1.5)\n",
    "hm = sns.heatmap( cm, cbar=True, annot=True, square=True, fmt='.2f', annot_kws={'size': 15}, yticklabels=['No', 'Yes'], xticklabels=['No', 'Yes'])\n",
    "plt.title('Confusion Matrix TEST')\n",
    "plt.ylabel('default')\n",
    "plt.xlabel('prediction')\n",
    "plt.show()"
   ]
  },
  {
   "cell_type": "markdown",
   "metadata": {},
   "source": [
    "<div style=\"background-color: white; width: 93%; padding: 2em 2em 0.2em 2em; font-family: Gill Sans, sans-serif;\">\n",
    "    <h4 style=\"color: black;\"> 4.3 Curva precision e recall </h4>\n",
    "</div>"
   ]
  },
  {
   "cell_type": "code",
   "execution_count": 167,
   "metadata": {},
   "outputs": [
    {
     "data": {
      "image/png": "[encoded data removed]",
      "text/plain": [
       "<Figure size 432x288 with 1 Axes>"
      ]
     },
     "metadata": {},
     "output_type": "display_data"
    },
    {
     "name": "stdout",
     "output_type": "stream",
     "text": [
      "Precision:  0.6363636363636364\n",
      "Recall:  1.0\n",
      "f1-score:  0.8461538461538461\n"
     ]
    }
   ],
   "source": [
    "precision, recall, thresholds = precision_recall_curve(Y_test, test_prob_predictions)\n",
    "plt.figure()\n",
    "plt.plot(recall, precision)\n",
    "plt.title(\"Precision-Recall Curve: Logit\")\n",
    "plt.xlabel(\"Recall\")\n",
    "plt.ylabel(\"Precision\")\n",
    "plt.show()\n",
    "\n",
    "print(\"Precision: \", precision[1])\n",
    "print(\"Recall: \", recall[1])\n",
    "print(\"f1-score: \", f1_score(Y_test, test_predictions))"
   ]
  },
  {
   "cell_type": "markdown",
   "metadata": {},
   "source": [
    "<div style=\"background-color: white; width: 93%; padding: 2em 2em 0.2em 2em; font-family: Gill Sans, sans-serif;\">\n",
    "    <h4 style=\"color: black;\"> 4.2 Curva ROC e AUC </h4>\n",
    "</div>"
   ]
  },
  {
   "cell_type": "code",
   "execution_count": 169,
   "metadata": {},
   "outputs": [
    {
     "data": {
      "image/png": "[encoded data removed]",
      "text/plain": [
       "<Figure size 432x288 with 1 Axes>"
      ]
     },
     "metadata": {},
     "output_type": "display_data"
    },
    {
     "name": "stdout",
     "output_type": "stream",
     "text": [
      "AUC:  0.8373015873015871\n"
     ]
    }
   ],
   "source": [
    "fpr, tpr, thresholds = roc_curve(Y_test, test_prob_predictions)\n",
    "plt.figure()\n",
    "plt.plot(fpr, tpr)\n",
    "plt.title(\"ROC: Logit\")\n",
    "plt.xlabel(\"False Positive Rate\")\n",
    "plt.ylabel(\"True Positive Rate\")\n",
    "plt.show()\n",
    "\n",
    "print (\"AUC: \", roc_auc_score(Y_test, test_predictions))"
   ]
  },
  {
   "cell_type": "markdown",
   "metadata": {},
   "source": [
    "<div style=\"background-color: white; border-bottom-left-radius:15px; border-bottom-right-radius:15px; width:93%; padding:2em 2em 0.2em 2em; font-family:Gill Sans, sans-serif;\">\n",
    "</div>"
   ]
  }
 ],
 "metadata": {
  "kernelspec": {
   "display_name": "Python 3.10.4 64-bit",
   "language": "python",
   "name": "python3"
  },
  "language_info": {
   "codemirror_mode": {
    "name": "ipython",
    "version": 3
   },
   "file_extension": ".py",
   "mimetype": "text/x-python",
   "name": "python",
   "nbconvert_exporter": "python",
   "pygments_lexer": "ipython3",
   "version": "3.10.4"
  },
  "orig_nbformat": 4,
  "vscode": {
   "interpreter": {
    "hash": "702afc27125c4b44e8d6e4d91e2be92deaff276ecbbea6cc8c365578c4a94287"
   }
  }
 },
 "nbformat": 4,
 "nbformat_minor": 2
}
