{
 "cells": [
  {
   "cell_type": "markdown",
   "metadata": {},
   "source": [
    "# Test del mio algoritmo sul dataset di classificazione mail spam"
   ]
  },
  {
   "cell_type": "markdown",
   "metadata": {},
   "source": [
    "### 0) Importo le librerie necessarie"
   ]
  },
  {
   "cell_type": "code",
   "execution_count": 2,
   "metadata": {},
   "outputs": [],
   "source": [
    "import numpy as np\n",
    "import pandas as pd\n",
    "from sklearn.model_selection import train_test_split, learning_curve\n",
    "from sklearn.preprocessing import StandardScaler\n",
    "from sklearn.metrics import confusion_matrix, precision_recall_curve, f1_score, roc_curve, roc_auc_score\n",
    "import seaborn as sns\n",
    "import matplotlib.pyplot as plt"
   ]
  },
  {
   "cell_type": "markdown",
   "metadata": {},
   "source": [
    "### 1) Sigmoid o Logistic function\n",
    "Per effettuare la classificazione serve una funzione con codominio [0,1]. Infatti la predizione si baserà sulla probabilità della stima di appartenere ad una o all'altra classe"
   ]
  },
  {
   "cell_type": "code",
   "execution_count": 3,
   "metadata": {},
   "outputs": [],
   "source": [
    "def logistic(z):\n",
    "    den = 1 + np.exp(-z)\n",
    "    sigm = 1.0/den\n",
    "    return sigm"
   ]
  },
  {
   "cell_type": "markdown",
   "metadata": {},
   "source": [
    "### 2) Funzione di ipotesi\n",
    "Per approssimare una probabilità, la funzione di costo sarà basta sulla funzione logisitca"
   ]
  },
  {
   "cell_type": "code",
   "execution_count": 4,
   "metadata": {},
   "outputs": [],
   "source": [
    "def hyp(W,X):\n",
    "    param = np.dot(W,X.T)\n",
    "    return logistic(param)"
   ]
  },
  {
   "cell_type": "markdown",
   "metadata": {},
   "source": [
    "### 3) Funzione di costo\n",
    "Da massimizzare nello step di ottimizzazione. IN particolare il logaritmo della funzione di coston"
   ]
  },
  {
   "cell_type": "code",
   "execution_count": 5,
   "metadata": {},
   "outputs": [],
   "source": [
    "def cost(W,X,Y):\n",
    "    m = X.shape[0]\n",
    "    h = hyp(W,X)\n",
    "    log_h = np.log(h)\n",
    "    log_one_h = np.log(1-h)\n",
    "    l_cost = float((-1.0/m) * ((np.dot(log_h,Y)) + (np.dot(log_one_h,(1-Y)))))\n",
    "    return l_cost"
   ]
  },
  {
   "cell_type": "markdown",
   "metadata": {},
   "source": [
    "### 4) Carico e preparo i dati"
   ]
  },
  {
   "cell_type": "code",
   "execution_count": 6,
   "metadata": {},
   "outputs": [
    {
     "data": {
      "text/html": [
       "<div>\n",
       "<style scoped>\n",
       "    .dataframe tbody tr th:only-of-type {\n",
       "        vertical-align: middle;\n",
       "    }\n",
       "\n",
       "    .dataframe tbody tr th {\n",
       "        vertical-align: top;\n",
       "    }\n",
       "\n",
       "    .dataframe thead th {\n",
       "        text-align: right;\n",
       "    }\n",
       "</style>\n",
       "<table border=\"1\" class=\"dataframe\">\n",
       "  <thead>\n",
       "    <tr style=\"text-align: right;\">\n",
       "      <th></th>\n",
       "      <th>age</th>\n",
       "      <th>sex</th>\n",
       "      <th>cp</th>\n",
       "      <th>trtbps</th>\n",
       "      <th>chol</th>\n",
       "      <th>fbs</th>\n",
       "      <th>restecg</th>\n",
       "      <th>thalachh</th>\n",
       "      <th>exng</th>\n",
       "      <th>oldpeak</th>\n",
       "      <th>slp</th>\n",
       "      <th>caa</th>\n",
       "      <th>thall</th>\n",
       "      <th>output</th>\n",
       "    </tr>\n",
       "  </thead>\n",
       "  <tbody>\n",
       "    <tr>\n",
       "      <th>0</th>\n",
       "      <td>63</td>\n",
       "      <td>1</td>\n",
       "      <td>3</td>\n",
       "      <td>145</td>\n",
       "      <td>233</td>\n",
       "      <td>1</td>\n",
       "      <td>0</td>\n",
       "      <td>150</td>\n",
       "      <td>0</td>\n",
       "      <td>2.3</td>\n",
       "      <td>0</td>\n",
       "      <td>0</td>\n",
       "      <td>1</td>\n",
       "      <td>1</td>\n",
       "    </tr>\n",
       "    <tr>\n",
       "      <th>1</th>\n",
       "      <td>37</td>\n",
       "      <td>1</td>\n",
       "      <td>2</td>\n",
       "      <td>130</td>\n",
       "      <td>250</td>\n",
       "      <td>0</td>\n",
       "      <td>1</td>\n",
       "      <td>187</td>\n",
       "      <td>0</td>\n",
       "      <td>3.5</td>\n",
       "      <td>0</td>\n",
       "      <td>0</td>\n",
       "      <td>2</td>\n",
       "      <td>1</td>\n",
       "    </tr>\n",
       "    <tr>\n",
       "      <th>2</th>\n",
       "      <td>41</td>\n",
       "      <td>0</td>\n",
       "      <td>1</td>\n",
       "      <td>130</td>\n",
       "      <td>204</td>\n",
       "      <td>0</td>\n",
       "      <td>0</td>\n",
       "      <td>172</td>\n",
       "      <td>0</td>\n",
       "      <td>1.4</td>\n",
       "      <td>2</td>\n",
       "      <td>0</td>\n",
       "      <td>2</td>\n",
       "      <td>1</td>\n",
       "    </tr>\n",
       "    <tr>\n",
       "      <th>3</th>\n",
       "      <td>56</td>\n",
       "      <td>1</td>\n",
       "      <td>1</td>\n",
       "      <td>120</td>\n",
       "      <td>236</td>\n",
       "      <td>0</td>\n",
       "      <td>1</td>\n",
       "      <td>178</td>\n",
       "      <td>0</td>\n",
       "      <td>0.8</td>\n",
       "      <td>2</td>\n",
       "      <td>0</td>\n",
       "      <td>2</td>\n",
       "      <td>1</td>\n",
       "    </tr>\n",
       "    <tr>\n",
       "      <th>4</th>\n",
       "      <td>57</td>\n",
       "      <td>0</td>\n",
       "      <td>0</td>\n",
       "      <td>120</td>\n",
       "      <td>354</td>\n",
       "      <td>0</td>\n",
       "      <td>1</td>\n",
       "      <td>163</td>\n",
       "      <td>1</td>\n",
       "      <td>0.6</td>\n",
       "      <td>2</td>\n",
       "      <td>0</td>\n",
       "      <td>2</td>\n",
       "      <td>1</td>\n",
       "    </tr>\n",
       "  </tbody>\n",
       "</table>\n",
       "</div>"
      ],
      "text/plain": [
       "   age  sex  cp  trtbps  chol  fbs  restecg  thalachh  exng  oldpeak  slp  \\\n",
       "0   63    1   3     145   233    1        0       150     0      2.3    0   \n",
       "1   37    1   2     130   250    0        1       187     0      3.5    0   \n",
       "2   41    0   1     130   204    0        0       172     0      1.4    2   \n",
       "3   56    1   1     120   236    0        1       178     0      0.8    2   \n",
       "4   57    0   0     120   354    0        1       163     1      0.6    2   \n",
       "\n",
       "   caa  thall  output  \n",
       "0    0      1       1  \n",
       "1    0      2       1  \n",
       "2    0      2       1  \n",
       "3    0      2       1  \n",
       "4    0      2       1  "
      ]
     },
     "execution_count": 6,
     "metadata": {},
     "output_type": "execute_result"
    }
   ],
   "source": [
    "# Carico il dataset\n",
    "path = './heart.csv'\n",
    "data = pd.read_csv(path)\n",
    "\n",
    "data.head()\n"
   ]
  },
  {
   "cell_type": "code",
   "execution_count": 7,
   "metadata": {},
   "outputs": [
    {
     "data": {
      "text/plain": [
       "age         0\n",
       "sex         0\n",
       "cp          0\n",
       "trtbps      0\n",
       "chol        0\n",
       "fbs         0\n",
       "restecg     0\n",
       "thalachh    0\n",
       "exng        0\n",
       "oldpeak     0\n",
       "slp         0\n",
       "caa         0\n",
       "thall       0\n",
       "output      0\n",
       "dtype: int64"
      ]
     },
     "execution_count": 7,
     "metadata": {},
     "output_type": "execute_result"
    }
   ],
   "source": [
    "\n",
    "data.isnull().sum()\n"
   ]
  },
  {
   "cell_type": "code",
   "execution_count": 8,
   "metadata": {},
   "outputs": [
    {
     "data": {
      "text/plain": [
       "(303, 14)"
      ]
     },
     "execution_count": 8,
     "metadata": {},
     "output_type": "execute_result"
    }
   ],
   "source": [
    "data.shape"
   ]
  },
  {
   "cell_type": "code",
   "execution_count": 9,
   "metadata": {},
   "outputs": [],
   "source": [
    "# Nomi delle features e del target\n",
    "colum_num = data.columns.shape[0]-1\n",
    "\n",
    "X_name = data.columns.values[0:colum_num-1].tolist()\n",
    "Y_name = [data.columns.values[colum_num]]"
   ]
  },
  {
   "cell_type": "code",
   "execution_count": 44,
   "metadata": {},
   "outputs": [],
   "source": [
    "\n",
    "# Creo train e test set\n",
    "X_train, X_test, Y_train, Y_test = train_test_split(data[X_name], data[Y_name], test_size=0.23)\n",
    "\n",
    "\n",
    "m_tr, n_tr = X_train.shape\n",
    "X_train = np.concatenate((np.ones((m_tr,1)), X_train), axis=1)\n",
    "n_tr +=1\n",
    "\n",
    "m_te, n_te = X_test.shape\n",
    "X_test = np.concatenate((np.ones((m_te,1)), X_test), axis=1)\n",
    "n_te += 1\n",
    "\n",
    "W = np.array(np.zeros((1,n_te)))\n",
    "#W = np.matrix(np.random.randn((n_te)))\n",
    "\n",
    "Y_train = Y_train.to_numpy()\n",
    "Y_test = Y_test.to_numpy()\n",
    "\n",
    "# Normalizzo i dati\n",
    "sc = StandardScaler()\n",
    "X_train = sc.fit_transform(X_train)\n",
    "X_test = sc.fit_transform(X_test)"
   ]
  },
  {
   "cell_type": "markdown",
   "metadata": {},
   "source": [
    "### 5) Fit dell'algoritmo con gradient ascent\n",
    "Cerco il punto di massimo della funzione di costo per trovare i pesi ottimi"
   ]
  },
  {
   "cell_type": "code",
   "execution_count": 46,
   "metadata": {},
   "outputs": [
    {
     "name": "stdout",
     "output_type": "stream",
     "text": [
      "inf\n",
      "0.0006032379189834236\n",
      "0.0006195655340661688\n",
      "0.0006344778124550698\n",
      "0.0006471421978661018\n",
      "0.0006568289658392956\n",
      "0.0006629476257499212\n",
      "0.0006650779703855081\n",
      "0.0006629942175083725\n",
      "0.0006566808506727195\n",
      "0.0006463390063226049\n",
      "0.0006323825795814253\n",
      "0.0006154236347601927\n",
      "0.0005962472024819698\n",
      "0.0005757761068612144\n",
      "0.0005550270653591483\n",
      "0.0005350599021277658\n",
      "0.0005169222660456052\n",
      "0.0005015926967462114\n",
      "0.0004899251868867305\n",
      "0.0004825985059114801\n",
      "0.00048007345220391073\n",
      "0.0004825608774738921\n",
      "0.00049000278992406\n",
      "0.0005020681213335765\n",
      "0.0005181638845764835\n",
      "0.0005374615111259917\n",
      "0.0005589372083081301\n",
      "0.0005814242794802693\n",
      "0.000603674568749546\n",
      "0.0006244255786306274\n",
      "0.0006424694062193703\n",
      "0.000656719479811052\n",
      "0.0006662711674716437\n",
      "0.0006704526702955294\n",
      "0.0006688631878475348\n",
      "0.0006613961171021421\n",
      "0.0006482459688025299\n",
      "0.0006298986931444484\n",
      "0.0006071061276691214\n",
      "0.0005808462388207092\n",
      "0.000552271653674552\n",
      "0.0005226496106313094\n",
      "0.000493296856326042\n",
      "0.0004655131624416997\n",
      "0.00044051703627445704\n",
      "0.0004193868807075285\n",
      "0.0004030103679607544\n",
      "0.0003920441827274246\n",
      "0.00038688562273525573\n",
      "0.00038765687280217787\n",
      "0.0003942021369890414\n",
      "0.0004060972543064034\n",
      "0.0004226709543904139\n",
      "0.00044303653528388054\n",
      "0.000466132459870261\n",
      "0.0004907701572678391\n",
      "0.0005156871636929905\n",
      "0.0005396036270157722\n",
      "0.0005612801167351744\n",
      "0.0005795746181579409\n",
      "0.000593496545315042\n",
      "0.0006022555884109826\n",
      "0.0006053032330617381\n",
      "0.000602364870961769\n",
      "0.0005934605895038247\n",
      "0.0005789130059007386\n",
      "0.0005593409198169086\n",
      "0.000535638108202896\n",
      "0.0005089372735456177\n",
      "0.0004805599604299493\n",
      "0.00045195413352361324\n",
      "0.0004246220021543179\n",
      "0.00040004150715422515\n",
      "0.0003795855721188124\n",
      "0.0003644436841170329\n",
      "0.0003555505425186789\n",
      "0.00035352635704044566\n",
      "0.00035863287605175653\n",
      "0.00037074840576378776\n",
      "0.0003893639932509574\n",
      "0.0004136016693264688\n",
      "0.0004422542746529423\n",
      "0.00047384502321501376\n",
      "0.0005067036870295416\n",
      "0.0005390551998397664\n",
      "0.0005691156457432456\n",
      "0.0005951900744072258\n",
      "0.0006157664028494381\n",
      "0.0006295998410993375\n",
      "0.0006357828119282205\n",
      "0.0006337961982305629\n",
      "0.0006235388973554468\n",
      "0.0006053340179549282\n",
      "0.0005799115285980427\n",
      "0.0005483686496045026\n",
      "0.0005121106551491117\n",
      "0.00047277591234129446\n",
      "0.0004321498375313704\n",
      "0.00039207293793230846\n",
      "0.0003543482073616877\n",
      "0.00032065287730931313\n",
      "0.00029245894313290055\n",
      "0.00027096607097787384\n",
      "0.00025704953866934055\n",
      "0.0002512248681636464\n",
      "0.00025362985168198016\n",
      "0.0002640238218416524\n",
      "0.00028180330761151673\n",
      "0.00030603266804174467\n",
      "0.0003354878988687249\n",
      "0.00036871154188733435\n",
      "0.00040407646225071314\n",
      "0.0004398561603247142\n",
      "0.0004742992198409901\n",
      "0.00050570543718087\n",
      "0.0005325011118828549\n",
      "0.0005533109022162197\n",
      "0.0005670235716805916\n",
      "0.0005728488952456701\n",
      "0.0005703629923805575\n",
      "0.0005595394499707806\n",
      "0.0005407638379349988\n",
      "0.000514829646046322\n",
      "0.00048291431267499796\n",
      "0.00044653488507873096\n",
      "0.0004074839284344822\n",
      "0.00036774753582613506\n",
      "0.0003294085988946316\n",
      "0.0002945397656473059\n",
      "0.00026509160798349196\n",
      "0.00024278231676433393\n",
      "0.00022899562552947117\n",
      "0.00022469356071397328\n",
      "0.00023035000139848272\n",
      "0.00024590993448381226\n",
      "0.00027077779139661473\n",
      "0.00030383646825515864\n",
      "0.0003434967031987757\n",
      "0.00038777455727412313\n",
      "0.0004343929536327895\n",
      "0.00048090168862624516\n",
      "0.0005248091282685774\n",
      "0.0005637180110653617\n",
      "0.0005954574382289746\n",
      "0.0006182032698601736\n",
      "0.0006305797655522527\n",
      "0.0006317363912361484\n",
      "0.0006213952130206257\n",
      "0.000599866131300697\n",
      "0.0005680292564469447\n",
      "0.0005272858411977666\n",
      "0.00047948119460616834\n",
      "0.00042680473676526276\n",
      "0.00037167366246737554\n",
      "0.00031660745842798654\n",
      "0.000264100715201554\n",
      "0.00021650131000150452\n",
      "0.0001759001902941204\n"
     ]
    },
    {
     "data": {
      "text/plain": [
       "158"
      ]
     },
     "execution_count": 46,
     "metadata": {},
     "output_type": "execute_result"
    }
   ],
   "source": [
    "def gradient_ascent(X,W,Y,alpha,stop):\n",
    "    m,n = X.shape\n",
    "    cost_old = np.inf\n",
    "    cost_new = cost(W,X,Y)\n",
    "    print(cost_old - cost(W,X,Y))\n",
    "    sum = 0\n",
    "    iter = 0\n",
    "\n",
    "    while(abs(cost_old-cost_new) > stop):\n",
    "        for j in range(0,n):\n",
    "            for i in range(0,m):\n",
    "                sum += (Y[i][0] - hyp(W,X[i])) * X[i][j]\n",
    "            W[0][j] = W[0][j] + (alpha/m) * sum\n",
    "        cost_old = cost_new\n",
    "        cost_new = cost(W,X,Y)\n",
    "        print(cost_old - cost(W,X,Y))\n",
    "        iter += 1\n",
    "\n",
    "    return iter  \n",
    "\n",
    "gradient_ascent(X_train,W,Y_train,0.005,0.00018)"
   ]
  },
  {
   "cell_type": "markdown",
   "metadata": {},
   "source": [
    "### 6) Model Assestement\n",
    "Miglior train accurancy (in base a progetti trovati su Kaggle): 0,90"
   ]
  },
  {
   "cell_type": "code",
   "execution_count": 47,
   "metadata": {},
   "outputs": [
    {
     "name": "stdout",
     "output_type": "stream",
     "text": [
      "### MyLog:\n",
      "\tAccuracy of training: 0.7339055793991416\n",
      "\tAccuracy of test: 0.7714285714285714\n",
      "### MyLog:\n",
      "\tError rate of training: 0.2660944206008584\n",
      "\tError rate of test: 0.22857142857142865\n"
     ]
    }
   ],
   "source": [
    "def prediction(W,X,Y):\n",
    "    m = X.shape[0]\n",
    "    h = hyp(X, W)\n",
    "    Y_hat = h > 0.5 \n",
    "    accuracy = 1.0/m * np.sum(Y == Y_hat)\n",
    "    return accuracy, Y_hat, h\n",
    "\n",
    "Y_hat_prob = prediction(W,X_test,Y_test)[2]\n",
    "\n",
    "print(\"### MyLog:\\n\\tAccuracy of training: \"+str(prediction(W,X_train,Y_train)[0])+\"\\n\\tAccuracy of test: \"+str(prediction(W,X_test,Y_test)[0]))\n",
    "print(\"### MyLog:\\n\\tError rate of training: \"+str(1 - prediction(W,X_train,Y_train)[0])+\"\\n\\tError rate of test: \"+str(1 - prediction(W,X_test,Y_test)[0]))"
   ]
  },
  {
   "cell_type": "markdown",
   "metadata": {},
   "source": [
    "#### - Metrica errore"
   ]
  },
  {
   "cell_type": "code",
   "execution_count": 48,
   "metadata": {},
   "outputs": [
    {
     "data": {
      "text/plain": [
       "(0.45544554455445546, 0.5445544554455446)"
      ]
     },
     "execution_count": 48,
     "metadata": {},
     "output_type": "execute_result"
    }
   ],
   "source": [
    "metric_error = len(data[data.output == 0]) / len(data)\n",
    "metric_accurancy = 1 - metric_error\n",
    "\n",
    "(metric_error,metric_accurancy)"
   ]
  },
  {
   "cell_type": "markdown",
   "metadata": {},
   "source": [
    "#### - Confusion Matrix"
   ]
  },
  {
   "cell_type": "code",
   "execution_count": 49,
   "metadata": {},
   "outputs": [
    {
     "data": {
      "image/png": "[encoded data removed]",
      "text/plain": [
       "<Figure size 432x288 with 2 Axes>"
      ]
     },
     "metadata": {},
     "output_type": "display_data"
    }
   ],
   "source": [
    "predictions = prediction(W,X_test,Y_test)[1]\n",
    "\n",
    "cm = confusion_matrix(Y_test, predictions)\n",
    "plt.figure()\n",
    "sns.set(font_scale=1.5)\n",
    "hm = sns.heatmap( cm, cbar=True, annot=True, square=True, fmt='.2f', annot_kws={'size': 15}, yticklabels=['No', 'Yes'], xticklabels=['No', 'Yes'])\n",
    "plt.title('Confusion Matrix TEST')\n",
    "plt.ylabel('default')\n",
    "plt.xlabel('prediction')\n",
    "plt.show()"
   ]
  },
  {
   "cell_type": "markdown",
   "metadata": {},
   "source": [
    "#### - Precision e Recall curve"
   ]
  },
  {
   "cell_type": "code",
   "execution_count": 50,
   "metadata": {},
   "outputs": [
    {
     "data": {
      "image/png": "[encoded data removed]",
      "text/plain": [
       "<Figure size 432x288 with 1 Axes>"
      ]
     },
     "metadata": {},
     "output_type": "display_data"
    },
    {
     "name": "stdout",
     "output_type": "stream",
     "text": [
      "Precision:  0.5797101449275363\n",
      "Recall:  1.0\n",
      "f1-score:  0.7837837837837837\n"
     ]
    }
   ],
   "source": [
    "precision, recall, thresholds = precision_recall_curve(Y_test, Y_hat_prob)\n",
    "plt.figure()\n",
    "plt.plot(recall, precision)\n",
    "plt.title(\"Precision-Recall Curve: Logit\")\n",
    "plt.xlabel(\"Recall\")\n",
    "plt.ylabel(\"Precision\")\n",
    "plt.show()\n",
    "\n",
    "print(\"Precision: \", precision[1])\n",
    "print(\"Recall: \", recall[1])\n",
    "print(\"f1-score: \", f1_score(Y_test, predictions))"
   ]
  },
  {
   "cell_type": "markdown",
   "metadata": {},
   "source": [
    "#### - ROC e AUC curves"
   ]
  },
  {
   "cell_type": "code",
   "execution_count": 51,
   "metadata": {},
   "outputs": [
    {
     "data": {
      "image/png": "[encoded data removed]",
      "text/plain": [
       "<Figure size 432x288 with 1 Axes>"
      ]
     },
     "metadata": {},
     "output_type": "display_data"
    },
    {
     "name": "stdout",
     "output_type": "stream",
     "text": [
      "AUC:  0.7791666666666668\n"
     ]
    }
   ],
   "source": [
    "fpr, tpr, thresholds = roc_curve(Y_test, Y_hat_prob)\n",
    "plt.figure()\n",
    "plt.plot(fpr, tpr)\n",
    "plt.title(\"ROC: Logit\")\n",
    "plt.xlabel(\"False Positive Rate\")\n",
    "plt.ylabel(\"True Positive Rate\")\n",
    "plt.show()\n",
    "\n",
    "print (\"AUC: \", roc_auc_score(Y_test, predictions))"
   ]
  }
 ],
 "metadata": {
  "kernelspec": {
   "display_name": "Python 3.10.4 64-bit",
   "language": "python",
   "name": "python3"
  },
  "language_info": {
   "codemirror_mode": {
    "name": "ipython",
    "version": 3
   },
   "file_extension": ".py",
   "mimetype": "text/x-python",
   "name": "python",
   "nbconvert_exporter": "python",
   "pygments_lexer": "ipython3",
   "version": "3.10.4"
  },
  "orig_nbformat": 4,
  "vscode": {
   "interpreter": {
    "hash": "702afc27125c4b44e8d6e4d91e2be92deaff276ecbbea6cc8c365578c4a94287"
   }
  }
 },
 "nbformat": 4,
 "nbformat_minor": 2
}
