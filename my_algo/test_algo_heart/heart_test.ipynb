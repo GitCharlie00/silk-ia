{
 "cells": [
  {
   "cell_type": "markdown",
   "metadata": {},
   "source": [
    "<div style=\"background-color : white; border-radius: 15px; width: 93%; padding: 2em; color: black; font-family: Gill Sans, sans-serif;\">\n",
    "<h1 style =\"text-align: center; color: black; font-family: Gill Sans, sans-serif;font-weight: 700;\"> Test del mio algoritmo sul dataset di classificazione mail spam</h1>\n",
    "<h2>Indice</h2>\n",
    "\n",
    "<ol type=\"1\">\n",
    "    <li style=\"padding-top: 0.3em; padding-bottom: 0.3em;\"><a href=\"#intro\">Modello implementato</a></li>\n",
    "    <li style=\"padding-top: 0.3em; padding-bottom: 0.3em;\"><a href=\"#struttura\">Preparazione dataset</a>\n",
    "        <ul>\n",
    "            <li style=\"padding-top: 0.3em; padding-bottom: 0.3em;\">2.1 Caricamento del dataset</li>\n",
    "            <li style=\"padding-bottom: 0.3em;\">2.2 Divisione del dataset in train e test set</li>\n",
    "            <li style=\"padding-bottom: 0.3em;\">2.3 Manipolazione dei dati</li>\n",
    "            <li>2.4 Normalizzazione dei dati</li>\n",
    "        </ul>\n",
    "    </li>\n",
    "    <li style=\"padding-top: 0.3em; padding-bottom: 0.3em;\"><a href=\"#grafici\">Applicazione del modello</a>\n",
    "        <ul>\n",
    "            <li style=\"padding-top: 0.3em; padding-bottom: 0.3em;\">3.1 Allenamento del modello</li>\n",
    "            <li>3.2 Risultati del modello allenato</li>\n",
    "        </ul>\n",
    "    </li>\n",
    "    <li style=\"padding-top: 0.3em; padding-bottom: 0.3em;\"><a href=\"#conclusioni\">Valutazione del modello</a></li>\n",
    "        <ul>\n",
    "            <li style=\"padding-top: 0.3em; padding-bottom: 0.3em;\">4.1 Metrica d'errore</li>\n",
    "            <li style=\"padding-bottom: 0.3em;\">4.2 Confusion Matrix</li>\n",
    "            <li style=\"padding-bottom: 0.3em;\">4.3 Curva precision e recall</li>\n",
    "            <li>4.4 Curva ROC e AUC</li>\n",
    "        </ul>\n",
    "    </li>\n",
    "</ol>\n",
    "</div>"
   ]
  },
  {
   "cell_type": "markdown",
   "metadata": {},
   "source": [
    "<div style=\"background-color: white; border-top-left-radius: 15px; border-top-right-radius: 15px; width: 93%; padding: 2em 2em 0.2em 2em; font-family: Gill Sans, sans-serif;\">\n",
    "    <a id=\"#intro\" style=\"text-decoration:none; color: black;\"><h3 style=\"font-weight:700;\"> 1. Modello implementato </h3></a>\n",
    "</div>"
   ]
  },
  {
   "cell_type": "code",
   "execution_count": 205,
   "metadata": {},
   "outputs": [],
   "source": [
    "import numpy as np\n",
    "import pandas as pd\n",
    "from sklearn.model_selection import train_test_split\n",
    "from sklearn.preprocessing import StandardScaler\n",
    "from sklearn.metrics import confusion_matrix, precision_recall_curve, f1_score, roc_curve, roc_auc_score\n",
    "import seaborn as sns\n",
    "import matplotlib.pyplot as plt\n",
    "\n",
    "def logistic(z):\n",
    "    den = 1 + np.exp(-z)\n",
    "    sigm = 1.0/den\n",
    "    return sigm\n",
    "\n",
    "def hyp(W,X):\n",
    "    param = np.dot(W,X.T)\n",
    "    return logistic(param)\n",
    "\n",
    "def cost(W,X,Y):\n",
    "    m = X.shape[0]\n",
    "    h = hyp(W,X)\n",
    "    log_h = np.log(h)\n",
    "    log_one_h = np.log(1-h)\n",
    "    l_cost = float((-1.0/m) * ((np.dot(log_h,Y)) + (np.dot(log_one_h,(1-Y)))))\n",
    "    return l_cost\n",
    "\n",
    "def gradient_ascent(X,W,Y,alpha,stop):\n",
    "    m,n = X.shape\n",
    "    cost_old = np.inf\n",
    "    cost_new = cost(W,X,Y)\n",
    "    print(cost_old - cost(W,X,Y))\n",
    "    sum = 0\n",
    "    iter = 0\n",
    "\n",
    "    while(abs(cost_old-cost_new) > stop):\n",
    "        for j in range(0,n):\n",
    "            for i in range(0,m):\n",
    "                sum += (Y[i][0] - hyp(W,X[i])) * X[i][j]\n",
    "            W[0][j] = W[0][j] + (alpha/m) * sum\n",
    "        cost_old = cost_new\n",
    "        cost_new = cost(W,X,Y)\n",
    "        print(cost_old - cost(W,X,Y))\n",
    "        iter += 1\n",
    "\n",
    "    print(W)\n",
    "    return iter  \n",
    "\n",
    "def prediction(W,X,Y):\n",
    "    m = X.shape[0]\n",
    "    h = hyp(X, W)\n",
    "    Y_hat = h > 0.5\n",
    "    accuracy = 1.0/m * np.sum(Y == Y_hat)\n",
    "    return accuracy, Y_hat, h"
   ]
  },
  {
   "cell_type": "markdown",
   "metadata": {},
   "source": [
    "<div style=\"background-color: white; border-bottom-left-radius:15px; border-bottom-right-radius:15px; width:93%; padding:2em 2em 0.2em 2em; font-family:Gill Sans, sans-serif;\">\n",
    "</div>"
   ]
  },
  {
   "cell_type": "markdown",
   "metadata": {},
   "source": [
    "<div style=\"background-color: white; border-top-left-radius: 15px; border-top-right-radius: 15px; width: 93%; padding: 2em 2em 0.2em 2em; font-family: Gill Sans, sans-serif;\">\n",
    "    <a id=\"#intro\" style=\"text-decoration:none; color: black;\"><h3 style=\"font-weight:700;\"> 2. Preparazione del dataset </h3></a>\n",
    "    <h4 style=\"color:black\"> 2.1 Caricamento del dataset </h4>\n",
    "</div>"
   ]
  },
  {
   "cell_type": "code",
   "execution_count": 206,
   "metadata": {},
   "outputs": [],
   "source": [
    "# Carico il dataset\n",
    "path = './heart.csv'\n",
    "data = pd.read_csv(path)\n"
   ]
  },
  {
   "cell_type": "markdown",
   "metadata": {},
   "source": [
    "<div style=\"background-color: white; width: 93%; padding: 2em 2em 0.2em 2em; font-family: Gill Sans, sans-serif;\">\n",
    "    <h4 style=\"color: black;\"> 2.2 Divisione del dataset in train e test set </h4>\n",
    "</div>"
   ]
  },
  {
   "cell_type": "code",
   "execution_count": 207,
   "metadata": {},
   "outputs": [],
   "source": [
    "# Nomi delle features e del target\n",
    "colum_num = data.columns.shape[0]-1\n",
    "\n",
    "X_name = data.columns.values[0:colum_num-1].tolist()\n",
    "Y_name = [data.columns.values[colum_num]]\n",
    "\n",
    "# Creo train e test set\n",
    "X_train, X_test, Y_train, Y_test = train_test_split(data[X_name], data[Y_name], test_size=0.23)"
   ]
  },
  {
   "cell_type": "markdown",
   "metadata": {},
   "source": [
    "<div style=\"background-color: white; width: 93%; padding: 2em 2em 0.2em 2em; font-family: Gill Sans, sans-serif;\">\n",
    "    <h4 style=\"color: black;\"> 2.3 Manipolazione dei dati </h4>\n",
    "    <ul style=\"color: black;\">\n",
    "        <li>Tutti i set sono convertiti in array np</li>\n",
    "        <li>Alle features virne aggiunto il bias della funzione d'ipotesi (θ<sub>0</sub>)</li>\n",
    "        <li>Viene inizializzato il vettore dei pesi</li>\n",
    "    </ul>\n",
    "</div>"
   ]
  },
  {
   "cell_type": "code",
   "execution_count": 208,
   "metadata": {},
   "outputs": [],
   "source": [
    "Y_train = Y_train.to_numpy()\n",
    "Y_test = Y_test.to_numpy()\n",
    "\n",
    "m_tr, n_tr = X_train.shape\n",
    "X_train = np.concatenate((np.ones((m_tr,1)), X_train), axis=1)\n",
    "n_tr +=1\n",
    "\n",
    "m_te, n_te = X_test.shape\n",
    "X_test = np.concatenate((np.ones((m_te,1)), X_test), axis=1)\n",
    "n_te += 1\n",
    "\n",
    "W = np.array(np.zeros((1,n_te)))"
   ]
  },
  {
   "cell_type": "markdown",
   "metadata": {},
   "source": [
    "<div style=\"background-color: white; width: 93%; padding: 2em 2em 0.2em 2em; font-family: Gill Sans, sans-serif;\">\n",
    "    <h4 style=\"color: black;\"> 2.4 Normalizzazione dei dati </h4>\n",
    "</div>"
   ]
  },
  {
   "cell_type": "code",
   "execution_count": 209,
   "metadata": {},
   "outputs": [],
   "source": [
    "# Normalizzo i dati\n",
    "sc = StandardScaler()\n",
    "X_train = sc.fit_transform(X_train)\n",
    "X_test = sc.fit_transform(X_test)"
   ]
  },
  {
   "cell_type": "markdown",
   "metadata": {},
   "source": [
    "<div style=\"background-color: white; border-bottom-left-radius:15px; border-bottom-right-radius:15px; width:93%; padding:2em 2em 0.2em 2em; font-family:Gill Sans, sans-serif;\">\n",
    "</div>"
   ]
  },
  {
   "cell_type": "markdown",
   "metadata": {},
   "source": [
    "<div style=\"background-color: white; border-top-left-radius: 15px; border-top-right-radius: 15px; width: 93%; padding: 2em 2em 0.2em 2em; font-family: Gill Sans, sans-serif;\">\n",
    "    <a id=\"#intro\" style=\"text-decoration:none; color: black;\"><h3 style=\"font-weight:700;\"> 3. Applicazione del modello </h3></a>\n",
    "    <h4 style=\"color:black\"> 3.1 Allenamento del modello</h4>\n",
    "</div>"
   ]
  },
  {
   "cell_type": "code",
   "execution_count": 211,
   "metadata": {},
   "outputs": [
    {
     "name": "stdout",
     "output_type": "stream",
     "text": [
      "inf\n",
      "0.0010616424510992983\n",
      "0.0011047399007175773\n",
      "0.0011402272924252443\n",
      "0.001163635299470167\n",
      "0.0011716274964264084\n",
      "0.001162374332353222\n",
      "0.0011357630642616634\n",
      "0.0010934200306952357\n",
      "0.001038545165769511\n",
      "0.0009755815830347903\n",
      "0.0009097619588971373\n",
      "0.0008465856727257748\n",
      "0.0007912849011285639\n",
      "0.0007483343413514643\n",
      "0.000721049526848816\n",
      "0.0007113052078898674\n",
      "0.0007193905982033622\n",
      "0.0007440046314870497\n",
      "0.0007823831554472083\n",
      "0.0008305417684080219\n",
      "0.0008836125763065361\n",
      "0.0009362498276236364\n",
      "0.0009830772969789958\n",
      "0.001019148657223079\n",
      "0.0010403904438928135\n",
      "0.0010439955745753515\n",
      "0.0010287342587361747\n",
      "0.0009951495192105364\n",
      "0.0009456077572899124\n",
      "0.0008841821517987514\n",
      "0.0008163590906745677\n",
      "0.0007485752874721863\n",
      "0.0006876144255599792\n",
      "0.0006399143556709008\n",
      "0.0006108551683479124\n",
      "0.0006041106168901411\n",
      "0.0006211468138724863\n",
      "0.0006609410298588081\n",
      "0.0007199703207377839\n",
      "0.0007924875044196256\n",
      "0.0008710653544230507\n",
      "0.0009473542084266207\n",
      "0.001012968725296548\n",
      "0.0010604005291250385\n",
      "0.0010838478022806575\n",
      "0.0010798616845353326\n",
      "0.001047731842849342\n",
      "0.0009895669843766886\n",
      "0.000910065636299473\n",
      "0.000816012079431716\n",
      "0.0007155655003937555\n",
      "0.0006174319820255736\n",
      "0.0005300160885656213\n",
      "0.00046064180462845883\n",
      "0.00041491454145548\n",
      "0.0003962716506836772\n",
      "0.0004057435131807896\n",
      "0.0004419249704022965\n",
      "0.0005011401130692317\n",
      "0.0005777728886304789\n",
      "0.0006647308139674513\n",
      "0.0007540075745824382\n",
      "0.0008373104627407146\n",
      "0.0009067186693649809\n",
      "0.0009553371683281853\n",
      "0.000977907869153638\n",
      "0.0009713353315655704\n",
      "0.0009350800570557816\n",
      "0.0008713704849092618\n",
      "0.0007851881554125084\n",
      "0.000683991824558916\n",
      "0.0005771674100941704\n",
      "0.0004752212977878756\n",
      "0.00038877171458595594\n",
      "0.00032743065460139054\n",
      "0.00029869934351622884\n",
      "0.000307015556976431\n",
      "0.00035308573934789145\n",
      "0.00043360749464838033\n",
      "0.0005414421059979357\n",
      "0.0006662395318193237\n",
      "0.0007954588611422952\n",
      "0.0009156742358255032\n",
      "0.00101401685883995\n",
      "0.0010795828812278918\n",
      "0.001104637610963688\n",
      "0.0010854694399989873\n",
      "0.0010227904132271703\n",
      "0.0009216394894685509\n",
      "0.0007908108094069055\n",
      "0.0006418916954220588\n",
      "0.00048804247997968897\n",
      "0.00034267429705936436\n",
      "0.000218178792092516\n",
      "0.00012483860835577065\n",
      "7.000760416897567e-05\n",
      "[[-0.22268825 -0.29422785 -0.36709539 -0.10904105 -0.16369354 -0.19733803\n",
      "  -0.14283878 -0.07511509  0.13519396 -0.08031279 -0.28217588 -0.07745855\n",
      "  -0.19978121]]\n"
     ]
    },
    {
     "data": {
      "text/plain": [
       "96"
      ]
     },
     "execution_count": 211,
     "metadata": {},
     "output_type": "execute_result"
    }
   ],
   "source": [
    "gradient_ascent(X_train,W,Y_train,0.01,0.0001)"
   ]
  },
  {
   "cell_type": "markdown",
   "metadata": {},
   "source": [
    "<div style=\"background-color: white; width: 93%; padding: 2em 2em 0.2em 2em; font-family: Gill Sans, sans-serif;\">\n",
    "    <h4 style=\"color: black;\"> 3.2 Risultati del modello allenato </h4>\n",
    "</div>"
   ]
  },
  {
   "cell_type": "code",
   "execution_count": 213,
   "metadata": {},
   "outputs": [
    {
     "name": "stdout",
     "output_type": "stream",
     "text": [
      "### MyLog:\n",
      "\tAccuracy of training: 0.7467811158798283\n",
      "\tAccuracy of test: 0.7285714285714285\n",
      "### MyLog:\n",
      "\tError rate of training: 0.2532188841201717\n",
      "\tError rate of test: 0.27142857142857146\n"
     ]
    }
   ],
   "source": [
    "train_accurancy, train_predictions, train_prob_predictions = prediction(W,X_train,Y_train)\n",
    "test_accurancy, test_predictions, test_prob_predictions = prediction(W,X_test,Y_test)\n",
    "\n",
    "print(\"### MyLog:\\n\\tAccuracy of training: \" + str(train_accurancy)+\"\\n\\tAccuracy of test: \" + str(test_accurancy))\n",
    "print(\"### MyLog:\\n\\tError rate of training: \" + str(1 - train_accurancy)+\"\\n\\tError rate of test: \" + str(1 - test_accurancy))"
   ]
  },
  {
   "cell_type": "markdown",
   "metadata": {},
   "source": [
    "<div style=\"background-color: white; border-bottom-left-radius:15px; border-bottom-right-radius:15px; width:93%; padding:2em 2em 0.2em 2em; font-family:Gill Sans, sans-serif;\">\n",
    "</div>"
   ]
  },
  {
   "cell_type": "markdown",
   "metadata": {},
   "source": [
    "<div style=\"background-color: white; border-top-left-radius: 15px; border-top-right-radius: 15px; width: 93%; padding: 2em 2em 0.2em 2em; font-family: Gill Sans, sans-serif;\">\n",
    "    <a id=\"#intro\" style=\"text-decoration:none; color: black;\"><h3 style=\"font-weight:700;\"> 4. Valutazione del modello </h3></a>\n",
    "    <h4 style=\"color:black\"> 4.1 Metrica d'errore</h4>\n",
    "</div>"
   ]
  },
  {
   "cell_type": "code",
   "execution_count": 118,
   "metadata": {},
   "outputs": [
    {
     "name": "stdout",
     "output_type": "stream",
     "text": [
      "Error rate di un classificatore che predice solo 0:  0.45544554455445546\n",
      "Accuracy di un classificatore che predice solo 0:  0.5445544554455446\n"
     ]
    }
   ],
   "source": [
    "# metric_error = #valori classe 0 / #valori classi\n",
    "metric_error = len(data[data.output == 0]) / len(data)\n",
    "metric_accurancy = 1 - metric_error\n",
    "\n",
    "print(\"Error rate di un classificatore che predice solo 0: \", metric_error)\n",
    "print(\"Accuracy di un classificatore che predice solo 0: \", metric_accurancy)"
   ]
  },
  {
   "cell_type": "markdown",
   "metadata": {},
   "source": [
    "<div style=\"background-color: white; width: 93%; padding: 2em 2em 0.2em 2em; font-family: Gill Sans, sans-serif;\">\n",
    "    <h4 style=\"color: black;\"> 4.2 Confusion Matrix </h4>\n",
    "</div>"
   ]
  },
  {
   "cell_type": "code",
   "execution_count": 214,
   "metadata": {},
   "outputs": [
    {
     "data": {
      "image/png": "[encoded data removed]",
      "text/plain": [
       "<Figure size 432x288 with 2 Axes>"
      ]
     },
     "metadata": {
      "needs_background": "light"
     },
     "output_type": "display_data"
    }
   ],
   "source": [
    "cm = confusion_matrix(Y_test, test_predictions)\n",
    "plt.figure()\n",
    "sns.set(font_scale=1.5)\n",
    "hm = sns.heatmap( cm, cbar=True, annot=True, square=True, fmt='.2f', annot_kws={'size': 15}, yticklabels=['No', 'Yes'], xticklabels=['No', 'Yes'])\n",
    "plt.title('Confusion Matrix TEST')\n",
    "plt.ylabel('default')\n",
    "plt.xlabel('prediction')\n",
    "plt.show()"
   ]
  },
  {
   "cell_type": "markdown",
   "metadata": {},
   "source": [
    "<div style=\"background-color: white; width: 93%; padding: 2em 2em 0.2em 2em; font-family: Gill Sans, sans-serif;\">\n",
    "    <h4 style=\"color: black;\"> 4.3 Curva precision e recall </h4>\n",
    "</div>"
   ]
  },
  {
   "cell_type": "code",
   "execution_count": 215,
   "metadata": {},
   "outputs": [
    {
     "data": {
      "image/png": "[encoded data removed]",
      "text/plain": [
       "<Figure size 432x288 with 1 Axes>"
      ]
     },
     "metadata": {},
     "output_type": "display_data"
    },
    {
     "name": "stdout",
     "output_type": "stream",
     "text": [
      "Precision:  0.5507246376811594\n",
      "Recall:  1.0\n",
      "f1-score:  0.7466666666666667\n"
     ]
    }
   ],
   "source": [
    "precision, recall, thresholds = precision_recall_curve(Y_test, test_prob_predictions)\n",
    "plt.figure()\n",
    "plt.plot(recall, precision)\n",
    "plt.title(\"Precision-Recall Curve: Logit\")\n",
    "plt.xlabel(\"Recall\")\n",
    "plt.ylabel(\"Precision\")\n",
    "plt.show()\n",
    "\n",
    "print(\"Precision: \", precision[1])\n",
    "print(\"Recall: \", recall[1])\n",
    "print(\"f1-score: \", f1_score(Y_test, test_predictions))"
   ]
  },
  {
   "cell_type": "markdown",
   "metadata": {},
   "source": [
    "<div style=\"background-color: white; width: 93%; padding: 2em 2em 0.2em 2em; font-family: Gill Sans, sans-serif;\">\n",
    "    <h4 style=\"color: black;\"> 4.2 Curva ROC e AUC </h4>\n",
    "</div>"
   ]
  },
  {
   "cell_type": "code",
   "execution_count": 216,
   "metadata": {},
   "outputs": [
    {
     "data": {
      "image/png": "[encoded data removed]",
      "text/plain": [
       "<Figure size 432x288 with 1 Axes>"
      ]
     },
     "metadata": {},
     "output_type": "display_data"
    },
    {
     "name": "stdout",
     "output_type": "stream",
     "text": [
      "AUC:  0.7277960526315789\n"
     ]
    }
   ],
   "source": [
    "fpr, tpr, thresholds = roc_curve(Y_test, test_prob_predictions)\n",
    "plt.figure()\n",
    "plt.plot(fpr, tpr)\n",
    "plt.title(\"ROC: Logit\")\n",
    "plt.xlabel(\"False Positive Rate\")\n",
    "plt.ylabel(\"True Positive Rate\")\n",
    "plt.show()\n",
    "\n",
    "print (\"AUC: \", roc_auc_score(Y_test, test_predictions))"
   ]
  },
  {
   "cell_type": "markdown",
   "metadata": {},
   "source": [
    "<div style=\"background-color: white; border-bottom-left-radius:15px; border-bottom-right-radius:15px; width:93%; padding:2em 2em 0.2em 2em; font-family:Gill Sans, sans-serif;\">\n",
    "</div>"
   ]
  }
 ],
 "metadata": {
  "kernelspec": {
   "display_name": "Python 3.10.4 64-bit",
   "language": "python",
   "name": "python3"
  },
  "language_info": {
   "codemirror_mode": {
    "name": "ipython",
    "version": 3
   },
   "file_extension": ".py",
   "mimetype": "text/x-python",
   "name": "python",
   "nbconvert_exporter": "python",
   "pygments_lexer": "ipython3",
   "version": "3.10.4"
  },
  "orig_nbformat": 4,
  "vscode": {
   "interpreter": {
    "hash": "702afc27125c4b44e8d6e4d91e2be92deaff276ecbbea6cc8c365578c4a94287"
   }
  }
 },
 "nbformat": 4,
 "nbformat_minor": 2
}
