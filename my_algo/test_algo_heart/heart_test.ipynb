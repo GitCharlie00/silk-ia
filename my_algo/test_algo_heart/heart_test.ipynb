{
 "cells": [
  {
   "cell_type": "markdown",
   "metadata": {},
   "source": [
    "# Test del mio algoritmo sul dataset di classificazione mail spam"
   ]
  },
  {
   "cell_type": "markdown",
   "metadata": {},
   "source": [
    "### 0) Importo le librerie necessarie"
   ]
  },
  {
   "cell_type": "code",
   "execution_count": 19,
   "metadata": {},
   "outputs": [],
   "source": [
    "import numpy as np\n",
    "import pandas as pd\n",
    "from sklearn.model_selection import train_test_split, learning_curve\n",
    "from sklearn.preprocessing import StandardScaler\n",
    "from sklearn.metrics import confusion_matrix, precision_recall_curve, f1_score, roc_curve, roc_auc_score\n",
    "import seaborn as sns\n",
    "import matplotlib.pyplot as plt"
   ]
  },
  {
   "cell_type": "markdown",
   "metadata": {},
   "source": [
    "### 1) Sigmoid o Logistic function\n",
    "Per effettuare la classificazione serve una funzione con codominio [0,1]. Infatti la predizione si baserà sulla probabilità della stima di appartenere ad una o all'altra classe"
   ]
  },
  {
   "cell_type": "code",
   "execution_count": 20,
   "metadata": {},
   "outputs": [],
   "source": [
    "def logistic(z):\n",
    "    den = 1 + np.exp(-z)\n",
    "    sigm = 1.0/den\n",
    "    return sigm"
   ]
  },
  {
   "cell_type": "markdown",
   "metadata": {},
   "source": [
    "### 2) Funzione di ipotesi\n",
    "Per approssimare una probabilità, la funzione di costo sarà basta sulla funzione logisitca"
   ]
  },
  {
   "cell_type": "code",
   "execution_count": 21,
   "metadata": {},
   "outputs": [],
   "source": [
    "def hyp(W,X):\n",
    "    param = np.dot(W,X.T)\n",
    "    return logistic(param)"
   ]
  },
  {
   "cell_type": "markdown",
   "metadata": {},
   "source": [
    "### 3) Funzione di costo\n",
    "Da massimizzare nello step di ottimizzazione. IN particolare il logaritmo della funzione di coston"
   ]
  },
  {
   "cell_type": "code",
   "execution_count": 22,
   "metadata": {},
   "outputs": [],
   "source": [
    "def cost(W,X,Y):\n",
    "    m = X.shape[0]\n",
    "    h = hyp(W,X)\n",
    "    log_h = np.log(h)\n",
    "    log_one_h = np.log(1-h)\n",
    "    l_cost = float((-1.0/m) * ((np.dot(log_h,Y)) + (np.dot(log_one_h,(1-Y)))))\n",
    "    return l_cost"
   ]
  },
  {
   "cell_type": "markdown",
   "metadata": {},
   "source": [
    "### 4) Carico e preparo i dati"
   ]
  },
  {
   "cell_type": "code",
   "execution_count": 23,
   "metadata": {},
   "outputs": [
    {
     "data": {
      "text/html": [
       "<div>\n",
       "<style scoped>\n",
       "    .dataframe tbody tr th:only-of-type {\n",
       "        vertical-align: middle;\n",
       "    }\n",
       "\n",
       "    .dataframe tbody tr th {\n",
       "        vertical-align: top;\n",
       "    }\n",
       "\n",
       "    .dataframe thead th {\n",
       "        text-align: right;\n",
       "    }\n",
       "</style>\n",
       "<table border=\"1\" class=\"dataframe\">\n",
       "  <thead>\n",
       "    <tr style=\"text-align: right;\">\n",
       "      <th></th>\n",
       "      <th>age</th>\n",
       "      <th>sex</th>\n",
       "      <th>cp</th>\n",
       "      <th>trtbps</th>\n",
       "      <th>chol</th>\n",
       "      <th>fbs</th>\n",
       "      <th>restecg</th>\n",
       "      <th>thalachh</th>\n",
       "      <th>exng</th>\n",
       "      <th>oldpeak</th>\n",
       "      <th>slp</th>\n",
       "      <th>caa</th>\n",
       "      <th>thall</th>\n",
       "      <th>output</th>\n",
       "    </tr>\n",
       "  </thead>\n",
       "  <tbody>\n",
       "    <tr>\n",
       "      <th>0</th>\n",
       "      <td>63</td>\n",
       "      <td>1</td>\n",
       "      <td>3</td>\n",
       "      <td>145</td>\n",
       "      <td>233</td>\n",
       "      <td>1</td>\n",
       "      <td>0</td>\n",
       "      <td>150</td>\n",
       "      <td>0</td>\n",
       "      <td>2.3</td>\n",
       "      <td>0</td>\n",
       "      <td>0</td>\n",
       "      <td>1</td>\n",
       "      <td>1</td>\n",
       "    </tr>\n",
       "    <tr>\n",
       "      <th>1</th>\n",
       "      <td>37</td>\n",
       "      <td>1</td>\n",
       "      <td>2</td>\n",
       "      <td>130</td>\n",
       "      <td>250</td>\n",
       "      <td>0</td>\n",
       "      <td>1</td>\n",
       "      <td>187</td>\n",
       "      <td>0</td>\n",
       "      <td>3.5</td>\n",
       "      <td>0</td>\n",
       "      <td>0</td>\n",
       "      <td>2</td>\n",
       "      <td>1</td>\n",
       "    </tr>\n",
       "    <tr>\n",
       "      <th>2</th>\n",
       "      <td>41</td>\n",
       "      <td>0</td>\n",
       "      <td>1</td>\n",
       "      <td>130</td>\n",
       "      <td>204</td>\n",
       "      <td>0</td>\n",
       "      <td>0</td>\n",
       "      <td>172</td>\n",
       "      <td>0</td>\n",
       "      <td>1.4</td>\n",
       "      <td>2</td>\n",
       "      <td>0</td>\n",
       "      <td>2</td>\n",
       "      <td>1</td>\n",
       "    </tr>\n",
       "    <tr>\n",
       "      <th>3</th>\n",
       "      <td>56</td>\n",
       "      <td>1</td>\n",
       "      <td>1</td>\n",
       "      <td>120</td>\n",
       "      <td>236</td>\n",
       "      <td>0</td>\n",
       "      <td>1</td>\n",
       "      <td>178</td>\n",
       "      <td>0</td>\n",
       "      <td>0.8</td>\n",
       "      <td>2</td>\n",
       "      <td>0</td>\n",
       "      <td>2</td>\n",
       "      <td>1</td>\n",
       "    </tr>\n",
       "    <tr>\n",
       "      <th>4</th>\n",
       "      <td>57</td>\n",
       "      <td>0</td>\n",
       "      <td>0</td>\n",
       "      <td>120</td>\n",
       "      <td>354</td>\n",
       "      <td>0</td>\n",
       "      <td>1</td>\n",
       "      <td>163</td>\n",
       "      <td>1</td>\n",
       "      <td>0.6</td>\n",
       "      <td>2</td>\n",
       "      <td>0</td>\n",
       "      <td>2</td>\n",
       "      <td>1</td>\n",
       "    </tr>\n",
       "  </tbody>\n",
       "</table>\n",
       "</div>"
      ],
      "text/plain": [
       "   age  sex  cp  trtbps  chol  fbs  restecg  thalachh  exng  oldpeak  slp  \\\n",
       "0   63    1   3     145   233    1        0       150     0      2.3    0   \n",
       "1   37    1   2     130   250    0        1       187     0      3.5    0   \n",
       "2   41    0   1     130   204    0        0       172     0      1.4    2   \n",
       "3   56    1   1     120   236    0        1       178     0      0.8    2   \n",
       "4   57    0   0     120   354    0        1       163     1      0.6    2   \n",
       "\n",
       "   caa  thall  output  \n",
       "0    0      1       1  \n",
       "1    0      2       1  \n",
       "2    0      2       1  \n",
       "3    0      2       1  \n",
       "4    0      2       1  "
      ]
     },
     "execution_count": 23,
     "metadata": {},
     "output_type": "execute_result"
    }
   ],
   "source": [
    "# Carico il dataset\n",
    "path = './heart.csv'\n",
    "data = pd.read_csv(path)\n",
    "\n",
    "data.head()\n"
   ]
  },
  {
   "cell_type": "code",
   "execution_count": 24,
   "metadata": {},
   "outputs": [
    {
     "data": {
      "text/plain": [
       "age         0\n",
       "sex         0\n",
       "cp          0\n",
       "trtbps      0\n",
       "chol        0\n",
       "fbs         0\n",
       "restecg     0\n",
       "thalachh    0\n",
       "exng        0\n",
       "oldpeak     0\n",
       "slp         0\n",
       "caa         0\n",
       "thall       0\n",
       "output      0\n",
       "dtype: int64"
      ]
     },
     "execution_count": 24,
     "metadata": {},
     "output_type": "execute_result"
    }
   ],
   "source": [
    "\n",
    "data.isnull().sum()\n"
   ]
  },
  {
   "cell_type": "code",
   "execution_count": 25,
   "metadata": {},
   "outputs": [
    {
     "data": {
      "text/plain": [
       "(303, 14)"
      ]
     },
     "execution_count": 25,
     "metadata": {},
     "output_type": "execute_result"
    }
   ],
   "source": [
    "data.shape"
   ]
  },
  {
   "cell_type": "code",
   "execution_count": 26,
   "metadata": {},
   "outputs": [],
   "source": [
    "# Nomi delle features e del target\n",
    "colum_num = data.columns.shape[0]-1\n",
    "\n",
    "X_name = data.columns.values[0:colum_num-1].tolist()\n",
    "Y_name = [data.columns.values[colum_num]]"
   ]
  },
  {
   "cell_type": "code",
   "execution_count": 27,
   "metadata": {},
   "outputs": [
    {
     "data": {
      "text/plain": [
       "((233, 13), (233, 1), (1, 13))"
      ]
     },
     "execution_count": 27,
     "metadata": {},
     "output_type": "execute_result"
    }
   ],
   "source": [
    "\n",
    "# Creo train e test set\n",
    "X_train, X_test, Y_train, Y_test = train_test_split(data[X_name], data[Y_name], test_size=0.23)\n",
    "\n",
    "\n",
    "m_tr, n_tr = X_train.shape\n",
    "X_train = np.concatenate((np.ones((m_tr,1)), X_train), axis=1)\n",
    "n_tr +=1\n",
    "\n",
    "m_te, n_te = X_test.shape\n",
    "X_test = np.concatenate((np.ones((m_te,1)), X_test), axis=1)\n",
    "n_te += 1\n",
    "\n",
    "W = np.array(np.zeros((1,n_te)))\n",
    "#W = np.matrix(np.random.randn((n_te)))\n",
    "\n",
    "Y_train = Y_train.to_numpy()\n",
    "Y_test = Y_test.to_numpy()\n",
    "\n",
    "# Normalizzo i dati\n",
    "sc = StandardScaler()\n",
    "X_train = sc.fit_transform(X_train)\n",
    "X_test = sc.fit_transform(X_test)\n",
    "\n",
    "#cost(W,X_train,Y_train)\n",
    "X_train.shape, Y_train.shape, W.shape"
   ]
  },
  {
   "cell_type": "markdown",
   "metadata": {},
   "source": [
    "### 5) Fit dell'algoritmo con gradient ascent\n",
    "Cerco il punto di massimo della funzione di costo per trovare i pesi ottimi"
   ]
  },
  {
   "cell_type": "code",
   "execution_count": 28,
   "metadata": {},
   "outputs": [
    {
     "name": "stdout",
     "output_type": "stream",
     "text": [
      "inf\n",
      "2.0396035341763152e-06\n"
     ]
    },
    {
     "data": {
      "text/plain": [
       "array([[ 0.00000000e+00, -1.09308539e-06, -2.54683376e-06,\n",
       "        -3.45783529e-07, -1.17864837e-06, -1.55784074e-06,\n",
       "        -1.73519153e-06, -9.27388177e-07,  1.33093971e-06,\n",
       "        -8.67781850e-07, -2.95284481e-06, -1.24633992e-06,\n",
       "        -3.18706592e-06]])"
      ]
     },
     "execution_count": 28,
     "metadata": {},
     "output_type": "execute_result"
    }
   ],
   "source": [
    "def gradient_ascent(X,W,Y,alpha,stop):\n",
    "    m,n = X.shape\n",
    "    cost_old = np.inf\n",
    "    cost_new = cost(W,X,Y)\n",
    "    print(cost_old - cost(W,X,Y))\n",
    "    sum = 0\n",
    "    iter = 0\n",
    "\n",
    "    while(abs(cost_old-cost_new) > stop):\n",
    "        for j in range(0,n):\n",
    "            for i in range(0,m):\n",
    "                sum += (Y[i][0] - hyp(W,X[i])) * X[i][j]\n",
    "            W[0][j] = W[0][j] + (alpha/m) * sum\n",
    "        cost_old = cost_new\n",
    "        cost_new = cost(W,X,Y)\n",
    "        print(cost_old - cost(W,X,Y))\n",
    "        iter += 1\n",
    "\n",
    "    return iter  \n",
    "\n",
    "gradient_ascent(X_train,W,Y_train,0.00001,0.01)\n",
    "W"
   ]
  },
  {
   "cell_type": "markdown",
   "metadata": {},
   "source": [
    "### 6) Model Assestement\n",
    "Miglior train accurancy (in base a progetti trovati su Kaggle): 0,90"
   ]
  },
  {
   "cell_type": "code",
   "execution_count": 29,
   "metadata": {},
   "outputs": [
    {
     "name": "stdout",
     "output_type": "stream",
     "text": [
      "### MyLog:\n",
      "\tAccuracy of training: 0.7896995708154506\n",
      "\tAccuracy of test: 0.7285714285714285\n",
      "### MyLog:\n",
      "\tError rate of training: 0.2103004291845494\n",
      "\tError rate of test: 0.27142857142857146\n"
     ]
    }
   ],
   "source": [
    "def prediction(W,X,Y):\n",
    "    m = X.shape[0]\n",
    "    h = hyp(X, W)\n",
    "    Y_hat = h > 0.5 \n",
    "    accuracy = 1.0/m * np.sum(Y == Y_hat)\n",
    "    return accuracy, Y_hat, h\n",
    "\n",
    "Y_hat_prob = prediction(W,X_test,Y_test)[2]\n",
    "\n",
    "print(\"### MyLog:\\n\\tAccuracy of training: \"+str(prediction(W,X_train,Y_train)[0])+\"\\n\\tAccuracy of test: \"+str(prediction(W,X_test,Y_test)[0]))\n",
    "print(\"### MyLog:\\n\\tError rate of training: \"+str(1 - prediction(W,X_train,Y_train)[0])+\"\\n\\tError rate of test: \"+str(1 - prediction(W,X_test,Y_test)[0]))"
   ]
  },
  {
   "cell_type": "markdown",
   "metadata": {},
   "source": [
    "#### - Metrica errore"
   ]
  },
  {
   "cell_type": "code",
   "execution_count": 30,
   "metadata": {},
   "outputs": [
    {
     "data": {
      "text/plain": [
       "(0.45544554455445546, 0.5445544554455446)"
      ]
     },
     "execution_count": 30,
     "metadata": {},
     "output_type": "execute_result"
    }
   ],
   "source": [
    "metric_error = len(data[data.output == 0]) / len(data)\n",
    "metric_accurancy = 1 - metric_error\n",
    "\n",
    "(metric_error,metric_accurancy)"
   ]
  },
  {
   "cell_type": "markdown",
   "metadata": {},
   "source": [
    "#### - Confusion Matrix"
   ]
  },
  {
   "cell_type": "code",
   "execution_count": 31,
   "metadata": {},
   "outputs": [
    {
     "data": {
      "image/png": "[encoded data removed]",
      "text/plain": [
       "<Figure size 432x288 with 2 Axes>"
      ]
     },
     "metadata": {},
     "output_type": "display_data"
    }
   ],
   "source": [
    "predictions = prediction(W,X_test,Y_test)[1]\n",
    "\n",
    "cm = confusion_matrix(Y_test, predictions)\n",
    "plt.figure()\n",
    "sns.set(font_scale=1.5)\n",
    "hm = sns.heatmap( cm, cbar=True, annot=True, square=True, fmt='.2f', annot_kws={'size': 15}, yticklabels=['No', 'Yes'], xticklabels=['No', 'Yes'])\n",
    "plt.title('Confusion Matrix TEST')\n",
    "plt.ylabel('default')\n",
    "plt.xlabel('prediction')\n",
    "plt.show()"
   ]
  },
  {
   "cell_type": "markdown",
   "metadata": {},
   "source": [
    "#### - Precision e Recall curve"
   ]
  },
  {
   "cell_type": "code",
   "execution_count": 32,
   "metadata": {},
   "outputs": [
    {
     "data": {
      "image/png": "[encoded data removed]",
      "text/plain": [
       "<Figure size 432x288 with 1 Axes>"
      ]
     },
     "metadata": {},
     "output_type": "display_data"
    },
    {
     "name": "stdout",
     "output_type": "stream",
     "text": [
      "Precision:  0.6086956521739131\n",
      "Recall:  1.0\n",
      "f1-score:  0.759493670886076\n"
     ]
    }
   ],
   "source": [
    "precision, recall, thresholds = precision_recall_curve(Y_test, Y_hat_prob)\n",
    "plt.figure()\n",
    "plt.plot(recall, precision)\n",
    "plt.title(\"Precision-Recall Curve: Logit\")\n",
    "plt.xlabel(\"Recall\")\n",
    "plt.ylabel(\"Precision\")\n",
    "plt.show()\n",
    "\n",
    "print(\"Precision: \", precision[1])\n",
    "print(\"Recall: \", recall[1])\n",
    "print(\"f1-score: \", f1_score(Y_test, predictions))"
   ]
  },
  {
   "cell_type": "markdown",
   "metadata": {},
   "source": [
    "#### - ROC e AUC curves"
   ]
  },
  {
   "cell_type": "code",
   "execution_count": 33,
   "metadata": {},
   "outputs": [
    {
     "data": {
      "image/png": "[encoded data removed]",
      "text/plain": [
       "<Figure size 432x288 with 1 Axes>"
      ]
     },
     "metadata": {},
     "output_type": "display_data"
    },
    {
     "name": "stdout",
     "output_type": "stream",
     "text": [
      "AUC:  0.7321428571428572\n"
     ]
    }
   ],
   "source": [
    "fpr, tpr, thresholds = roc_curve(Y_test, Y_hat_prob)\n",
    "plt.figure()\n",
    "plt.plot(fpr, tpr)\n",
    "plt.title(\"ROC: Logit\")\n",
    "plt.xlabel(\"False Positive Rate\")\n",
    "plt.ylabel(\"True Positive Rate\")\n",
    "plt.show()\n",
    "\n",
    "print (\"AUC: \", roc_auc_score(Y_test, predictions))"
   ]
  },
  {
   "cell_type": "markdown",
   "metadata": {},
   "source": [
    "- Learning curve"
   ]
  },
  {
   "cell_type": "code",
   "execution_count": 34,
   "metadata": {},
   "outputs": [
    {
     "name": "stdout",
     "output_type": "stream",
     "text": [
      "[ 20  67 114 161 209]\n",
      "***************\n",
      "[[0.95       0.95       0.95       0.95       0.95       0.95\n",
      "  0.95       0.95       0.95       0.95      ]\n",
      " [0.92537313 0.94029851 0.91044776 0.97014925 0.97014925 0.97014925\n",
      "  0.97014925 0.97014925 0.97014925 0.97014925]\n",
      " [0.86842105 0.87719298 0.85964912 0.84210526 0.90350877 0.88596491\n",
      "  0.90350877 0.90350877 0.90350877 0.90350877]\n",
      " [0.85714286 0.86335404 0.85714286 0.83850932 0.88198758 0.86335404\n",
      "  0.86335404 0.85714286 0.85093168 0.85093168]\n",
      " [0.83732057 0.85645933 0.83732057 0.84210526 0.86124402 0.84210526\n",
      "  0.86602871 0.84688995 0.85645933 0.85167464]]\n",
      "***************\n",
      "[[0.83333333 0.83333333 0.875      0.86956522 0.65217391 0.73913043\n",
      "  0.69565217 0.65217391 0.73913043 0.69565217]\n",
      " [0.79166667 0.70833333 0.875      0.91304348 0.65217391 0.69565217\n",
      "  0.86956522 0.69565217 0.7826087  0.65217391]\n",
      " [0.83333333 0.79166667 0.91666667 0.91304348 0.65217391 0.7826087\n",
      "  0.82608696 0.69565217 0.82608696 0.60869565]\n",
      " [0.83333333 0.79166667 0.91666667 0.91304348 0.7826087  0.7826087\n",
      "  0.7826087  0.73913043 0.7826087  0.69565217]\n",
      " [0.83333333 0.875      0.91666667 0.91304348 0.7826087  0.82608696\n",
      "  0.73913043 0.7826087  0.73913043 0.69565217]]\n"
     ]
    },
    {
     "data": {
      "image/png": "[encoded data removed]",
      "text/plain": [
       "<Figure size 432x288 with 1 Axes>"
      ]
     },
     "metadata": {},
     "output_type": "display_data"
    }
   ],
   "source": [
    "from sklearn.linear_model import LogisticRegression\n",
    "import warnings\n",
    "warnings.filterwarnings('ignore')\n",
    "\n",
    "model_lr = LogisticRegression()\n",
    "lr = model_lr.fit(X_train, Y_train)\n",
    "predictions_lr = model_lr.predict(X_test)\n",
    "predictions_lr_scores = model_lr.predict_proba(X_test)[:,1]\n",
    "\n",
    "train_size, train_score, test_score = learning_curve(estimator=model_lr, X=X_train, y=Y_train, cv=10, scoring = None )\n",
    "\n",
    "print(train_size)\n",
    "print(\"***************\")\n",
    "print(train_score)\n",
    "print(\"***************\")\n",
    "print(test_score)\n",
    "\n",
    "train_loss_m = 1 - np.mean(train_score, axis=1)\n",
    "test_loss_m = 1- np.mean(test_score, axis=1)\n",
    "\n",
    "plt.plot(train_size, train_loss_m, 'o-', color=\"b\")\n",
    "plt.plot(train_size, test_loss_m, 'o-', color=\"r\")\n",
    "plt.legend(('Training score', 'Test score'), loc='best')\n",
    "plt.xlabel(\"Training Samples\")\n",
    "plt.ylabel(\"error/loss\")\n",
    "plt.title(\"Learning Curve for Logistic Regression\")\n",
    "plt.grid()\n",
    "\n",
    "plt.show()"
   ]
  },
  {
   "cell_type": "code",
   "execution_count": 38,
   "metadata": {},
   "outputs": [
    {
     "name": "stdout",
     "output_type": "stream",
     "text": [
      "inf\n",
      "2.928840573734881e-06\n",
      "inf\n",
      "2.0396035341763152e-06\n",
      "inf\n",
      "2.0396035341763152e-06\n",
      "inf\n",
      "2.0396035341763152e-06\n",
      "inf\n",
      "2.0396035341763152e-06\n",
      "[93, 304, 514, 725, 936]\n",
      "***************\n",
      "[[0.7956989247311829, 0.7956989247311829, 0.7956989247311829, 0.7956989247311829, 0.7956989247311829, 0.7956989247311829, 0.7956989247311829, 0.7956989247311829, 0.7956989247311829, 0.7956989247311829], [0.7896995708154506, 0.7896995708154506, 0.7896995708154506, 0.7896995708154506, 0.7896995708154506, 0.7896995708154506, 0.7896995708154506, 0.7896995708154506, 0.7896995708154506, 0.7896995708154506], [0.7896995708154506, 0.7896995708154506, 0.7896995708154506, 0.7896995708154506, 0.7896995708154506, 0.7896995708154506, 0.7896995708154506, 0.7896995708154506, 0.7896995708154506, 0.7896995708154506], [0.7896995708154506, 0.7896995708154506, 0.7896995708154506, 0.7896995708154506, 0.7896995708154506, 0.7896995708154506, 0.7896995708154506, 0.7896995708154506, 0.7896995708154506, 0.7896995708154506], [0.7896995708154506, 0.7896995708154506, 0.7896995708154506, 0.7896995708154506, 0.7896995708154506, 0.7896995708154506, 0.7896995708154506, 0.7896995708154506, 0.7896995708154506, 0.7896995708154506]]\n",
      "***************\n",
      "[[0.7571428571428571, 0.7571428571428571, 0.7571428571428571, 0.7571428571428571, 0.7571428571428571, 0.7571428571428571, 0.7571428571428571, 0.7571428571428571, 0.7571428571428571, 0.7571428571428571], [0.7285714285714285, 0.7285714285714285, 0.7285714285714285, 0.7285714285714285, 0.7285714285714285, 0.7285714285714285, 0.7285714285714285, 0.7285714285714285, 0.7285714285714285, 0.7285714285714285], [0.7285714285714285, 0.7285714285714285, 0.7285714285714285, 0.7285714285714285, 0.7285714285714285, 0.7285714285714285, 0.7285714285714285, 0.7285714285714285, 0.7285714285714285, 0.7285714285714285], [0.7285714285714285, 0.7285714285714285, 0.7285714285714285, 0.7285714285714285, 0.7285714285714285, 0.7285714285714285, 0.7285714285714285, 0.7285714285714285, 0.7285714285714285, 0.7285714285714285], [0.7285714285714285, 0.7285714285714285, 0.7285714285714285, 0.7285714285714285, 0.7285714285714285, 0.7285714285714285, 0.7285714285714285, 0.7285714285714285, 0.7285714285714285, 0.7285714285714285]]\n"
     ]
    },
    {
     "data": {
      "image/png": "[encoded data removed]",
      "text/plain": [
       "<Figure size 432x288 with 1 Axes>"
      ]
     },
     "metadata": {},
     "output_type": "display_data"
    }
   ],
   "source": [
    "train_size = [93,304,514,725,936]\n",
    "chunk = 10\n",
    "train_score = []\n",
    "test_score = []\n",
    "\n",
    "for s in train_size:\n",
    "    tr_s = []\n",
    "    te_s = []\n",
    "    \n",
    "    X_tr = X_train[0:s]\n",
    "    Y_tr = Y_train[0:s]\n",
    "    W_lc = np.array(np.zeros((1,13)))\n",
    "\n",
    "    gradient_ascent(X_tr,W_lc,Y_tr,0.00001,0.01)\n",
    "\n",
    "    for e in np.array_split(X_tr, chunk):\n",
    "        tr_s.append(prediction(W_lc,X_tr,Y_tr)[0])\n",
    "        te_s.append(prediction(W_lc,X_test,Y_test)[0])\n",
    "\n",
    "    train_score.append(tr_s)\n",
    "    test_score.append(te_s)\n",
    "\n",
    "train_loss_m = 1 - np.mean(train_score, axis=1)\n",
    "test_loss_m = 1 - np.mean(test_score, axis=1)\n",
    "\n",
    "print(train_size)\n",
    "print(\"***************\")\n",
    "print(train_score)\n",
    "print(\"***************\")\n",
    "print(test_score)\n",
    "\n",
    "plt.plot(train_size, train_loss_m, 'o-', color=\"b\")\n",
    "plt.plot(train_size, test_loss_m, 'o-', color=\"r\")\n",
    "plt.legend(('Training score', 'Test score'), loc='best')\n",
    "plt.xlabel(\"Training Samples\")\n",
    "plt.ylabel(\"error/loss\")\n",
    "plt.title(\"Learning Curve for Logistic Regression\")\n",
    "plt.grid()\n",
    "\n",
    "plt.show()"
   ]
  }
 ],
 "metadata": {
  "kernelspec": {
   "display_name": "Python 3.10.4 64-bit",
   "language": "python",
   "name": "python3"
  },
  "language_info": {
   "codemirror_mode": {
    "name": "ipython",
    "version": 3
   },
   "file_extension": ".py",
   "mimetype": "text/x-python",
   "name": "python",
   "nbconvert_exporter": "python",
   "pygments_lexer": "ipython3",
   "version": "3.10.4"
  },
  "orig_nbformat": 4,
  "vscode": {
   "interpreter": {
    "hash": "702afc27125c4b44e8d6e4d91e2be92deaff276ecbbea6cc8c365578c4a94287"
   }
  }
 },
 "nbformat": 4,
 "nbformat_minor": 2
}
