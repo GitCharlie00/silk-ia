{
 "cells": [
  {
   "cell_type": "markdown",
   "metadata": {},
   "source": [
    "<div style=\"background-color : white; border-radius: 15px; width: 93%; padding: 2em; color: black; font-family: Gill Sans, sans-serif;\">\n",
    "    <h1 style =\"text-align: center; color: black; font-family: Gill Sans, sans-serif;font-weight: 700;\"> Implementazione di un classificatore con Logistic Regression </h1>\n",
    "    <h2>Indice</h2>\n",
    "    <ol type=\"1\">\n",
    "        <li style=\"padding-top: 0.3em; padding-bottom: 0.3em;\"><b>Basi per la logistic regression</b>\n",
    "            <ul>\n",
    "                <li style=\"padding-top: 0.3em; padding-bottom: 0.3em;\">1.1 Pacchetti necessari</li>\n",
    "                <li style=\"padding-bottom: 0.3em;\">1.2 Funzione logistica o sigmoide</li>\n",
    "                <li style=\"padding-bottom: 0.3em;\">1.3 Funzione d'ipotesi</li>\n",
    "                <li style=\"padding-bottom: 0.3em;\">1.4 Gradient ascent</li>\n",
    "                <li>1.5 Funzione di predizione</li>\n",
    "            </ul>\n",
    "        </li>\n",
    "        <li style=\"padding-top: 0.3em; padding-bottom: 0.3em;\"><b>Preparazione dataset</b>\n",
    "            <ul>\n",
    "                <li style=\"padding-top: 0.3em; padding-bottom: 0.3em;\">2.1 Caricamento del dataset</li>\n",
    "                <li style=\"padding-bottom: 0.3em;\">2.2 Divisione del dataset in train e test set</li>\n",
    "                <li style=\"padding-bottom: 0.3em;\">2.3 Manipolazione dei dati</li>\n",
    "                <li>2.4 Normalizzazione dei dati</li>\n",
    "            </ul>\n",
    "        </li>\n",
    "        <li style=\"padding-top: 0.3em; padding-bottom: 0.3em;\"><b>Applicazione del modello</b>\n",
    "            <ul>\n",
    "                <li style=\"padding-top: 0.3em; padding-bottom: 0.3em;\">3.1 Allenamento del modello</li>\n",
    "                <li>3.2 Risultati del modello allenato</li>\n",
    "            </ul>\n",
    "        </li>\n",
    "        <li style=\"padding-top: 0.3em\"><b>Valutazione del modello</b>\n",
    "            <ul>\n",
    "                <li style=\"padding-top: 0.3em; padding-bottom: 0.3em;\">4.1 Metrica d'errore</li>\n",
    "                <li style=\"padding-bottom: 0.3em;\">4.2 Confusion Matrix</li>\n",
    "                <li style=\"padding-bottom: 0.3em;\">4.3 Curva precision e recall</li>\n",
    "                <li>4.4 Curva ROC e AUC</li>\n",
    "            </ul>\n",
    "        </li>\n",
    "    </ol>\n",
    "</div>"
   ]
  },
  {
   "cell_type": "markdown",
   "metadata": {},
   "source": [
    "<div style=\"background-color: white; border-top-left-radius: 15px; border-top-right-radius: 15px; width: 93%; padding: 2em 2em 0.2em 2em; font-family: Gill Sans, sans-serif;\">\n",
    "    <a id=\"#intro\" style=\"text-decoration:none; color: black;\"><h3 style=\"font-weight:700;\"> 1. Basi per la logistic regression </h3></a>\n",
    "    <h4 style=\"color:black\"> 1.1 Pacchetti necessari </h4>\n",
    "</div>"
   ]
  },
  {
   "cell_type": "code",
   "execution_count": 34,
   "metadata": {},
   "outputs": [],
   "source": [
    "import numpy as np\n",
    "import pandas as pd\n",
    "from sklearn.model_selection import train_test_split\n",
    "from sklearn.preprocessing import StandardScaler\n",
    "from sklearn.metrics import confusion_matrix, precision_recall_curve, f1_score, roc_curve, roc_auc_score\n",
    "import seaborn as sns\n",
    "import matplotlib.pyplot as plt"
   ]
  },
  {
   "cell_type": "markdown",
   "metadata": {},
   "source": [
    "<div style=\"background-color: white; width: 93%; padding: 2em 2em 0.2em 2em; font-family: Gill Sans, sans-serif;\">\n",
    "    <h4 style=\"color: black;\"> 1.2 Funzione logistica o sigmoide </h4>\n",
    "    <p style=\"color: black;\">Funzione matematica che produce una curva avente un andamento ad \"S\". È una funzione reale limitata tra 0 e 1, definita per tutti i valori reali. È differenziabile, ha una derivata non negativa in ogni punto ed un punto di flesso in (0;0.5)</p>\n",
    "    <span style=\"display:flex; flex-direction:row; gap: 5%; align-items: center; justify-content: center; align-content:center; padding-bottom:1%;\">\n",
    "        <img src=\"./notebook_pic/Logistic-curve.png\">\n",
    "        <img src=\"./notebook_pic/Logistic-formula.jpg\">\n",
    "    </span>\n",
    "</div>"
   ]
  },
  {
   "cell_type": "code",
   "execution_count": 35,
   "metadata": {},
   "outputs": [],
   "source": [
    "def logistic(z):\n",
    "    den = 1 + np.exp(-z)\n",
    "    sigm = 1.0/den\n",
    "    return sigm"
   ]
  },
  {
   "cell_type": "markdown",
   "metadata": {},
   "source": [
    "<div style=\"background-color: white; width: 93%; padding: 2em 2em 0.2em 2em; font-family: Gill Sans, sans-serif;\">\n",
    "    <h4 style=\"color: black;\"> 1.3 Funzione d'ipotesi </h4>\n",
    "    <p style=\"color: black;\">La funzione di costo della logistic regression sarà basta sulla funzione sigmoide. Infatti, per effettuare la classificazione, serve una funzione con codominio [0,1]: la predizione si baserà sulla probabilità della stima di appartenere ad una delle due classi.</p>\n",
    "    <p style=\"color: black;\">Teoricamente le features potrebbero variare tra -ꝏ e ꝏ. Usando la funzione sigmoide: valori molto positivi non divergeranno verso l'infinito, bensì si attesteranno verso 1;  valori molto negativi non divergeranno verso l'infinito negativo, bensì si attesteranno verso 0.</p>\n",
    "    <span style=\"display:flex; flex-direction:row; gap: 5%; align-items: center; justify-content: center; align-content:center; padding-bottom:1%;\">\n",
    "        <img src=\"./notebook_pic/hyp.jpg\">\n",
    "    </span>\n",
    "</div>"
   ]
  },
  {
   "cell_type": "code",
   "execution_count": 36,
   "metadata": {},
   "outputs": [],
   "source": [
    "def hyp(W,X):\n",
    "    param = np.dot(W,X.T)\n",
    "    return logistic(param)"
   ]
  },
  {
   "cell_type": "markdown",
   "metadata": {},
   "source": [
    "<div style=\"background-color: white; width: 93%; padding: 2em 2em 0.2em 2em; font-family: Gill Sans, sans-serif;\">\n",
    "    <h4 style=\"color: black;\"> 1.4 Funzione di costo </h4>\n",
    "    <p style=\"color: black;\">La distribuzione di probabilità di un classificatore binario è rappresentata da una distribuzione di Bernoulli. In particolare, date le features (<b>x</b>) ed i pesi (<b>θ</b>), siamo interessati alla probabilità che l'output (Y) appartenga ad una delle due classi (0 o 1).</p>\n",
    "    <span style=\"display:flex; flex-direction:row; gap: 5%; align-items: center; justify-content: center; align-content:center; padding-bottom:1%;\">\n",
    "        <img src=\"./notebook_pic/bern1.jpg\">\n",
    "        <img src=\"./notebook_pic/bern2.jpg\">\n",
    "    </span>\n",
    "    <span style=\"display:flex; flex-direction:row; gap: 5%; align-items: center; justify-content: center; align-content:center; padding-bottom:1%;\">\n",
    "        <img src=\"./notebook_pic/bern3.jpg\">\n",
    "    </span>\n",
    "    <p style=\"color: black;\">Considerando tutte le features e ipotizzando che siano indipendenti e identicamente distribuite otteniamo la funzione di likelihood e successivamente la funzione di costo logaritmica</p>\n",
    "    <span style=\"display:flex; flex-direction:column; gap: 5%; align-items: center; justify-content: center; align-content:center; padding-bottom:1%;\">\n",
    "        <img src=\"./notebook_pic/bern4.jpg\">\n",
    "        <img src=\"./notebook_pic/bern5.jpg\">\n",
    "        <img src=\"./notebook_pic/bern6.jpg\">\n",
    "    </span>\n",
    "</div>"
   ]
  },
  {
   "cell_type": "code",
   "execution_count": 37,
   "metadata": {},
   "outputs": [],
   "source": [
    "def cost(W,X,Y):\n",
    "    m = X.shape[0]\n",
    "    h = hyp(W,X)\n",
    "    log_h = np.log(h)\n",
    "    log_one_h = np.log(1-h)\n",
    "    l_cost = float((-1.0/m) * ((np.dot(log_h,Y)) + (np.dot(log_one_h,(1-Y)))))\n",
    "    return l_cost"
   ]
  },
  {
   "cell_type": "markdown",
   "metadata": {},
   "source": [
    "<div style=\"background-color: white; width: 93%; padding: 2em 2em 0.2em 2em; font-family: Gill Sans, sans-serif;\">\n",
    "    <h4 style=\"color: black;\"> 1.5 Gradient ascent </h4>\n",
    "    <p style=\"color: black;\">Per come si è impostata la distribuzione, i pesi dovranno essere tali da massimizzare la funzione di costo. Infatti quando la y assume un valore, la funzione d'ipotesi dell'altro caso viene annullata. Quindi per riconoscere effettivamente un vero caso y, la funzione d'ipotesi deve aver il valore più grande possibile.</p>\n",
    "    <span style=\"display:flex; flex-direction:column; gap: 5%; align-items: center; justify-content: center; align-content:center; padding-bottom:1%;\">\n",
    "        <img src=\"./notebook_pic/cost1.jpg\">\n",
    "        <img src=\"./notebook_pic/cost2.jpg\">\n",
    "    </span>\n",
    "    <p style=\"color: black;\">Per raggiungere la massimizzazione dei pesi si utilizza un algoritmo gradient ascent. Data la curva della funzione di costo, si parte da un valore di <b>θ</b> e si calcola il valore di J(<b>θ</b>). In base alla derivata di J(<b>θ</b>) ci sposta lungo la curva di un fattore <i>α</i> e si ripete l'operazione fino alla convergenza, quindi finchè lo spostamento tra due valori di J(<b>θ</b>) è minimo.</p>\n",
    "    <center><p style=\"color: black; font-size: 2em; padding-top: 2%;\"><b>Esempio di gradient ascent su una parabola</b></p></center>\n",
    "    <span style=\"display:flex; flex-direction:column; gap: 5%; align-items: center; justify-content: center; align-content:center; padding-bottom:1%;\">\n",
    "        <img src=\"./notebook_pic/grad_asc1.jpg\">\n",
    "    </span>\n",
    "    <p style=\"color: black;\">Per il ragionamento suddetto, i pesi <b>θ</b> vengono aggiornati in base alla seguente formula.</p>\n",
    "    <span style=\"display:flex; flex-direction:column; gap: 5%; align-items: center; justify-content: center; align-content:center; padding-bottom:1%;\">\n",
    "        <img src=\"./notebook_pic/grad_asc2.jpg\">\n",
    "    </span>\n",
    "    <p style=\"color: black;\">Il procedimento può essere visto in forma algoritmica.</p>\n",
    "    <span style=\"display:flex; flex-direction:column; gap: 5%; align-items: center; justify-content: center; align-content:center; padding-bottom:1%;\">\n",
    "        <img src=\"./notebook_pic/grad_asc3.jpg\">\n",
    "    </span>\n",
    "</div>"
   ]
  },
  {
   "cell_type": "code",
   "execution_count": 38,
   "metadata": {},
   "outputs": [],
   "source": [
    "def gradient_ascent(X,W,Y,alpha,stop):\n",
    "    m,n = X.shape\n",
    "    cost_old = np.inf\n",
    "    cost_new = cost(W,X,Y)\n",
    "    print(cost_old - cost(W,X,Y))\n",
    "    sum = 0\n",
    "    iter = 0\n",
    "\n",
    "    while(abs(cost_old-cost_new) > stop):\n",
    "        for j in range(0,n):\n",
    "            for i in range(0,m):\n",
    "                sum += (Y[i][0] - hyp(W,X[i])) * X[i][j]\n",
    "            W[0][j] = W[0][j] + (alpha/m) * sum\n",
    "        cost_old = cost_new\n",
    "        cost_new = cost(W,X,Y)\n",
    "        print(cost_old - cost(W,X,Y))\n",
    "        iter += 1\n",
    "\n",
    "    print(W)\n",
    "    return iter  "
   ]
  },
  {
   "cell_type": "markdown",
   "metadata": {},
   "source": [
    "<div style=\"background-color: white; width: 93%; padding: 2em 2em 0.2em 2em; font-family: Gill Sans, sans-serif;\">\n",
    "    <h4 style=\"color: black;\"> 1.6 Funzione di predizione </h4>\n",
    "    <p style=\"color: black;\">Una volta allenato il modello, calcolando la funzione d'ipotesi con le features interessate e i pesi aggiornati si ottiene una stima di probabilità sulla classe relativa alle features proposte. Se quest'ultima supera una certa soglia, la classe sarà la 1, altrimenti la 0.</p>\n",
    "    <p style=\"color: black;\">L'accurancy del modello viene ottenuta facendo la media del numero di volte in cui la predizione è stata corretta</p>\n",
    "</div>"
   ]
  },
  {
   "cell_type": "code",
   "execution_count": 39,
   "metadata": {},
   "outputs": [],
   "source": [
    "def prediction(W,X,Y):\n",
    "    m = X.shape[0]\n",
    "    h = hyp(W,X)\n",
    "    Y_hat = h > 0.5\n",
    "    accuracy = 1.0/m * np.sum(Y.T == Y_hat)\n",
    "    return accuracy, Y_hat, h"
   ]
  },
  {
   "cell_type": "markdown",
   "metadata": {},
   "source": [
    "<div style=\"background-color: white; border-bottom-left-radius:15px; border-bottom-right-radius:15px; width:93%; padding:2em 2em 0.2em 2em; font-family:Gill Sans, sans-serif;\">\n",
    "</div>"
   ]
  },
  {
   "cell_type": "markdown",
   "metadata": {},
   "source": [
    "<div style=\"background-color: white; border-top-left-radius: 15px; border-top-right-radius: 15px; width: 93%; padding: 2em 2em 0.2em 2em; font-family: Gill Sans, sans-serif;\">\n",
    "    <a id=\"#intro\" style=\"text-decoration:none; color: black;\"><h3 style=\"font-weight:700;\"> 2. Preparazione del dataset </h3></a>\n",
    "    <h4 style=\"color:black\"> 2.1 Caricamento del dataset </h4>\n",
    "</div>"
   ]
  },
  {
   "cell_type": "code",
   "execution_count": 40,
   "metadata": {},
   "outputs": [],
   "source": [
    "# Carico il dataset\n",
    "path = '../color_extr/data.csv'\n",
    "data = pd.read_csv(path, usecols = [i for i in range(5)])"
   ]
  },
  {
   "cell_type": "markdown",
   "metadata": {},
   "source": [
    "<div style=\"background-color: white; width: 93%; padding: 2em 2em 0.2em 2em; font-family: Gill Sans, sans-serif;\">\n",
    "    <h4 style=\"color: black;\"> 2.2 Divisione del dataset in train e test set </h4>\n",
    "</div>"
   ]
  },
  {
   "cell_type": "code",
   "execution_count": 41,
   "metadata": {},
   "outputs": [],
   "source": [
    "# Creo train e test set\n",
    "X_train, X_test, Y_train, Y_test = train_test_split(data[['presenza_foglie','assenza_foglie','presenza_bachi_sfondo','assenza_bachi_sfondo']], data[['classificazione']], test_size=0.23)"
   ]
  },
  {
   "cell_type": "markdown",
   "metadata": {},
   "source": [
    "<div style=\"background-color: white; width: 93%; padding: 2em 2em 0.2em 2em; font-family: Gill Sans, sans-serif;\">\n",
    "    <h4 style=\"color: black;\"> 2.3 Manipolazione dei dati </h4>\n",
    "    <ul style=\"color: black;\">\n",
    "        <li>Tutti i set sono convertiti in array numpy</li>\n",
    "        <li>Alle features viene aggiunto il bias della funzione d'ipotesi (θ<sub>0</sub>)</li>\n",
    "        <li>Viene inizializzato il vettore dei pesi</li>\n",
    "    </ul>\n",
    "</div>"
   ]
  },
  {
   "cell_type": "code",
   "execution_count": 42,
   "metadata": {},
   "outputs": [],
   "source": [
    "Y_train = Y_train.to_numpy()\n",
    "Y_test = Y_test.to_numpy()\n",
    "\n",
    "m_tr, n_tr = X_train.shape\n",
    "X_train = np.concatenate((np.ones((m_tr,1)), X_train), axis=1)\n",
    "n_tr +=1\n",
    "\n",
    "m_te, n_te = X_test.shape\n",
    "X_test = np.concatenate((np.ones((m_te,1)), X_test), axis=1)\n",
    "n_te += 1\n",
    "\n",
    "W = np.array(np.zeros((1,n_te)))"
   ]
  },
  {
   "cell_type": "markdown",
   "metadata": {},
   "source": [
    "<div style=\"background-color: white; width: 93%; padding: 2em 2em 0.2em 2em; font-family: Gill Sans, sans-serif;\">\n",
    "    <h4 style=\"color: black;\"> 2.4 Normalizzazione dei dati </h4>\n",
    "</div>"
   ]
  },
  {
   "cell_type": "code",
   "execution_count": 43,
   "metadata": {},
   "outputs": [],
   "source": [
    "# Normalizzo i dati\n",
    "sc = StandardScaler()\n",
    "X_train = sc.fit_transform(X_train)\n",
    "X_test = sc.fit_transform(X_test)"
   ]
  },
  {
   "cell_type": "markdown",
   "metadata": {},
   "source": [
    "<div style=\"background-color: white; border-bottom-left-radius:15px; border-bottom-right-radius:15px; width:93%; padding:2em 2em 0.2em 2em; font-family:Gill Sans, sans-serif;\">\n",
    "</div>"
   ]
  },
  {
   "cell_type": "markdown",
   "metadata": {},
   "source": [
    "<div style=\"background-color: white; border-top-left-radius: 15px; border-top-right-radius: 15px; width: 93%; padding: 2em 2em 0.2em 2em; font-family: Gill Sans, sans-serif;\">\n",
    "    <a id=\"#intro\" style=\"text-decoration:none; color: black;\"><h3 style=\"font-weight:700;\"> 3. Applicazione del modello </h3></a>\n",
    "    <h4 style=\"color:black\"> 3.1 Allenamento del modello</h4>\n",
    "    <p style=\"color:black\"> Cerco il punto di massimo della funzione di costo per trovare i pesi ottimi.</p>\n",
    "    <p style=\"color:black\"> Iperparametri (alpha e condizione di stop) scelti in base al metodo Hand Tuning: iperparametri selzionati in base alle prove sul modello finchè non si raggiungono delle performance soddisfacenti</p>\n",
    "</div>"
   ]
  },
  {
   "cell_type": "code",
   "execution_count": 44,
   "metadata": {},
   "outputs": [
    {
     "name": "stdout",
     "output_type": "stream",
     "text": [
      "inf\n",
      "0.014149768584932332\n",
      "0.013607437879283202\n",
      "0.013086842159378054\n",
      "0.012587590678518223\n",
      "0.012109216280628998\n",
      "0.011651188506011545\n",
      "0.011212925883224978\n",
      "0.010793807266988531\n",
      "0.010393182135906232\n",
      "0.01001037980984143\n",
      "0.009644717584580298\n",
      "0.009295507811192816\n",
      "0.008962063969835232\n",
      "0.008643705803455859\n",
      "0.008339763586952986\n",
      "0.008049581612721957\n",
      "0.007772520975248165\n",
      "0.0075079617362231454\n",
      "0.007255304548442254\n",
      "0.007013971812025399\n",
      "0.006783408430928783\n",
      "0.006563082231591688\n",
      "0.006352484099309441\n",
      "0.006151127881719731\n",
      "0.005958550102838522\n",
      "0.0057743095254843\n",
      "0.005597986594764182\n",
      "0.005429182790595621\n",
      "0.005267519913009389\n",
      "0.005112639320227097\n",
      "0.004964201136192614\n",
      "0.004821883441348485\n",
      "0.004685381457943727\n",
      "0.0045544067389990395\n",
      "0.00442868636821403\n",
      "0.0043079621765381715\n",
      "0.004191989979798194\n",
      "0.004080538840676662\n",
      "0.003973390357405127\n",
      "0.003870337980783012\n",
      "0.00377118636049506\n",
      "0.0036757507212074603\n",
      "0.0035838562684978315\n",
      "0.003495337624361383\n",
      "0.0034100382917729988\n",
      "0.0033278101475897603\n",
      "0.0032485129629339915\n",
      "0.0031720139500841515\n",
      "0.0030981873348331357\n",
      "0.0030269139532196343\n",
      "0.002958080871518165\n",
      "0.002891581028363621\n",
      "0.0028273128978915096\n",
      "0.00276518017279348\n",
      "0.0027050914662134495\n",
      "0.002646960031438772\n",
      "0.002590703498381197\n",
      "0.0025362436258785648\n",
      "0.002483506068890917\n",
      "0.0024324201597080153\n",
      "0.0023829187023288734\n",
      "0.0023349377792135084\n",
      "0.0022884165696557823\n",
      "0.0022432971790609657\n",
      "0.0021995244784560053\n",
      "0.0021570459536006115\n",
      "0.0021158115630983687\n",
      "0.002075773604950426\n",
      "0.002036886591023468\n",
      "0.001999107128936861\n",
      "0.0019623938109070704\n",
      "0.0019267071091116916\n",
      "0.0018920092771688712\n",
      "0.0018582642573476416\n",
      "0.0018254375931547884\n",
      "0.00179349634696091\n",
      "0.001762409022355138\n",
      "0.001732145490934589\n",
      "0.0017026769232543204\n",
      "0.0016739757236827746\n",
      "0.001646015468921569\n",
      "0.0016187708499663112\n",
      "0.0015922176172977753\n",
      "0.0015663325291084829\n",
      "0.0015410933023798368\n",
      "0.0015164785666377245\n",
      "0.001492467820227883\n",
      "0.0014690413889573706\n",
      "0.0014461803869648682\n",
      "0.0014238666796831945\n",
      "0.0014020828487764647\n",
      "0.001380812158930489\n",
      "0.0013600385263914938\n",
      "0.0013397464891504174\n",
      "0.0013199211786780185\n",
      "0.0013005482931203738\n",
      "0.0012816140718731606\n",
      "0.001263105271453957\n",
      "0.0012450091426006171\n",
      "0.0012273134085253878\n",
      "0.0012100062442613746\n",
      "0.001193076257037906\n",
      "0.001176512467631563\n",
      "0.001160304292633474\n",
      "0.0011444415275895792\n",
      "0.0011289143309582972\n",
      "0.0011137132088481216\n",
      "0.0010988290004891876\n",
      "0.00108425286439906\n",
      "0.001069976265208189\n",
      "0.0010559909611079499\n",
      "0.001042288991888407\n",
      "0.0010288626675360457\n",
      "0.0010157045573604417\n",
      "0.0010028074796240294\n",
      "0.000990164491647516\n",
      "[[ 0.00945057 -0.93566203  0.00310296  0.96328827  0.00966664]]\n"
     ]
    },
    {
     "data": {
      "text/plain": [
       "116"
      ]
     },
     "execution_count": 44,
     "metadata": {},
     "output_type": "execute_result"
    }
   ],
   "source": [
    "gradient_ascent(X_train,W,Y_train,0.04,0.001)"
   ]
  },
  {
   "cell_type": "markdown",
   "metadata": {},
   "source": [
    "<div style=\"background-color: white; width: 93%; padding: 2em 2em 0.2em 2em; font-family: Gill Sans, sans-serif;\">\n",
    "    <h4 style=\"color: black;\"> 3.2 Risultati del modello allenato </h4>\n",
    "</div>"
   ]
  },
  {
   "cell_type": "code",
   "execution_count": 45,
   "metadata": {},
   "outputs": [
    {
     "name": "stdout",
     "output_type": "stream",
     "text": [
      "### MyLog:\n",
      "\tAccuracy of training: 0.9682692307692308\n",
      "\tAccuracy of test: 0.9614147909967845\n",
      "### MyLog:\n",
      "\tError rate of training: 0.03173076923076923\n",
      "\tError rate of test: 0.03858520900321549\n"
     ]
    }
   ],
   "source": [
    "train_accurancy, train_predictions, train_prob_predictions = prediction(W,X_train,Y_train)\n",
    "test_accurancy, test_predictions, test_prob_predictions = prediction(W,X_test,Y_test)\n",
    "\n",
    "print(\"### MyLog:\\n\\tAccuracy of training: \"+str(train_accurancy)+\"\\n\\tAccuracy of test: \"+str(test_accurancy))\n",
    "print(\"### MyLog:\\n\\tError rate of training: \"+str(1 - train_accurancy)+\"\\n\\tError rate of test: \"+str(1 - test_accurancy))"
   ]
  },
  {
   "cell_type": "markdown",
   "metadata": {},
   "source": [
    "<div style=\"background-color: white; border-bottom-left-radius:15px; border-bottom-right-radius:15px; width:93%; padding:2em 2em 0.2em 2em; font-family:Gill Sans, sans-serif;\">\n",
    "</div>"
   ]
  },
  {
   "cell_type": "markdown",
   "metadata": {},
   "source": [
    "<div style=\"background-color: white; border-top-left-radius: 15px; border-top-right-radius: 15px; width: 93%; padding: 2em 2em 0.2em 2em; font-family: Gill Sans, sans-serif;\">\n",
    "    <a id=\"#intro\" style=\"text-decoration:none; color: black;\"><h3 style=\"font-weight:700;\"> 4. Valutazione del modello </h3></a>\n",
    "    <h4 style=\"color:black\"> 4.1 Metrica d'errore</h4>\n",
    "    <p style=\"color:black\">Per definire basso o alto l'error rate, è necessaria una metrica. Possiamo definirla considerando l'errore che farebbe un classificatore che predice sempre solo una delle due classi. In base a questo valore si valuta l'errore del classificatore implementato</p>\n",
    "</div>"
   ]
  },
  {
   "cell_type": "code",
   "execution_count": 46,
   "metadata": {},
   "outputs": [
    {
     "name": "stdout",
     "output_type": "stream",
     "text": [
      "Error rate di un classificatore che predice solo 0:  0.44041450777202074\n",
      "Accuracy di un classificatore che predice solo 0:  0.5595854922279793\n"
     ]
    }
   ],
   "source": [
    "# metric_error = #valori classe 0 / #valori classi\n",
    "metric_error = len(data[data.classificazione == 0]) / len(data)\n",
    "metric_accurancy = 1 - metric_error\n",
    "\n",
    "print(\"Error rate di un classificatore che predice solo 0: \", metric_error)\n",
    "print(\"Accuracy di un classificatore che predice solo 0: \", metric_accurancy)"
   ]
  },
  {
   "cell_type": "markdown",
   "metadata": {},
   "source": [
    "<div style=\"background-color: white; width: 93%; padding: 2em 2em 0.2em 2em; font-family: Gill Sans, sans-serif; color:black;\">\n",
    "    <h4 style=\"color: black;\"> 4.2 Confusion Matrix </h4>\n",
    "    <p>Contiene informazioni sulle predizioni indovinate (veri positivi, veri negativi sulla diagonale) e su quelle sbagliate (falsi positivi, falsi negativi sull'antidiagonale).</p>\n",
    "    <p><b>Precisione: </b> affidabilità del modello nella classificazione dei campioni come positivi.</p>\n",
    "    <span style=\"display:flex; flex-direction:column; gap: 5%; align-items: center; justify-content: center; align-content:center; padding-bottom:1%;\">\n",
    "        <img src=\"./notebook_pic/metr1.jpg\">\n",
    "    </span>\n",
    "    <p><b>Recall (o sensibilità): </b> affidabilità del modello nella classificazione dei campioni come veri positivi.</p>\n",
    "    <span style=\"display:flex; flex-direction:column; gap: 5%; align-items: center; justify-content: center; align-content:center; padding-bottom:1%;\">\n",
    "        <img src=\"./notebook_pic/metr2.jpg\">\n",
    "    </span>\n",
    "    <p><b>Specificità: </b> affidabilità del modello nella classificazione dei campioni come veri negativi.</p>\n",
    "    <span style=\"display:flex; flex-direction:column; gap: 5%; align-items: center; justify-content: center; align-content:center; padding-bottom:1%;\">\n",
    "        <img src=\"./notebook_pic/metr4.jpg\">\n",
    "    </span>\n",
    "    <p><b>F1-score: </b> combina la precisione e il richiamo di un classificatore in un'unica metrica prendendo la loro media armonica.</p>\n",
    "    <span style=\"display:flex; flex-direction:column; gap: 5%; align-items: center; justify-content: center; align-content:center; padding-bottom:1%;\">\n",
    "        <img src=\"./notebook_pic/metr3.jpg\">\n",
    "    </span>\n",
    "</div>"
   ]
  },
  {
   "cell_type": "code",
   "execution_count": 47,
   "metadata": {},
   "outputs": [
    {
     "data": {
      "image/png": "[encoded data removed]",
      "text/plain": [
       "<Figure size 432x288 with 2 Axes>"
      ]
     },
     "metadata": {},
     "output_type": "display_data"
    },
    {
     "name": "stdout",
     "output_type": "stream",
     "text": [
      "Precision:  0.9329608938547486\n",
      "Recall:  1.0\n",
      "Specificity:  0.9166666666666666\n"
     ]
    }
   ],
   "source": [
    "cm = confusion_matrix(Y_test, test_predictions.T)\n",
    "plt.figure()\n",
    "sns.set(font_scale=1.5)\n",
    "hm = sns.heatmap( cm, cbar=True, annot=True, square=True, fmt='.2f', annot_kws={'size': 15}, yticklabels=['No', 'Yes'], xticklabels=['No', 'Yes'])\n",
    "plt.title('Confusion Matrix TEST')\n",
    "plt.ylabel('default')\n",
    "plt.xlabel('prediction')\n",
    "plt.show()\n",
    "\n",
    "diagonal = np.diag(cm)\n",
    "antidiagonal = np.fliplr(cm).diagonal()\n",
    "\n",
    "false_positive = antidiagonal[0]\n",
    "false_negative = antidiagonal[1]\n",
    "true_positive = diagonal[1]\n",
    "true_negative = diagonal[0]\n",
    "\n",
    "# Precision \n",
    "pre = true_positive/(true_positive+false_positive)\n",
    "# Recall\n",
    "rec = true_positive/(true_positive+false_negative)\n",
    "# Specificity\n",
    "spe = true_negative/(true_negative+false_positive) \n",
    "\n",
    "print(\"Precision: \", pre)\n",
    "print(\"Recall: \", rec)\n",
    "print(\"Specificity: \", spe)"
   ]
  },
  {
   "cell_type": "markdown",
   "metadata": {},
   "source": [
    "<div style=\"background-color: white; width: 93%; padding: 2em 2em 0.2em 2em; font-family: Gill Sans, sans-serif;\">\n",
    "    <h4 style=\"color: black;\"> 4.3 Curva precision e recall </h4>\n",
    "</div>"
   ]
  },
  {
   "cell_type": "code",
   "execution_count": 55,
   "metadata": {},
   "outputs": [
    {
     "data": {
      "image/png": "[encoded data removed]",
      "text/plain": [
       "<Figure size 432x288 with 1 Axes>"
      ]
     },
     "metadata": {},
     "output_type": "display_data"
    },
    {
     "name": "stdout",
     "output_type": "stream",
     "text": [
      "f1-score:  0.9653179190751445\n"
     ]
    }
   ],
   "source": [
    "precision, recall, thresholds = precision_recall_curve(Y_test, test_prob_predictions.T)\n",
    "\n",
    "plt.plot(recall, precision)\n",
    "plt.title(\"Precision-Recall Curve: Logit\")\n",
    "plt.xlabel(\"Recall\")\n",
    "plt.ylabel(\"Precision\")\n",
    "plt.show()\n",
    "\n",
    "print(\"f1-score: \", f1_score(Y_test, test_predictions.T))"
   ]
  },
  {
   "cell_type": "markdown",
   "metadata": {},
   "source": [
    "<div style=\"background-color: white; width: 93%; padding: 2em 2em 0.2em 2em; font-family: Gill Sans, sans-serif;\">\n",
    "    <h4 style=\"color: black;\"> 4.2 Curva ROC e AUC </h4>\n",
    "</div>"
   ]
  },
  {
   "cell_type": "code",
   "execution_count": 49,
   "metadata": {},
   "outputs": [
    {
     "data": {
      "image/png": "[encoded data removed]",
      "text/plain": [
       "<Figure size 432x288 with 1 Axes>"
      ]
     },
     "metadata": {},
     "output_type": "display_data"
    },
    {
     "name": "stdout",
     "output_type": "stream",
     "text": [
      "AUC:  0.9583333333333333\n"
     ]
    }
   ],
   "source": [
    "fpr, tpr, thresholds = roc_curve(Y_test, test_prob_predictions.T)\n",
    "plt.figure()\n",
    "plt.plot(fpr, tpr)\n",
    "plt.title(\"ROC: Logit\")\n",
    "plt.xlabel(\"False Positive Rate\")\n",
    "plt.ylabel(\"True Positive Rate\")\n",
    "plt.show()\n",
    "\n",
    "print (\"AUC: \", roc_auc_score(Y_test, test_predictions.T))"
   ]
  },
  {
   "cell_type": "markdown",
   "metadata": {},
   "source": [
    "<div style=\"background-color: white; border-bottom-left-radius:15px; border-bottom-right-radius:15px; width:93%; padding:2em 2em 0.2em 2em; font-family:Gill Sans, sans-serif;\">\n",
    "</div>"
   ]
  }
 ],
 "metadata": {
  "kernelspec": {
   "display_name": "Python 3.10.4 64-bit",
   "language": "python",
   "name": "python3"
  },
  "language_info": {
   "codemirror_mode": {
    "name": "ipython",
    "version": 3
   },
   "file_extension": ".py",
   "mimetype": "text/x-python",
   "name": "python",
   "nbconvert_exporter": "python",
   "pygments_lexer": "ipython3",
   "version": "3.10.4"
  },
  "orig_nbformat": 4,
  "vscode": {
   "interpreter": {
    "hash": "702afc27125c4b44e8d6e4d91e2be92deaff276ecbbea6cc8c365578c4a94287"
   }
  }
 },
 "nbformat": 4,
 "nbformat_minor": 2
}
