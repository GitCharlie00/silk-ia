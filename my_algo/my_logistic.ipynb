{
 "cells": [
  {
   "cell_type": "markdown",
   "metadata": {},
   "source": [
    "<div style=\"background-color : white; border-radius: 15px; width: 93%; padding: 2em; color: black; font-family: Gill Sans, sans-serif;\">\n",
    "    <h1 style =\"text-align: center; color: black; font-family: Gill Sans, sans-serif;font-weight: 700;\"> Implementazione di un classificatore con Logistic Regression </h1>\n",
    "    <h2>Indice</h2>\n",
    "    <ol type=\"1\">\n",
    "        <li style=\"padding-top: 0.3em; padding-bottom: 0.3em;\"><b>Basi per la logistic regression</b>\n",
    "            <ul>\n",
    "                <li style=\"padding-top: 0.3em; padding-bottom: 0.3em;\">1.1 Pacchetti necessari</li>\n",
    "                <li style=\"padding-bottom: 0.3em;\">1.2 Funzione logistica o sigmoide</li>\n",
    "                <li style=\"padding-bottom: 0.3em;\">1.3 Funzione d'ipotesi</li>\n",
    "                <li style=\"padding-bottom: 0.3em;\">1.4 Gradient ascent</li>\n",
    "                <li>1.5 Funzione di predizione</li>\n",
    "            </ul>\n",
    "        </li>\n",
    "        <li style=\"padding-top: 0.3em; padding-bottom: 0.3em;\"><b>Preparazione dataset</b>\n",
    "            <ul>\n",
    "                <li style=\"padding-top: 0.3em; padding-bottom: 0.3em;\">2.1 Caricamento del dataset</li>\n",
    "                <li style=\"padding-bottom: 0.3em;\">2.2 Divisione del dataset in train e test set</li>\n",
    "                <li style=\"padding-bottom: 0.3em;\">2.3 Manipolazione dei dati</li>\n",
    "                <li>2.4 Normalizzazione dei dati</li>\n",
    "            </ul>\n",
    "        </li>\n",
    "        <li style=\"padding-top: 0.3em; padding-bottom: 0.3em;\"><b>Applicazione del modello</b>\n",
    "            <ul>\n",
    "                <li style=\"padding-top: 0.3em; padding-bottom: 0.3em;\">3.1 Allenamento del modello</li>\n",
    "                <li>3.2 Risultati del modello allenato</li>\n",
    "            </ul>\n",
    "        </li>\n",
    "        <li style=\"padding-top: 0.3em\"><b>Valutazione del modello</b>\n",
    "            <ul>\n",
    "                <li style=\"padding-top: 0.3em; padding-bottom: 0.3em;\">4.1 Metrica d'errore</li>\n",
    "                <li style=\"padding-bottom: 0.3em;\">4.2 Confusion Matrix</li>\n",
    "                <li style=\"padding-bottom: 0.3em;\">4.3 Curva precision e recall</li>\n",
    "                <li>4.4 Curva ROC e AUC</li>\n",
    "            </ul>\n",
    "        </li>\n",
    "    </ol>\n",
    "</div>"
   ]
  },
  {
   "cell_type": "markdown",
   "metadata": {},
   "source": [
    "<div style=\"background-color: white; border-top-left-radius: 15px; border-top-right-radius: 15px; width: 93%; padding: 2em 2em 0.2em 2em; font-family: Gill Sans, sans-serif;\">\n",
    "    <a id=\"#intro\" style=\"text-decoration:none; color: black;\"><h3 style=\"font-weight:700;\"> 1. Basi per la logistic regression </h3></a>\n",
    "    <h4 style=\"color:black\"> 1.1 Pacchetti necessari </h4>\n",
    "</div>"
   ]
  },
  {
   "cell_type": "code",
   "execution_count": 1,
   "metadata": {},
   "outputs": [],
   "source": [
    "import numpy as np\n",
    "import pandas as pd\n",
    "from sklearn.model_selection import train_test_split\n",
    "from sklearn.preprocessing import StandardScaler\n",
    "from sklearn.metrics import confusion_matrix, precision_recall_curve, f1_score, roc_curve, roc_auc_score\n",
    "import seaborn as sns\n",
    "import matplotlib.pyplot as plt"
   ]
  },
  {
   "cell_type": "markdown",
   "metadata": {},
   "source": [
    "<div style=\"background-color: white; width: 93%; padding: 2em 2em 0.2em 2em; font-family: Gill Sans, sans-serif;\">\n",
    "    <h4 style=\"color: black;\"> 1.2 Funzione logistica o sigmoide </h4>\n",
    "    <p style=\"color: black;\">Funzione matematica che produce una curva avente un andamento ad \"S\". È una funzione reale limitata tra 0 e 1, definita per tutti i valori reali. È differenziabile, ha una derivata non negativa in ogni punto ed un punto di flesso in (0;0.5)</p>\n",
    "    <span style=\"display:flex; flex-direction:row; gap: 5%; align-items: center; justify-content: center; align-content:center; padding-bottom:1%;\">\n",
    "        <img src=\"./notebook_pic/Logistic-curve.png\">\n",
    "        <img src=\"./notebook_pic/Logistic-formula.jpg\">\n",
    "    </span>\n",
    "</div>"
   ]
  },
  {
   "cell_type": "code",
   "execution_count": 2,
   "metadata": {},
   "outputs": [],
   "source": [
    "def logistic(z):\n",
    "    den = 1 + np.exp(-z)\n",
    "    sigm = 1.0/den\n",
    "    return sigm"
   ]
  },
  {
   "cell_type": "markdown",
   "metadata": {},
   "source": [
    "<div style=\"background-color: white; width: 93%; padding: 2em 2em 0.2em 2em; font-family: Gill Sans, sans-serif;\">\n",
    "    <h4 style=\"color: black;\"> 1.3 Funzione d'ipotesi </h4>\n",
    "    <p style=\"color: black;\">La funzione di costo della logistic regression sarà basta sulla funzione sigmoide. Infatti, per effettuare la classificazione, serve una funzione con codominio [0,1]: la predizione si baserà sulla probabilità della stima di appartenere ad una delle due classi.</p>\n",
    "    <p style=\"color: black;\">Teoricamente le features potrebbero variare tra -ꝏ e ꝏ. Usando la funzione sigmoide: valori molto positivi non divergeranno verso l'infinito, bensì si attesteranno verso 1;  valori molto negativi non divergeranno verso l'infinito negativo, bensì si attesteranno verso 0.</p>\n",
    "    <span style=\"display:flex; flex-direction:row; gap: 5%; align-items: center; justify-content: center; align-content:center; padding-bottom:1%;\">\n",
    "        <img src=\"./notebook_pic/hyp.jpg\">\n",
    "    </span>\n",
    "</div>"
   ]
  },
  {
   "cell_type": "code",
   "execution_count": 3,
   "metadata": {},
   "outputs": [],
   "source": [
    "def hyp(W,X):\n",
    "    param = np.dot(W,X.T)\n",
    "    return logistic(param)"
   ]
  },
  {
   "cell_type": "markdown",
   "metadata": {},
   "source": [
    "<div style=\"background-color: white; width: 93%; padding: 2em 2em 0.2em 2em; font-family: Gill Sans, sans-serif;\">\n",
    "    <h4 style=\"color: black;\"> 1.4 Funzione di costo </h4>\n",
    "    <p style=\"color: black;\">La distribuzione di probabilità di un classificatore binario è rappresentata da una distribuzione di Bernoulli. In particolare, date le features (<b>x</b>) ed i pesi (<b>θ</b>), siamo interessati alla probabilità che l'output (Y) appartenga ad una delle due classi (0 o 1).</p>\n",
    "    <span style=\"display:flex; flex-direction:row; gap: 5%; align-items: center; justify-content: center; align-content:center; padding-bottom:1%;\">\n",
    "        <img src=\"./notebook_pic/bern1.jpg\">\n",
    "        <img src=\"./notebook_pic/bern2.jpg\">\n",
    "    </span>\n",
    "    <span style=\"display:flex; flex-direction:row; gap: 5%; align-items: center; justify-content: center; align-content:center; padding-bottom:1%;\">\n",
    "        <img src=\"./notebook_pic/bern3.jpg\">\n",
    "    </span>\n",
    "    <p style=\"color: black;\">Considerando tutte le features e ipotizzando che siano indipendenti e identicamente distribuite otteniamo la funzione di likelihood e successivamente la funzione di costo logaritmica</p>\n",
    "    <span style=\"display:flex; flex-direction:column; gap: 5%; align-items: center; justify-content: center; align-content:center; padding-bottom:1%;\">\n",
    "        <img src=\"./notebook_pic/bern4.jpg\">\n",
    "        <img src=\"./notebook_pic/bern5.jpg\">\n",
    "        <img src=\"./notebook_pic/bern6.jpg\">\n",
    "    </span>\n",
    "</div>"
   ]
  },
  {
   "cell_type": "code",
   "execution_count": 4,
   "metadata": {},
   "outputs": [],
   "source": [
    "def cost(W,X,Y):\n",
    "    m = X.shape[0]\n",
    "    h = hyp(W,X)\n",
    "    log_h = np.log(h)\n",
    "    log_one_h = np.log(1-h)\n",
    "    l_cost = float((-1.0/m) * ((np.dot(log_h,Y)) + (np.dot(log_one_h,(1-Y)))))\n",
    "    return l_cost"
   ]
  },
  {
   "cell_type": "markdown",
   "metadata": {},
   "source": [
    "<div style=\"background-color: white; width: 93%; padding: 2em 2em 0.2em 2em; font-family: Gill Sans, sans-serif;\">\n",
    "    <h4 style=\"color: black;\"> 1.5 Gradient ascent </h4>\n",
    "    <p style=\"color: black;\">Per come si è impostata la distribuzione, i pesi dovranno essere tali da massimizzare la funzione di costo. Infatti quando la y assume un valore, la funzione d'ipotesi dell'altro caso viene annullata. Quindi per riconoscere effettivamente un vero caso y, la funzione d'ipotesi deve aver il valore più grande possibile.</p>\n",
    "    <span style=\"display:flex; flex-direction:column; gap: 5%; align-items: center; justify-content: center; align-content:center; padding-bottom:1%;\">\n",
    "        <img src=\"./notebook_pic/cost1.jpg\">\n",
    "        <img src=\"./notebook_pic/cost2.jpg\">\n",
    "    </span>\n",
    "    <p style=\"color: black;\">Per raggiungere la massimizzazione dei pesi si utilizza un algoritmo gradient ascent. Data la curva della funzione di costo, si parte da un valore di <b>θ</b> e si calcola il valore di J(<b>θ</b>). In base alla derivata di J(<b>θ</b>) ci sposta lungo la curva di un fattore <i>α</i> e si ripete l'operazione fino alla convergenza, quindi finchè lo spostamento tra due valori di J(<b>θ</b>) è minimo.</p>\n",
    "    <center><p style=\"color: black; font-size: 2em; padding-top: 2%;\"><b>Esempio di gradient ascent su una parabola</b></p></center>\n",
    "    <span style=\"display:flex; flex-direction:column; gap: 5%; align-items: center; justify-content: center; align-content:center; padding-bottom:1%;\">\n",
    "        <img src=\"./notebook_pic/grad_asc1.jpg\">\n",
    "    </span>\n",
    "    <p style=\"color: black;\">Per il ragionamento suddetto, i pesi <b>θ</b> vengono aggiornati in base alla seguente formula.</p>\n",
    "    <span style=\"display:flex; flex-direction:column; gap: 5%; align-items: center; justify-content: center; align-content:center; padding-bottom:1%;\">\n",
    "        <img src=\"./notebook_pic/grad_asc2.jpg\">\n",
    "    </span>\n",
    "    <p style=\"color: black;\">Il procedimento può essere visto in forma algoritmica.</p>\n",
    "    <span style=\"display:flex; flex-direction:column; gap: 5%; align-items: center; justify-content: center; align-content:center; padding-bottom:1%;\">\n",
    "        <img src=\"./notebook_pic/grad_asc3.jpg\">\n",
    "    </span>\n",
    "</div>"
   ]
  },
  {
   "cell_type": "code",
   "execution_count": 5,
   "metadata": {},
   "outputs": [],
   "source": [
    "def gradient_ascent(X,W,Y,alpha,stop):\n",
    "    m,n = X.shape\n",
    "    cost_old = np.inf\n",
    "    cost_new = cost(W,X,Y)\n",
    "    print(cost_old - cost(W,X,Y))\n",
    "    sum = 0\n",
    "    iter = 0\n",
    "\n",
    "    while(abs(cost_old-cost_new) > stop):\n",
    "        for j in range(0,n):\n",
    "            for i in range(0,m):\n",
    "                sum += (Y[i][0] - hyp(W,X[i])) * X[i][j]\n",
    "            W[0][j] = W[0][j] + (alpha/m) * sum\n",
    "        cost_old = cost_new\n",
    "        cost_new = cost(W,X,Y)\n",
    "        print(cost_old - cost(W,X,Y))\n",
    "        iter += 1\n",
    "\n",
    "    print(W)\n",
    "    return iter  "
   ]
  },
  {
   "cell_type": "markdown",
   "metadata": {},
   "source": [
    "<div style=\"background-color: white; width: 93%; padding: 2em 2em 0.2em 2em; font-family: Gill Sans, sans-serif;\">\n",
    "    <h4 style=\"color: black;\"> 1.6 Funzione di predizione </h4>\n",
    "    <p style=\"color: black;\">Una volta allenato il modello, calcolando la funzione d'ipotesi con le features interessate e i pesi aggiornati si ottiene una stima di probabilità sulla classe relativa alle features proposte. Se quest'ultima supera una certa soglia, la classe sarà la 1, altrimenti la 0.</p>\n",
    "    <p style=\"color: black;\">L'accurancy del modello viene ottenuta facendo la media del numero di volte in cui la predizione è stata corretta</p>\n",
    "</div>"
   ]
  },
  {
   "cell_type": "code",
   "execution_count": 6,
   "metadata": {},
   "outputs": [],
   "source": [
    "def prediction(W,X,Y):\n",
    "    m = X.shape[0]\n",
    "    h = hyp(W,X)\n",
    "    Y_hat = h > 0.5\n",
    "    accuracy = 1.0/m * np.sum(Y.T == Y_hat)\n",
    "    return accuracy, Y_hat, h"
   ]
  },
  {
   "cell_type": "markdown",
   "metadata": {},
   "source": [
    "<div style=\"background-color: white; border-bottom-left-radius:15px; border-bottom-right-radius:15px; width:93%; padding:2em 2em 0.2em 2em; font-family:Gill Sans, sans-serif;\">\n",
    "</div>"
   ]
  },
  {
   "cell_type": "markdown",
   "metadata": {},
   "source": [
    "<div style=\"background-color: white; border-top-left-radius: 15px; border-top-right-radius: 15px; width: 93%; padding: 2em 2em 0.2em 2em; font-family: Gill Sans, sans-serif;\">\n",
    "    <a id=\"#intro\" style=\"text-decoration:none; color: black;\"><h3 style=\"font-weight:700;\"> 2. Preparazione del dataset </h3></a>\n",
    "    <h4 style=\"color:black\"> 2.1 Caricamento del dataset </h4>\n",
    "</div>"
   ]
  },
  {
   "cell_type": "code",
   "execution_count": 7,
   "metadata": {},
   "outputs": [],
   "source": [
    "# Carico il dataset\n",
    "path = '../color_extr/data.csv'\n",
    "data = pd.read_csv(path, usecols = [i for i in range(5)])"
   ]
  },
  {
   "cell_type": "markdown",
   "metadata": {},
   "source": [
    "<div style=\"background-color: white; width: 93%; padding: 2em 2em 0.2em 2em; font-family: Gill Sans, sans-serif;\">\n",
    "    <h4 style=\"color: black;\"> 2.2 Divisione del dataset in train e test set </h4>\n",
    "</div>"
   ]
  },
  {
   "cell_type": "code",
   "execution_count": 8,
   "metadata": {},
   "outputs": [],
   "source": [
    "# Creo train e test set\n",
    "X_train, X_test, Y_train, Y_test = train_test_split(data[['presenza_foglie','assenza_foglie','presenza_bachi_sfondo','assenza_bachi_sfondo']], data[['classificazione']], test_size=0.23)"
   ]
  },
  {
   "cell_type": "markdown",
   "metadata": {},
   "source": [
    "<div style=\"background-color: white; width: 93%; padding: 2em 2em 0.2em 2em; font-family: Gill Sans, sans-serif;\">\n",
    "    <h4 style=\"color: black;\"> 2.3 Manipolazione dei dati </h4>\n",
    "    <ul style=\"color: black;\">\n",
    "        <li>Tutti i set sono convertiti in array numpy</li>\n",
    "        <li>Alle features viene aggiunto il bias della funzione d'ipotesi (θ<sub>0</sub>)</li>\n",
    "        <li>Viene inizializzato il vettore dei pesi</li>\n",
    "    </ul>\n",
    "</div>"
   ]
  },
  {
   "cell_type": "code",
   "execution_count": 9,
   "metadata": {},
   "outputs": [],
   "source": [
    "Y_train = Y_train.to_numpy()\n",
    "Y_test = Y_test.to_numpy()\n",
    "\n",
    "m_tr, n_tr = X_train.shape\n",
    "X_train = np.concatenate((np.ones((m_tr,1)), X_train), axis=1)\n",
    "n_tr +=1\n",
    "\n",
    "m_te, n_te = X_test.shape\n",
    "X_test = np.concatenate((np.ones((m_te,1)), X_test), axis=1)\n",
    "n_te += 1\n",
    "\n",
    "W = np.array(np.zeros((1,n_te)))"
   ]
  },
  {
   "cell_type": "markdown",
   "metadata": {},
   "source": [
    "<div style=\"background-color: white; width: 93%; padding: 2em 2em 0.2em 2em; font-family: Gill Sans, sans-serif;\">\n",
    "    <h4 style=\"color: black;\"> 2.4 Normalizzazione dei dati </h4>\n",
    "</div>"
   ]
  },
  {
   "cell_type": "code",
   "execution_count": 10,
   "metadata": {},
   "outputs": [],
   "source": [
    "# Normalizzo i dati\n",
    "sc = StandardScaler()\n",
    "X_train = sc.fit_transform(X_train)\n",
    "X_test = sc.fit_transform(X_test)"
   ]
  },
  {
   "cell_type": "markdown",
   "metadata": {},
   "source": [
    "<div style=\"background-color: white; border-bottom-left-radius:15px; border-bottom-right-radius:15px; width:93%; padding:2em 2em 0.2em 2em; font-family:Gill Sans, sans-serif;\">\n",
    "</div>"
   ]
  },
  {
   "cell_type": "markdown",
   "metadata": {},
   "source": [
    "<div style=\"background-color: white; border-top-left-radius: 15px; border-top-right-radius: 15px; width: 93%; padding: 2em 2em 0.2em 2em; font-family: Gill Sans, sans-serif;\">\n",
    "    <a id=\"#intro\" style=\"text-decoration:none; color: black;\"><h3 style=\"font-weight:700;\"> 3. Applicazione del modello </h3></a>\n",
    "    <h4 style=\"color:black\"> 3.1 Allenamento del modello</h4>\n",
    "    <p style=\"color:black\"> Cerco il punto di massimo della funzione di costo per trovare i pesi ottimi.</p>\n",
    "    <p style=\"color:black\"> Iperparametri (alpha e condizione di stop) scelti in base al metodo Hand Tuning: iperparametri selzionati in base alle prove sul modello finchè non si raggiungono delle performance soddisfacenti</p>\n",
    "</div>"
   ]
  },
  {
   "cell_type": "code",
   "execution_count": 11,
   "metadata": {},
   "outputs": [
    {
     "name": "stdout",
     "output_type": "stream",
     "text": [
      "inf\n",
      "0.0141060665629551\n",
      "0.013566271597133861\n",
      "0.013048078272335673\n",
      "0.012551101038954182\n",
      "0.012074878113413456\n",
      "0.011618884505673499\n",
      "0.011182544243692472\n",
      "0.01076524165429893\n",
      "0.010366331613583801\n",
      "0.009985148725804471\n",
      "0.009621015427523583\n",
      "0.009273249043459608\n",
      "0.008941167842873354\n",
      "0.008624096161098715\n",
      "0.008321368660949013\n",
      "0.00803233381422852\n",
      "0.0077563566853386945\n",
      "0.007492821097899061\n",
      "0.0072411312621290524\n",
      "0.007000712936113762\n",
      "0.006771014188541924\n",
      "0.00655150582445746\n",
      "0.006341681529348775\n",
      "0.006141057780750081\n",
      "0.005949173570608313\n",
      "0.005765589976112928\n",
      "0.0055898896115459396\n",
      "0.005421675989031427\n",
      "0.005260572811864095\n",
      "0.005106223220352812\n",
      "0.0049582890068217145\n",
      "0.004816449813535517\n",
      "0.004680402324812316\n",
      "0.004549859462449235\n",
      "0.004424549591737215\n",
      "0.004304215743790696\n",
      "0.004188614858592954\n",
      "0.004077517052059831\n",
      "0.003970704909498135\n",
      "0.003867972807079789\n",
      "0.0037691262623255617\n",
      "0.0036739813140848065\n",
      "0.0035823639320895495\n",
      "0.0034941094558334496\n",
      "0.003409062062275925\n",
      "0.0033270742616664517\n",
      "0.003248006420645877\n",
      "0.0031717263116640693\n",
      "0.00309810868768573\n",
      "0.0030270348811052283\n",
      "0.002958392425764622\n",
      "0.0028920747009617\n",
      "0.002827980596342594\n",
      "0.0027660141965845098\n",
      "0.002706084484804361\n",
      "0.0026481050636567582\n",
      "0.002591993893122535\n",
      "0.002537673044027078\n",
      "0.0024850684663677014\n",
      "0.002434109771576265\n",
      "0.0023847300278767025\n",
      "0.0023368655679529837\n",
      "0.0022904558081714432\n",
      "0.002245443078651377\n",
      "0.00220177246351716\n",
      "0.0021593916506969513\n",
      "0.0021182507906796766\n",
      "0.0020783023636694598\n",
      "0.002039501054615589\n",
      "0.0020018036356248547\n",
      "0.001965168855297017\n",
      "0.001929557334548082\n",
      "0.001894931468519434\n",
      "0.0018612553341916804\n",
      "0.0018284946033472194\n",
      "0.0017966164605510149\n",
      "0.0017655895258363863\n",
      "0.0017353837818050444\n",
      "0.0017059705048700913\n",
      "0.0016773222003843014\n",
      "0.0016494125414182048\n",
      "0.0016222163109630428\n",
      "0.0015957093473494832\n",
      "0.0015698684926881978\n",
      "0.0015446715441489456\n",
      "0.0015200972079061903\n",
      "0.001496125055592823\n",
      "0.0014727354831107764\n",
      "0.0014499096716600879\n",
      "0.001427629550851739\n",
      "0.0014058777637857567\n",
      "0.0013846376339761157\n",
      "0.0013638931340150262\n",
      "0.0013436288558772436\n",
      "0.001323829982767033\n",
      "0.0013044822624218022\n",
      "0.0012855719817857492\n",
      "0.0012670859429789738\n",
      "0.001249011440485559\n",
      "0.001231336239494174\n",
      "0.0012140485553244207\n",
      "0.001197137033881468\n",
      "0.0011805907330769694\n",
      "0.0011643991051690783\n",
      "0.0011485519799655508\n",
      "0.0011330395488456935\n",
      "0.001117852349556414\n",
      "0.0011029812517401871\n",
      "0.0010884174431546323\n",
      "0.0010741524165484573\n",
      "0.001060177957158348\n",
      "0.0010464861307921958\n",
      "0.0010330692724712653\n",
      "0.0010199199755978883\n",
      "0.0010070310816255312\n",
      "0.0009943956702017087\n",
      "[[ 7.25118112e-03 -9.39205852e-01  8.88651027e-04  9.59522336e-01\n",
      "   7.42665977e-03]]\n"
     ]
    },
    {
     "data": {
      "text/plain": [
       "116"
      ]
     },
     "execution_count": 11,
     "metadata": {},
     "output_type": "execute_result"
    }
   ],
   "source": [
    "gradient_ascent(X_train,W,Y_train,0.04,0.001)"
   ]
  },
  {
   "cell_type": "markdown",
   "metadata": {},
   "source": [
    "<div style=\"background-color: white; width: 93%; padding: 2em 2em 0.2em 2em; font-family: Gill Sans, sans-serif;\">\n",
    "    <h4 style=\"color: black;\"> 3.2 Risultati del modello allenato </h4>\n",
    "</div>"
   ]
  },
  {
   "cell_type": "code",
   "execution_count": 12,
   "metadata": {},
   "outputs": [
    {
     "name": "stdout",
     "output_type": "stream",
     "text": [
      "### MyLog:\n",
      "\tAccuracy of training: 0.9721153846153847\n",
      "\tAccuracy of test: 0.954983922829582\n",
      "### MyLog:\n",
      "\tError rate of training: 0.027884615384615286\n",
      "\tError rate of test: 0.045016077170418\n"
     ]
    }
   ],
   "source": [
    "train_accurancy, train_predictions, train_prob_predictions = prediction(W,X_train,Y_train)\n",
    "test_accurancy, test_predictions, test_prob_predictions = prediction(W,X_test,Y_test)\n",
    "\n",
    "print(\"### MyLog:\\n\\tAccuracy of training: \"+str(train_accurancy)+\"\\n\\tAccuracy of test: \"+str(test_accurancy))\n",
    "print(\"### MyLog:\\n\\tError rate of training: \"+str(1 - train_accurancy)+\"\\n\\tError rate of test: \"+str(1 - test_accurancy))"
   ]
  },
  {
   "cell_type": "markdown",
   "metadata": {},
   "source": [
    "<div style=\"background-color: white; border-bottom-left-radius:15px; border-bottom-right-radius:15px; width:93%; padding:2em 2em 0.2em 2em; font-family:Gill Sans, sans-serif;\">\n",
    "</div>"
   ]
  },
  {
   "cell_type": "markdown",
   "metadata": {},
   "source": [
    "<div style=\"background-color: white; border-top-left-radius: 15px; border-top-right-radius: 15px; width: 93%; padding: 2em 2em 0.2em 2em; font-family: Gill Sans, sans-serif;\">\n",
    "    <a id=\"#intro\" style=\"text-decoration:none; color: black;\"><h3 style=\"font-weight:700;\"> 4. Valutazione del modello </h3></a>\n",
    "    <h4 style=\"color:black\"> 4.1 Metrica d'errore</h4>\n",
    "    <p style=\"color:black\">Per definire basso o alto l'error rate, è necessaria una metrica. Possiamo definirla considerando l'errore che farebbe un classificatore che predice sempre solo una delle due classi. In base a questo valore si valuta l'errore del classificatore implementato</p>\n",
    "</div>"
   ]
  },
  {
   "cell_type": "code",
   "execution_count": 14,
   "metadata": {},
   "outputs": [
    {
     "name": "stdout",
     "output_type": "stream",
     "text": [
      "Error rate di un classificatore che predice solo 0:  0.44041450777202074\n",
      "Accuracy di un classificatore che predice solo 0:  0.5595854922279793\n"
     ]
    }
   ],
   "source": [
    "# metric_error = #valori classe 0 / #valori classi\n",
    "metric_error = len(data[data.classificazione == 0]) / len(data)\n",
    "metric_accurancy = 1 - metric_error\n",
    "\n",
    "print(\"Error rate di un classificatore che predice solo 0: \", metric_error)\n",
    "print(\"Accuracy di un classificatore che predice solo 0: \", metric_accurancy)"
   ]
  },
  {
   "cell_type": "markdown",
   "metadata": {},
   "source": [
    "<div style=\"background-color: white; width: 93%; padding: 2em 2em 0.2em 2em; font-family: Gill Sans, sans-serif;\">\n",
    "    <h4 style=\"color: black;\"> 4.2 Confusion Matrix </h4>\n",
    "</div>"
   ]
  },
  {
   "cell_type": "code",
   "execution_count": 15,
   "metadata": {},
   "outputs": [
    {
     "data": {
      "image/png": "[encoded data removed]",
      "text/plain": [
       "<Figure size 432x288 with 2 Axes>"
      ]
     },
     "metadata": {
      "needs_background": "light"
     },
     "output_type": "display_data"
    },
    {
     "name": "stdout",
     "output_type": "stream",
     "text": [
      "Precision:  0.9217877094972067\n",
      "Recall:  1.0\n",
      "Specificity:  0.9041095890410958\n"
     ]
    }
   ],
   "source": [
    "cm = confusion_matrix(Y_test, test_predictions.T)\n",
    "plt.figure()\n",
    "sns.set(font_scale=1.5)\n",
    "hm = sns.heatmap( cm, cbar=True, annot=True, square=True, fmt='.2f', annot_kws={'size': 15}, yticklabels=['No', 'Yes'], xticklabels=['No', 'Yes'])\n",
    "plt.title('Confusion Matrix TEST')\n",
    "plt.ylabel('default')\n",
    "plt.xlabel('prediction')\n",
    "plt.show()\n",
    "\n",
    "diagonal = np.diag(cm)\n",
    "antidiagonal = np.fliplr(cm).diagonal()\n",
    "\n",
    "false_positive = antidiagonal[0]\n",
    "false_negative = antidiagonal[1]\n",
    "true_positive = diagonal[1]\n",
    "true_negative = diagonal[0]\n",
    "\n",
    "# Precision\n",
    "pre = true_positive/(true_positive+false_positive)\n",
    "# Recall\n",
    "rec = true_positive/(true_positive+false_negative)\n",
    "# Specificity\n",
    "sens = true_negative/(true_negative+false_positive) \n",
    "\n",
    "print(\"Precision: \", pre)\n",
    "print(\"Recall: \", rec)\n",
    "print(\"Specificity: \", sens)"
   ]
  },
  {
   "cell_type": "markdown",
   "metadata": {},
   "source": [
    "<div style=\"background-color: white; width: 93%; padding: 2em 2em 0.2em 2em; font-family: Gill Sans, sans-serif;\">\n",
    "    <h4 style=\"color: black;\"> 4.3 Curva precision e recall </h4>\n",
    "</div>"
   ]
  },
  {
   "cell_type": "code",
   "execution_count": 18,
   "metadata": {},
   "outputs": [
    {
     "data": {
      "image/png": "[encoded data removed]",
      "text/plain": [
       "<Figure size 432x288 with 1 Axes>"
      ]
     },
     "metadata": {},
     "output_type": "display_data"
    },
    {
     "name": "stdout",
     "output_type": "stream",
     "text": [
      "f1-score:  0.9593023255813954\n"
     ]
    }
   ],
   "source": [
    "precision, recall, thresholds = precision_recall_curve(Y_test, test_prob_predictions.T)\n",
    "plt.figure()\n",
    "plt.plot(recall, precision)\n",
    "plt.title(\"Precision-Recall Curve: Logit\")\n",
    "plt.xlabel(\"Recall\")\n",
    "plt.ylabel(\"Precision\")\n",
    "plt.show()\n",
    "\n",
    "print(\"f1-score: \", f1_score(Y_test, test_predictions.T))"
   ]
  },
  {
   "cell_type": "markdown",
   "metadata": {},
   "source": [
    "<div style=\"background-color: white; width: 93%; padding: 2em 2em 0.2em 2em; font-family: Gill Sans, sans-serif;\">\n",
    "    <h4 style=\"color: black;\"> 4.2 Curva ROC e AUC </h4>\n",
    "</div>"
   ]
  },
  {
   "cell_type": "code",
   "execution_count": 17,
   "metadata": {},
   "outputs": [
    {
     "data": {
      "image/png": "[encoded data removed]",
      "text/plain": [
       "<Figure size 432x288 with 1 Axes>"
      ]
     },
     "metadata": {},
     "output_type": "display_data"
    },
    {
     "name": "stdout",
     "output_type": "stream",
     "text": [
      "AUC:  0.952054794520548\n"
     ]
    }
   ],
   "source": [
    "fpr, tpr, thresholds = roc_curve(Y_test, test_prob_predictions.T)\n",
    "plt.figure()\n",
    "plt.plot(fpr, tpr)\n",
    "plt.title(\"ROC: Logit\")\n",
    "plt.xlabel(\"False Positive Rate\")\n",
    "plt.ylabel(\"True Positive Rate\")\n",
    "plt.show()\n",
    "\n",
    "print (\"AUC: \", roc_auc_score(Y_test, test_predictions.T))"
   ]
  },
  {
   "cell_type": "markdown",
   "metadata": {},
   "source": [
    "<div style=\"background-color: white; border-bottom-left-radius:15px; border-bottom-right-radius:15px; width:93%; padding:2em 2em 0.2em 2em; font-family:Gill Sans, sans-serif;\">\n",
    "</div>"
   ]
  }
 ],
 "metadata": {
  "kernelspec": {
   "display_name": "Python 3.10.4 64-bit",
   "language": "python",
   "name": "python3"
  },
  "language_info": {
   "codemirror_mode": {
    "name": "ipython",
    "version": 3
   },
   "file_extension": ".py",
   "mimetype": "text/x-python",
   "name": "python",
   "nbconvert_exporter": "python",
   "pygments_lexer": "ipython3",
   "version": "3.10.4"
  },
  "orig_nbformat": 4,
  "vscode": {
   "interpreter": {
    "hash": "702afc27125c4b44e8d6e4d91e2be92deaff276ecbbea6cc8c365578c4a94287"
   }
  }
 },
 "nbformat": 4,
 "nbformat_minor": 2
}
