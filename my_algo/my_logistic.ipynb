{
 "cells": [
  {
   "cell_type": "markdown",
   "metadata": {},
   "source": [
    "<div style=\"background-color : white; border-radius: 15px; width: 93%; padding: 2em; color: black; font-family: Gill Sans, sans-serif;\">\n",
    "<h1 style =\"text-align: center; color: black; font-family: Gill Sans, sans-serif;font-weight: 700;\"> Implementazione di un classificatore con Logistic Regression </h1>\n",
    "<h2>Indice</h2>\n",
    "\n",
    "<ol type=\"1\">\n",
    "    <li style=\"padding-top: 0.3em; padding-bottom: 0.3em;\"><a href=\"#intro\">Basi per la logistic regression</a>\n",
    "        <ul>\n",
    "            <li style=\"padding-top: 0.3em; padding-bottom: 0.3em;\">1.1 Pacchetti necessari</li>\n",
    "            <li style=\"padding-bottom: 0.3em;\">1.2 Funzione logistica o sigmoide</li>\n",
    "            <li style=\"padding-bottom: 0.3em;\">1.3 Funzione d'ipotesi</li>\n",
    "            <li style=\"padding-bottom: 0.3em;\">1.4 Gradient ascent</li>\n",
    "            <li>1.5 Funzione di predizione</li>\n",
    "        </ul>\n",
    "    </li>\n",
    "    <li style=\"padding-top: 0.3em; padding-bottom: 0.3em;\"><a href=\"#struttura\">Preparazione dataset</a>\n",
    "        <ul>\n",
    "            <li style=\"padding-top: 0.3em; padding-bottom: 0.3em;\">2.1 Caricamento del dataset</li>\n",
    "            <li style=\"padding-bottom: 0.3em;\">2.2 Divisione del dataset in train e test set</li>\n",
    "            <li style=\"padding-bottom: 0.3em;\">2.3 Manipolazione dei dati</li>\n",
    "            <li>2.4 Normalizzazione dei dati</li>\n",
    "        </ul>\n",
    "    </li>\n",
    "    <li style=\"padding-top: 0.3em; padding-bottom: 0.3em;\"><a href=\"#grafici\">Applicazione del modello</a>\n",
    "        <ul>\n",
    "            <li style=\"padding-top: 0.3em; padding-bottom: 0.3em;\">3.1 Allenamento del modello</li>\n",
    "            <li>3.2 Risultati del modello allenato</li>\n",
    "        </ul>\n",
    "    </li>\n",
    "    <li style=\"padding-top: 0.3em; padding-bottom: 0.3em;\"><a href=\"#conclusioni\">Valutazione del modello</a></li>\n",
    "        <ul>\n",
    "            <li style=\"padding-top: 0.3em; padding-bottom: 0.3em;\">4.1 Metrica d'errore</li>\n",
    "            <li style=\"padding-bottom: 0.3em;\">4.2 Confusion Matrix</li>\n",
    "            <li style=\"padding-bottom: 0.3em;\">4.3 Curva precision e recall</li>\n",
    "            <li>4.4 Curva ROC e AUC</li>\n",
    "        </ul>\n",
    "    </li>\n",
    "</ol>\n",
    "</div>"
   ]
  },
  {
   "cell_type": "markdown",
   "metadata": {},
   "source": [
    "<div style=\"background-color: white; border-top-left-radius: 15px; border-top-right-radius: 15px; width: 93%; padding: 2em 2em 0.2em 2em; font-family: Gill Sans, sans-serif;\">\n",
    "    <a id=\"#intro\" style=\"text-decoration:none; color: black;\"><h3 style=\"font-weight:700;\"> 1. Basi per la logistic regression </h3></a>\n",
    "    <h4 style=\"color:black\"> 1.1 Pacchetti necessari </h4>\n",
    "</div>"
   ]
  },
  {
   "cell_type": "code",
   "execution_count": 1,
   "metadata": {},
   "outputs": [],
   "source": [
    "import numpy as np\n",
    "import pandas as pd\n",
    "from sklearn.model_selection import train_test_split\n",
    "from sklearn.preprocessing import StandardScaler\n",
    "from sklearn.metrics import confusion_matrix, precision_recall_curve, f1_score, roc_curve, roc_auc_score\n",
    "import seaborn as sns\n",
    "import matplotlib.pyplot as plt"
   ]
  },
  {
   "cell_type": "markdown",
   "metadata": {},
   "source": [
    "<div style=\"background-color: white; width: 93%; padding: 2em 2em 0.2em 2em; font-family: Gill Sans, sans-serif;\">\n",
    "    <h4 style=\"color: black;\"> 1.2 Funzione logistica o sigmoide </h4>\n",
    "    <p style=\"color: black;\">Funzione matematica che produce una curva avente un andamento ad \"S\". È una funzione reale limitata tra 0 e 1, definita per tutti i valori reali. È differenziabile, ha una derivata non negativa in ogni punto ed un punto di flesso in (0;0.5)</p>\n",
    "    <span style=\"display:flex; flex-direction:row; gap: 5%; align-items: center; justify-content: center; align-content:center; padding-bottom:1%;\">\n",
    "        <img src=\"./notebook_pic/Logistic-curve.png\">\n",
    "        <img src=\"./notebook_pic/Logistic-formula.jpg\">\n",
    "    </span>\n",
    "</div>"
   ]
  },
  {
   "cell_type": "code",
   "execution_count": 2,
   "metadata": {},
   "outputs": [],
   "source": [
    "def logistic(z):\n",
    "    den = 1 + np.exp(-z)\n",
    "    sigm = 1.0/den\n",
    "    return sigm"
   ]
  },
  {
   "cell_type": "markdown",
   "metadata": {},
   "source": [
    "<div style=\"background-color: white; width: 93%; padding: 2em 2em 0.2em 2em; font-family: Gill Sans, sans-serif;\">\n",
    "    <h4 style=\"color: black;\"> 1.3 Funzione d'ipotesi </h4>\n",
    "    <p style=\"color: black;\">La funzione di costo della logistic regression sarà basta sulla funzione sigmoide. Infatti, per effettuare la classificazione, serve una funzione con codominio [0,1]: la predizione si baserà sulla probabilità della stima di appartenere ad una delle due classi.</p>\n",
    "    <p style=\"color: black;\">Teoricamente le features potrebbero variare tra -ꝏ e ꝏ. Usando la funzione sigmoide: valori molto positivi non divergeranno verso l'infinito, bensì si attesteranno verso 1;  valori molto negativi non divergeranno verso l'infinito negativo, bensì si attesteranno verso 0.</p>\n",
    "    <span style=\"display:flex; flex-direction:row; gap: 5%; align-items: center; justify-content: center; align-content:center; padding-bottom:1%;\">\n",
    "        <img src=\"./notebook_pic/hyp.jpg\">\n",
    "    </span>\n",
    "</div>"
   ]
  },
  {
   "cell_type": "code",
   "execution_count": 3,
   "metadata": {},
   "outputs": [],
   "source": [
    "def hyp(W,X):\n",
    "    param = np.dot(W,X.T)\n",
    "    return logistic(param)"
   ]
  },
  {
   "cell_type": "markdown",
   "metadata": {},
   "source": [
    "<div style=\"background-color: white; width: 93%; padding: 2em 2em 0.2em 2em; font-family: Gill Sans, sans-serif;\">\n",
    "    <h4 style=\"color: black;\"> 1.4 Funzione di costo </h4>\n",
    "    <p style=\"color: black;\">La distribuzione di probabilità di un classificatore binario è rappresentata da una distribuzione di Bernoulli. In particolare, date le features (<b>x</b>) ed i pesi (<b>θ</b>), siamo interessati alla probabilità che l'output (Y) appartenga ad una delle due classi (0 o 1).</p>\n",
    "    <span style=\"display:flex; flex-direction:row; gap: 5%; align-items: center; justify-content: center; align-content:center; padding-bottom:1%;\">\n",
    "        <img src=\"./notebook_pic/bern1.jpg\">\n",
    "        <img src=\"./notebook_pic/bern2.jpg\">\n",
    "    </span>\n",
    "    <span style=\"display:flex; flex-direction:row; gap: 5%; align-items: center; justify-content: center; align-content:center; padding-bottom:1%;\">\n",
    "        <img src=\"./notebook_pic/bern3.jpg\">\n",
    "    </span>\n",
    "    <p style=\"color: black;\">Considerando tutte le features e ipotizzando che siano indipendenti e identicamente distribuite otteniamo la funzione di likelihood e successivamente la funzione di costo logaritmica</p>\n",
    "    <span style=\"display:flex; flex-direction:column; gap: 5%; align-items: center; justify-content: center; align-content:center; padding-bottom:1%;\">\n",
    "        <img src=\"./notebook_pic/bern4.jpg\">\n",
    "        <img src=\"./notebook_pic/bern5.jpg\">\n",
    "        <img src=\"./notebook_pic/bern6.jpg\">\n",
    "    </span>\n",
    "</div>"
   ]
  },
  {
   "cell_type": "code",
   "execution_count": 4,
   "metadata": {},
   "outputs": [],
   "source": [
    "def cost(W,X,Y):\n",
    "    m = X.shape[0]\n",
    "    h = hyp(W,X)\n",
    "    log_h = np.log(h)\n",
    "    log_one_h = np.log(1-h)\n",
    "    l_cost = float((-1.0/m) * ((np.dot(log_h,Y)) + (np.dot(log_one_h,(1-Y)))))\n",
    "    return l_cost"
   ]
  },
  {
   "cell_type": "markdown",
   "metadata": {},
   "source": [
    "<div style=\"background-color: white; width: 93%; padding: 2em 2em 0.2em 2em; font-family: Gill Sans, sans-serif;\">\n",
    "    <h4 style=\"color: black;\"> 1.5 Gradient ascent </h4>\n",
    "    <p style=\"color: black;\">Per come si è impostata la distribuzione, i pesi dovranno essere tali da massimizzare la funzione di costo. Infatti quando la y assume un valore, la funzione d'ipotesi dell'altro caso viene annullata. Quindi per riconoscere effettivamente un vero caso y, la funzione d'ipotesi deve aver il valore più grande possibile.</p>\n",
    "    <span style=\"display:flex; flex-direction:column; gap: 5%; align-items: center; justify-content: center; align-content:center; padding-bottom:1%;\">\n",
    "        <img src=\"./notebook_pic/cost1.jpg\">\n",
    "        <img src=\"./notebook_pic/cost2.jpg\">\n",
    "    </span>\n",
    "    <p style=\"color: black;\">Per raggiungere la massimizzazione dei pesi si utilizza un algoritmo gradient ascent. Data la curva della funzione di costo, si parte da un valore di <b>θ</b> e si calcola il valore di J(<b>θ</b>). In base alla derivata di J(<b>θ</b>) ci sposta lungo la curva di un fattore <i>α</i> e si ripete l'operazione fino alla convergenza, quindi finchè lo spostamento tra due valori di J(<b>θ</b>) è minimo.</p>\n",
    "    <span style=\"display:flex; flex-direction:column; gap: 5%; align-items: center; justify-content: center; align-content:center; padding-bottom:1%;\">\n",
    "        <img src=\"./notebook_pic/grad_asc1.jpg\">\n",
    "    </span>\n",
    "    <p style=\"color: black;\">Per il ragionamento suddetto, i pesi <b>θ</b> vengono aggiornati in base alla seguente formula.</p>\n",
    "    <span style=\"display:flex; flex-direction:column; gap: 5%; align-items: center; justify-content: center; align-content:center; padding-bottom:1%;\">\n",
    "        <img src=\"./notebook_pic/grad_asc2.jpg\">\n",
    "    </span>\n",
    "    <p style=\"color: black;\">Il procedimento può essere visto in forma algoritmica.</p>\n",
    "    <span style=\"display:flex; flex-direction:column; gap: 5%; align-items: center; justify-content: center; align-content:center; padding-bottom:1%;\">\n",
    "        <img src=\"./notebook_pic/grad_asc3.jpg\">\n",
    "    </span>\n",
    "</div>"
   ]
  },
  {
   "cell_type": "code",
   "execution_count": 5,
   "metadata": {},
   "outputs": [],
   "source": [
    "def gradient_ascent(X,W,Y,alpha,stop):\n",
    "    m,n = X.shape\n",
    "    cost_old = np.inf\n",
    "    cost_new = cost(W,X,Y)\n",
    "    print(cost_old - cost(W,X,Y))\n",
    "    sum = 0\n",
    "    iter = 0\n",
    "\n",
    "    while(abs(cost_old-cost_new) > stop):\n",
    "        for j in range(0,n):\n",
    "            for i in range(0,m):\n",
    "                sum += (Y[i][0] - hyp(W,X[i])) * X[i][j]\n",
    "            W[0][j] = W[0][j] + (alpha/m) * sum\n",
    "        cost_old = cost_new\n",
    "        cost_new = cost(W,X,Y)\n",
    "        print(cost_old - cost(W,X,Y))\n",
    "        iter += 1\n",
    "\n",
    "    print(W)\n",
    "    return iter  "
   ]
  },
  {
   "cell_type": "markdown",
   "metadata": {},
   "source": [
    "<div style=\"background-color: white; width: 93%; padding: 2em 2em 0.2em 2em; font-family: Gill Sans, sans-serif;\">\n",
    "    <h4 style=\"color: black;\"> 1.6 Funzione di predizione </h4>\n",
    "    <p style=\"color: black;\">Una volta allenato il modello, calcolando la funzione d'ipotesi con le features interessate e i pesi aggiornati si ottiene una stima di probabilità sulla classe relativa alle features proposte. Se quest'ultima supera una certa soglia, la classe sarà la 1, altrimenti la 0.</p>\n",
    "    <p style=\"color: black;\">L'accurancy del modello viene ottenuta facendo la media del numero di volte in cui la predizione è stata corretta</p>\n",
    "</div>"
   ]
  },
  {
   "cell_type": "code",
   "execution_count": 6,
   "metadata": {},
   "outputs": [],
   "source": [
    "def prediction(W,X,Y):\n",
    "    m = X.shape[0]\n",
    "    h = hyp(X, W)\n",
    "    Y_hat = h > 0.6\n",
    "    accuracy = 1.0/m * np.sum(Y == Y_hat)\n",
    "    return accuracy, Y_hat, h"
   ]
  },
  {
   "cell_type": "markdown",
   "metadata": {},
   "source": [
    "<div style=\"background-color: white; border-bottom-left-radius:15px; border-bottom-right-radius:15px; width:93%; padding:2em 2em 0.2em 2em; font-family:Gill Sans, sans-serif;\">\n",
    "</div>"
   ]
  },
  {
   "cell_type": "markdown",
   "metadata": {},
   "source": [
    "<div style=\"background-color: white; border-top-left-radius: 15px; border-top-right-radius: 15px; width: 93%; padding: 2em 2em 0.2em 2em; font-family: Gill Sans, sans-serif;\">\n",
    "    <a id=\"#intro\" style=\"text-decoration:none; color: black;\"><h3 style=\"font-weight:700;\"> 2. Preparazione del dataset </h3></a>\n",
    "    <h4 style=\"color:black\"> 2.1 Caricamento del dataset </h4>\n",
    "</div>"
   ]
  },
  {
   "cell_type": "code",
   "execution_count": 7,
   "metadata": {},
   "outputs": [],
   "source": [
    "# Carico il dataset\n",
    "path = '../color_extr/data.csv'\n",
    "data = pd.read_csv(path, usecols = [i for i in range(5)])"
   ]
  },
  {
   "cell_type": "markdown",
   "metadata": {},
   "source": [
    "<div style=\"background-color: white; width: 93%; padding: 2em 2em 0.2em 2em; font-family: Gill Sans, sans-serif;\">\n",
    "    <h4 style=\"color: black;\"> 2.2 Divisione del dataset in train e test set </h4>\n",
    "</div>"
   ]
  },
  {
   "cell_type": "code",
   "execution_count": 16,
   "metadata": {},
   "outputs": [],
   "source": [
    "# Creo train e test set\n",
    "X_train, X_test, Y_train, Y_test = train_test_split(data[['presenza_foglie','assenza_foglie','presenza_bachi_sfondo','assenza_bachi_sfondo']], data[['classificazione']], test_size=0.23)"
   ]
  },
  {
   "cell_type": "markdown",
   "metadata": {},
   "source": [
    "<div style=\"background-color: white; width: 93%; padding: 2em 2em 0.2em 2em; font-family: Gill Sans, sans-serif;\">\n",
    "    <h4 style=\"color: black;\"> 2.3 Manipolazione dei dati </h4>\n",
    "    <ul style=\"color: black;\">\n",
    "        <li>Tutti i set sono convertiti in array np</li>\n",
    "        <li>Alle features virne aggiunto il bias della funzione d'ipotesi (θ<sub>0</sub>)</li>\n",
    "        <li>Viene inizializzato il vettore dei pesi</li>\n",
    "    </ul>\n",
    "</div>"
   ]
  },
  {
   "cell_type": "code",
   "execution_count": 17,
   "metadata": {},
   "outputs": [],
   "source": [
    "m_tr, n_tr = X_train.shape\n",
    "X_train = np.concatenate((np.ones((m_tr,1)), X_train), axis=1)\n",
    "n_tr +=1\n",
    "\n",
    "m_te, n_te = X_test.shape\n",
    "X_test = np.concatenate((np.ones((m_te,1)), X_test), axis=1)\n",
    "n_te += 1\n",
    "\n",
    "W = np.array(np.zeros((1,n_te)))\n",
    "\n",
    "Y_train = Y_train.to_numpy()\n",
    "Y_test = Y_test.to_numpy()"
   ]
  },
  {
   "cell_type": "markdown",
   "metadata": {},
   "source": [
    "<div style=\"background-color: white; width: 93%; padding: 2em 2em 0.2em 2em; font-family: Gill Sans, sans-serif;\">\n",
    "    <h4 style=\"color: black;\"> 2.4 Normalizzazione dei dati </h4>\n",
    "</div>"
   ]
  },
  {
   "cell_type": "code",
   "execution_count": 18,
   "metadata": {},
   "outputs": [],
   "source": [
    "# Normalizzo i dati\n",
    "sc = StandardScaler()\n",
    "X_train = sc.fit_transform(X_train)\n",
    "X_test = sc.fit_transform(X_test)"
   ]
  },
  {
   "cell_type": "markdown",
   "metadata": {},
   "source": [
    "<div style=\"background-color: white; border-bottom-left-radius:15px; border-bottom-right-radius:15px; width:93%; padding:2em 2em 0.2em 2em; font-family:Gill Sans, sans-serif;\">\n",
    "</div>"
   ]
  },
  {
   "cell_type": "markdown",
   "metadata": {},
   "source": [
    "<div style=\"background-color: white; border-top-left-radius: 15px; border-top-right-radius: 15px; width: 93%; padding: 2em 2em 0.2em 2em; font-family: Gill Sans, sans-serif;\">\n",
    "    <a id=\"#intro\" style=\"text-decoration:none; color: black;\"><h3 style=\"font-weight:700;\"> 3. Applicazione del modello </h3></a>\n",
    "    <h4 style=\"color:black\"> 3.1 Allenamento del modello</h4>\n",
    "    <p style=\"color:black\"> Cerco il punto di massimo della funzione di costo per trovare i pesi ottimi.</p>\n",
    "    <p style=\"color:black\"> Iperparametri (alpha e condizione di stop) scelti in base al metodo Hand Tuning: iperparametri selzionati in base alle prove sul modello finchè non si raggiungono delle performance soddisfacenti</p>\n",
    "</div>"
   ]
  },
  {
   "cell_type": "code",
   "execution_count": 19,
   "metadata": {},
   "outputs": [
    {
     "name": "stdout",
     "output_type": "stream",
     "text": [
      "inf\n",
      "0.014136439878843388\n",
      "0.013594669575828666\n",
      "0.013074601976915123\n",
      "0.012575843848283697\n",
      "0.012097926621655763\n",
      "0.011640319368403151\n",
      "0.011202440950917936\n",
      "0.010783671219029789\n",
      "0.010383361171349859\n",
      "0.010000842045757907\n",
      "0.00963543333954986\n",
      "0.00928644978825921\n",
      "0.008953207353482484\n",
      "0.008635028284977642\n",
      "0.008331245331822279\n",
      "0.008041205182451994\n",
      "0.007764271214884211\n",
      "0.007499825637177104\n",
      "0.007247271094927177\n",
      "0.007006031817980818\n",
      "0.0067755543730360634\n",
      "0.006555308082835387\n",
      "0.006344785166523315\n",
      "0.006143500649689604\n",
      "0.005950992086790452\n",
      "0.005766819133183165\n",
      "0.005590562998946114\n",
      "0.005421825812063685\n",
      "0.005260229914411441\n",
      "0.00510541711029977\n",
      "0.0049570478840816334\n",
      "0.0048148006004948285\n",
      "0.004678370698941059\n",
      "0.004547469890783251\n",
      "0.004421825366923204\n",
      "0.0043011790213763335\n",
      "0.004185286695254364\n",
      "0.004073917444469999\n",
      "0.00396685283356224\n",
      "0.003863886257284954\n",
      "0.0037648222909766327\n",
      "0.003669476070227551\n",
      "0.0035776726999405817\n",
      "0.0034892466925708354\n",
      "0.0034040414350561266\n",
      "0.003321908683765362\n",
      "0.0032427080866337388\n",
      "0.0031663067315479965\n",
      "0.0030925787199646004\n",
      "0.0030214047647004194\n",
      "0.002952671810800389\n",
      "0.0028862726783814296\n",
      "0.002822105726354829\n",
      "0.002760074535943513\n",
      "0.0027000876129361084\n",
      "0.002642058107644951\n",
      "0.0025859035515778395\n",
      "0.0025315456098642386\n",
      "0.002478909848518507\n",
      "0.002427925515669671\n",
      "0.0023785253359200897\n",
      "0.002330645317046909\n",
      "0.002284224568293469\n",
      "0.0022392051295471727\n",
      "0.002195531810729512\n",
      "0.002153152040774098\n",
      "0.002112015725594052\n",
      "0.0020720751144840954\n",
      "0.0020332846744318123\n",
      "0.001995600971843592\n",
      "0.00195898256122784\n",
      "0.0019233898803962535\n",
      "0.0018887851517823129\n",
      "0.0018551322894926892\n",
      "0.0018223968117372924\n",
      "0.0017905457583026196\n",
      "0.0017595476127579834\n",
      "0.0017293722291002456\n",
      "0.0016999907625650512\n",
      "0.001671375604345826\n",
      "0.0016435003199862797\n",
      "0.001616339591214988\n",
      "0.001589869161018942\n",
      "0.0015640657817554415\n",
      "0.001538907166120318\n",
      "0.0015143719408015066\n",
      "0.0014904396026538813\n",
      "0.0014670904772488003\n",
      "0.0014443056796539233\n",
      "0.0014220670773140154\n",
      "0.0014003572549049492\n",
      "0.0013791594810516616\n",
      "0.0013584576767938783\n",
      "0.001338236385704017\n",
      "0.0013184807455577374\n",
      "0.001299176461471152\n",
      "0.0012803097804170438\n",
      "0.001261867467045652\n",
      "0.0012438367807321438\n",
      "0.0012262054537848233\n",
      "0.0012089616707463557\n",
      "0.0011920940487296083\n",
      "0.0011755916187287663\n",
      "0.0011594438078507685\n",
      "0.0011436404224219876\n",
      "0.0011281716319138657\n",
      "0.0011130279536515353\n",
      "0.0010982002382566303\n",
      "0.0010836796557887052\n",
      "0.0010694576825457103\n",
      "0.0010555260884898\n",
      "0.0010418769252647786\n",
      "0.0010285025147739324\n",
      "0.0010153954382891572\n",
      "0.0010025485260637401\n",
      "0.0009899548474225084\n",
      "[[ 0.00387137 -0.94393032 -0.00252261  0.95377846  0.0039877 ]]\n"
     ]
    },
    {
     "data": {
      "text/plain": [
       "116"
      ]
     },
     "execution_count": 19,
     "metadata": {},
     "output_type": "execute_result"
    }
   ],
   "source": [
    "gradient_ascent(X_train,W,Y_train,0.04,0.001)"
   ]
  },
  {
   "cell_type": "markdown",
   "metadata": {},
   "source": [
    "<div style=\"background-color: white; width: 93%; padding: 2em 2em 0.2em 2em; font-family: Gill Sans, sans-serif;\">\n",
    "    <h4 style=\"color: black;\"> 3.2 Risultati del modello allenato </h4>\n",
    "</div>"
   ]
  },
  {
   "cell_type": "code",
   "execution_count": 20,
   "metadata": {},
   "outputs": [
    {
     "name": "stdout",
     "output_type": "stream",
     "text": [
      "### MyLog:\n",
      "\tAccuracy of training: 0.9778846153846155\n",
      "\tAccuracy of test: 0.9871382636655949\n",
      "### MyLog:\n",
      "\tError rate of training: 0.022115384615384537\n",
      "\tError rate of test: 0.012861736334405127\n"
     ]
    }
   ],
   "source": [
    "train_accurancy, train_predictions, train_prob_predictions = prediction(W,X_train,Y_train)\n",
    "test_accurancy, test_predictions, test_prob_predictions = prediction(W,X_test,Y_test)\n",
    "\n",
    "print(\"### MyLog:\\n\\tAccuracy of training: \"+str(train_accurancy)+\"\\n\\tAccuracy of test: \"+str(test_accurancy))\n",
    "print(\"### MyLog:\\n\\tError rate of training: \"+str(1 - train_accurancy)+\"\\n\\tError rate of test: \"+str(1 - test_accurancy))"
   ]
  },
  {
   "cell_type": "markdown",
   "metadata": {},
   "source": [
    "<div style=\"background-color: white; border-bottom-left-radius:15px; border-bottom-right-radius:15px; width:93%; padding:2em 2em 0.2em 2em; font-family:Gill Sans, sans-serif;\">\n",
    "</div>"
   ]
  },
  {
   "cell_type": "markdown",
   "metadata": {},
   "source": [
    "<div style=\"background-color: white; border-top-left-radius: 15px; border-top-right-radius: 15px; width: 93%; padding: 2em 2em 0.2em 2em; font-family: Gill Sans, sans-serif;\">\n",
    "    <a id=\"#intro\" style=\"text-decoration:none; color: black;\"><h3 style=\"font-weight:700;\"> 4. Valutazione del modello </h3></a>\n",
    "    <h4 style=\"color:black\"> 4.1 Metrica d'errore</h4>\n",
    "    <p style=\"color:black\">Per definire basso o alto l'error rate, è necessaria una metrica. Possiamo definirla considerando l'errore che farebbe un classificatore che predice sempre solo una delle due classi. In base a questo valore si valuta l'errore del classificatore implementato</p>\n",
    "</div>"
   ]
  },
  {
   "cell_type": "code",
   "execution_count": 21,
   "metadata": {},
   "outputs": [
    {
     "name": "stdout",
     "output_type": "stream",
     "text": [
      "Error rate di un classificatore che predice solo 0:  0.44041450777202074\n",
      "Accuracy di un classificatore che predice solo 0:  0.5595854922279793\n"
     ]
    }
   ],
   "source": [
    "# metric_error = #valori classe 0 / #valori classi\n",
    "metric_error = len(data[data.classificazione == 0]) / len(data)\n",
    "metric_accurancy = 1 - metric_error\n",
    "\n",
    "print(\"Error rate di un classificatore che predice solo 0: \", metric_error)\n",
    "print(\"Accuracy di un classificatore che predice solo 0: \", metric_accurancy)"
   ]
  },
  {
   "cell_type": "markdown",
   "metadata": {},
   "source": [
    "<div style=\"background-color: white; width: 93%; padding: 2em 2em 0.2em 2em; font-family: Gill Sans, sans-serif;\">\n",
    "    <h4 style=\"color: black;\"> 4.2 Confusion Matrix </h4>\n",
    "</div>"
   ]
  },
  {
   "cell_type": "code",
   "execution_count": 22,
   "metadata": {},
   "outputs": [
    {
     "data": {
      "image/png": "[encoded data removed]",
      "text/plain": [
       "<Figure size 432x288 with 2 Axes>"
      ]
     },
     "metadata": {
      "needs_background": "light"
     },
     "output_type": "display_data"
    }
   ],
   "source": [
    "cm = confusion_matrix(Y_test, test_predictions)\n",
    "plt.figure()\n",
    "sns.set(font_scale=1.5)\n",
    "hm = sns.heatmap( cm, cbar=True, annot=True, square=True, fmt='.2f', annot_kws={'size': 15}, yticklabels=['No', 'Yes'], xticklabels=['No', 'Yes'])\n",
    "plt.title('Confusion Matrix TEST')\n",
    "plt.ylabel('default')\n",
    "plt.xlabel('prediction')\n",
    "plt.show()"
   ]
  },
  {
   "cell_type": "markdown",
   "metadata": {},
   "source": [
    "<div style=\"background-color: white; width: 93%; padding: 2em 2em 0.2em 2em; font-family: Gill Sans, sans-serif;\">\n",
    "    <h4 style=\"color: black;\"> 4.3 Curva precision e recall </h4>\n",
    "</div>"
   ]
  },
  {
   "cell_type": "code",
   "execution_count": 23,
   "metadata": {},
   "outputs": [
    {
     "data": {
      "image/png": "[encoded data removed]",
      "text/plain": [
       "<Figure size 432x288 with 1 Axes>"
      ]
     },
     "metadata": {},
     "output_type": "display_data"
    },
    {
     "name": "stdout",
     "output_type": "stream",
     "text": [
      "Precision:  0.5258064516129032\n",
      "Recall:  1.0\n",
      "f1-score:  0.9877300613496932\n"
     ]
    }
   ],
   "source": [
    "precision, recall, thresholds = precision_recall_curve(Y_test, test_prob_predictions)\n",
    "plt.figure()\n",
    "plt.plot(recall, precision)\n",
    "plt.title(\"Precision-Recall Curve: Logit\")\n",
    "plt.xlabel(\"Recall\")\n",
    "plt.ylabel(\"Precision\")\n",
    "plt.show()\n",
    "\n",
    "print(\"Precision: \", precision[1])\n",
    "print(\"Recall: \", recall[1])\n",
    "print(\"f1-score: \", f1_score(Y_test, test_predictions))"
   ]
  },
  {
   "cell_type": "markdown",
   "metadata": {},
   "source": [
    "<div style=\"background-color: white; width: 93%; padding: 2em 2em 0.2em 2em; font-family: Gill Sans, sans-serif;\">\n",
    "    <h4 style=\"color: black;\"> 4.2 Curva ROC e AUC </h4>\n",
    "</div>"
   ]
  },
  {
   "cell_type": "code",
   "execution_count": 24,
   "metadata": {},
   "outputs": [
    {
     "data": {
      "image/png": "[encoded data removed]",
      "text/plain": [
       "<Figure size 432x288 with 1 Axes>"
      ]
     },
     "metadata": {},
     "output_type": "display_data"
    },
    {
     "name": "stdout",
     "output_type": "stream",
     "text": [
      "AUC:  0.98710827391809\n"
     ]
    }
   ],
   "source": [
    "fpr, tpr, thresholds = roc_curve(Y_test, test_prob_predictions)\n",
    "plt.figure()\n",
    "plt.plot(fpr, tpr)\n",
    "plt.title(\"ROC: Logit\")\n",
    "plt.xlabel(\"False Positive Rate\")\n",
    "plt.ylabel(\"True Positive Rate\")\n",
    "plt.show()\n",
    "\n",
    "print (\"AUC: \", roc_auc_score(Y_test, test_predictions))"
   ]
  },
  {
   "cell_type": "markdown",
   "metadata": {},
   "source": [
    "<div style=\"background-color: white; border-bottom-left-radius:15px; border-bottom-right-radius:15px; width:93%; padding:2em 2em 0.2em 2em; font-family:Gill Sans, sans-serif;\">\n",
    "</div>"
   ]
  }
 ],
 "metadata": {
  "kernelspec": {
   "display_name": "Python 3.10.4 64-bit",
   "language": "python",
   "name": "python3"
  },
  "language_info": {
   "codemirror_mode": {
    "name": "ipython",
    "version": 3
   },
   "file_extension": ".py",
   "mimetype": "text/x-python",
   "name": "python",
   "nbconvert_exporter": "python",
   "pygments_lexer": "ipython3",
   "version": "3.10.4"
  },
  "orig_nbformat": 4,
  "vscode": {
   "interpreter": {
    "hash": "702afc27125c4b44e8d6e4d91e2be92deaff276ecbbea6cc8c365578c4a94287"
   }
  }
 },
 "nbformat": 4,
 "nbformat_minor": 2
}
