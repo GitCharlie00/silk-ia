{
 "cells": [
  {
   "cell_type": "markdown",
   "metadata": {},
   "source": [
    "<div style=\"background-color : white; border-radius: 15px; width: 93%; padding: 2em; color: black; font-family: Gill Sans, sans-serif;\">\n",
    "<h1 style =\"text-align: center; color: black; font-family: Gill Sans, sans-serif;font-weight: 700;\"> Implementazione di un classificatore con Logistic Regression </h1>\n",
    "<h2>Indice</h2>\n",
    "\n",
    "<ol type=\"1\">\n",
    "    <li style=\"padding-top: 0.3em; padding-bottom: 0.3em;\"><a href=\"#intro\">Basi per la logistic regression</a>\n",
    "        <ul>\n",
    "            <li style=\"padding-top: 0.3em; padding-bottom: 0.3em;\">1.1 Pacchetti necessari</li>\n",
    "            <li style=\"padding-bottom: 0.3em;\">1.2 Funzione logistica o sigmoide</li>\n",
    "            <li style=\"padding-bottom: 0.3em;\">1.3 Funzione d'ipotesi</li>\n",
    "            <li style=\"padding-bottom: 0.3em;\">1.4 Gradient ascent</li>\n",
    "            <li>1.5 Funzione di predizione</li>\n",
    "        </ul>\n",
    "    </li>\n",
    "    <li style=\"padding-top: 0.3em; padding-bottom: 0.3em;\"><a href=\"#struttura\">Preparazione dataset</a>\n",
    "        <ul>\n",
    "            <li style=\"padding-top: 0.3em; padding-bottom: 0.3em;\">2.1 Caricamento del dataset</li>\n",
    "            <li style=\"padding-bottom: 0.3em;\">2.2 Divisione del dataset in train e test set</li>\n",
    "            <li style=\"padding-bottom: 0.3em;\">2.3 Manipolazione dei dati</li>\n",
    "            <li>2.4 Normalizzazione dei dati</li>\n",
    "        </ul>\n",
    "    </li>\n",
    "    <li style=\"padding-top: 0.3em; padding-bottom: 0.3em;\"><a href=\"#grafici\">Applicazione del modello</a>\n",
    "        <ul>\n",
    "            <li style=\"padding-top: 0.3em; padding-bottom: 0.3em;\">3.1 Allenamento del modello</li>\n",
    "            <li>3.2 Risultati del modello allenato</li>\n",
    "        </ul>\n",
    "    </li>\n",
    "    <li style=\"padding-top: 0.3em; padding-bottom: 0.3em;\"><a href=\"#conclusioni\">Valutazione del modello</a></li>\n",
    "        <ul>\n",
    "            <li style=\"padding-top: 0.3em; padding-bottom: 0.3em;\">4.1 Metrica d'errore</li>\n",
    "            <li style=\"padding-bottom: 0.3em;\">4.2 Confusion Matrix</li>\n",
    "            <li style=\"padding-bottom: 0.3em;\">4.3 Curva precision e recall</li>\n",
    "            <li>4.4 Curva ROC e AUC</li>\n",
    "        </ul>\n",
    "    </li>\n",
    "</ol>\n",
    "</div>"
   ]
  },
  {
   "cell_type": "markdown",
   "metadata": {},
   "source": [
    "<div style=\"background-color: white; border-top-left-radius: 15px; border-top-right-radius: 15px; width: 93%; padding: 2em 2em 0.2em 2em; font-family: Gill Sans, sans-serif;\">\n",
    "    <a id=\"#intro\" style=\"text-decoration:none; color: black;\"><h3 style=\"font-weight:700;\"> 1. Basi per la logistic regression </h3></a>\n",
    "    <h4 style=\"color:black\"> 1.1 Pacchetti necessari </h4>\n",
    "</div>"
   ]
  },
  {
   "cell_type": "code",
   "execution_count": 25,
   "metadata": {},
   "outputs": [],
   "source": [
    "import numpy as np\n",
    "import pandas as pd\n",
    "from sklearn.model_selection import train_test_split\n",
    "from sklearn.preprocessing import StandardScaler\n",
    "from sklearn.metrics import confusion_matrix, precision_recall_curve, f1_score, roc_curve, roc_auc_score\n",
    "import seaborn as sns\n",
    "import matplotlib.pyplot as plt"
   ]
  },
  {
   "cell_type": "markdown",
   "metadata": {},
   "source": [
    "<div style=\"background-color: white; width: 93%; padding: 2em 2em 0.2em 2em; font-family: Gill Sans, sans-serif;\">\n",
    "    <h4 style=\"color: black;\"> 1.2 Funzione logistica o sigmoide </h4>\n",
    "    <p style=\"color: black;\">Funzione matematica che produce una curva avente un andamento ad \"S\". È una funzione reale limitata tra 0 e 1, definita per tutti i valori reali. È differenziabile, ha una derivata non negativa in ogni punto ed un punto di flesso in (0;0.5)</p>\n",
    "    <span style=\"display:flex; flex-direction:row; gap: 5%; align-items: center; justify-content: center; align-content:center; padding-bottom:1%;\">\n",
    "        <img src=\"./notebook_pic/Logistic-curve.png\">\n",
    "        <img src=\"./notebook_pic/Logistic-formula.jpg\">\n",
    "    </span>\n",
    "</div>"
   ]
  },
  {
   "cell_type": "code",
   "execution_count": 26,
   "metadata": {},
   "outputs": [],
   "source": [
    "def logistic(z):\n",
    "    den = 1 + np.exp(-z)\n",
    "    sigm = 1.0/den\n",
    "    return sigm"
   ]
  },
  {
   "cell_type": "markdown",
   "metadata": {},
   "source": [
    "<div style=\"background-color: white; width: 93%; padding: 2em 2em 0.2em 2em; font-family: Gill Sans, sans-serif;\">\n",
    "    <h4 style=\"color: black;\"> 1.3 Funzione d'ipotesi </h4>\n",
    "    <p style=\"color: black;\">La funzione di costo della logistic regression sarà basta sulla funzione sigmoide. Infatti, per effettuare la classificazione, serve una funzione con codominio [0,1]: la predizione si baserà sulla probabilità della stima di appartenere ad una delle due classi.</p>\n",
    "    <p style=\"color: black;\">Teoricamente le features potrebbero variare tra -ꝏ e ꝏ. Usando la funzione sigmoide: valori molto positivi non divergeranno verso l'infinito, bensì si attesteranno verso 1;  valori molto negativi non divergeranno verso l'infinito negativo, bensì si attesteranno verso 0.</p>\n",
    "    <span style=\"display:flex; flex-direction:row; gap: 5%; align-items: center; justify-content: center; align-content:center; padding-bottom:1%;\">\n",
    "        <img src=\"./notebook_pic/hyp.jpg\">\n",
    "    </span>\n",
    "</div>"
   ]
  },
  {
   "cell_type": "code",
   "execution_count": 27,
   "metadata": {},
   "outputs": [],
   "source": [
    "def hyp(W,X):\n",
    "    param = np.dot(W,X.T)\n",
    "    return logistic(param)"
   ]
  },
  {
   "cell_type": "markdown",
   "metadata": {},
   "source": [
    "<div style=\"background-color: white; width: 93%; padding: 2em 2em 0.2em 2em; font-family: Gill Sans, sans-serif;\">\n",
    "    <h4 style=\"color: black;\"> 1.4 Funzione di costo </h4>\n",
    "    <p style=\"color: black;\">La distribuzione di probabilità di un classificatore binario è rappresentata da una distribuzione di Bernoulli. In particolare, date le features (<b>x</b>) ed i pesi (<b>θ</b>), siamo interessati alla probabilità che l'output (Y) appartenga ad una delle due classi (0 o 1).</p>\n",
    "    <span style=\"display:flex; flex-direction:row; gap: 5%; align-items: center; justify-content: center; align-content:center; padding-bottom:1%;\">\n",
    "        <img src=\"./notebook_pic/bern1.jpg\">\n",
    "        <img src=\"./notebook_pic/bern2.jpg\">\n",
    "    </span>\n",
    "    <span style=\"display:flex; flex-direction:row; gap: 5%; align-items: center; justify-content: center; align-content:center; padding-bottom:1%;\">\n",
    "        <img src=\"./notebook_pic/bern3.jpg\">\n",
    "    </span>\n",
    "    <p style=\"color: black;\">Considerando tutte le features e ipotizzando che siano indipendenti e identicamente distribuite otteniamo la funzione di likelihood e successivamente la funzione di costo logaritmica</p>\n",
    "    <span style=\"display:flex; flex-direction:column; gap: 5%; align-items: center; justify-content: center; align-content:center; padding-bottom:1%;\">\n",
    "        <img src=\"./notebook_pic/bern4.jpg\">\n",
    "        <img src=\"./notebook_pic/bern5.jpg\">\n",
    "        <img src=\"./notebook_pic/bern6.jpg\">\n",
    "    </span>\n",
    "</div>"
   ]
  },
  {
   "cell_type": "code",
   "execution_count": 28,
   "metadata": {},
   "outputs": [],
   "source": [
    "def cost(W,X,Y):\n",
    "    m = X.shape[0]\n",
    "    h = hyp(W,X)\n",
    "    log_h = np.log(h)\n",
    "    log_one_h = np.log(1-h)\n",
    "    l_cost = float((-1.0/m) * ((np.dot(log_h,Y)) + (np.dot(log_one_h,(1-Y)))))\n",
    "    return l_cost"
   ]
  },
  {
   "cell_type": "markdown",
   "metadata": {},
   "source": [
    "<div style=\"background-color: white; width: 93%; padding: 2em 2em 0.2em 2em; font-family: Gill Sans, sans-serif;\">\n",
    "    <h4 style=\"color: black;\"> 1.5 Gradient ascent </h4>\n",
    "    <p style=\"color: black;\">Per come si è impostata la distribuzione, i pesi dovranno essere tali da massimizzare la funzione di costo. Infatti quando la y assume un valore, la funzione d'ipotesi dell'altro caso viene annullata. Quindi per riconoscere effettivamente un vero caso y, la funzione d'ipotesi deve aver il valore più grande possibile.</p>\n",
    "    <span style=\"display:flex; flex-direction:column; gap: 5%; align-items: center; justify-content: center; align-content:center; padding-bottom:1%;\">\n",
    "        <img src=\"./notebook_pic/cost1.jpg\">\n",
    "        <img src=\"./notebook_pic/cost2.jpg\">\n",
    "    </span>\n",
    "    <p style=\"color: black;\">Per raggiungere la massimizzazione dei pesi si utilizza un algoritmo gradient ascent. Data la curva della funzione di costo, si parte da un valore di <b>θ</b> e si calcola il valore di J(<b>θ</b>). In base alla derivata di J(<b>θ</b>) ci sposta lungo la curva di un fattore <i>α</i> e si ripete l'operazione fino alla convergenza, quindi finchè lo spostamento tra due valori di J(<b>θ</b>) è minimo.</p>\n",
    "    <center><p style=\"color: black; font-size: 2em; padding-top: 2%;\"><b>Esempio di gradient ascent su una parabola</b></p></center>\n",
    "    <span style=\"display:flex; flex-direction:column; gap: 5%; align-items: center; justify-content: center; align-content:center; padding-bottom:1%;\">\n",
    "        <img src=\"./notebook_pic/grad_asc1.jpg\">\n",
    "    </span>\n",
    "    <p style=\"color: black;\">Per il ragionamento suddetto, i pesi <b>θ</b> vengono aggiornati in base alla seguente formula.</p>\n",
    "    <span style=\"display:flex; flex-direction:column; gap: 5%; align-items: center; justify-content: center; align-content:center; padding-bottom:1%;\">\n",
    "        <img src=\"./notebook_pic/grad_asc2.jpg\">\n",
    "    </span>\n",
    "    <p style=\"color: black;\">Il procedimento può essere visto in forma algoritmica.</p>\n",
    "    <span style=\"display:flex; flex-direction:column; gap: 5%; align-items: center; justify-content: center; align-content:center; padding-bottom:1%;\">\n",
    "        <img src=\"./notebook_pic/grad_asc3.jpg\">\n",
    "    </span>\n",
    "</div>"
   ]
  },
  {
   "cell_type": "code",
   "execution_count": 29,
   "metadata": {},
   "outputs": [],
   "source": [
    "def gradient_ascent(X,W,Y,alpha,stop):\n",
    "    m,n = X.shape\n",
    "    cost_old = np.inf\n",
    "    cost_new = cost(W,X,Y)\n",
    "    print(cost_old - cost(W,X,Y))\n",
    "    sum = 0\n",
    "    iter = 0\n",
    "\n",
    "    while(abs(cost_old-cost_new) > stop):\n",
    "        for j in range(0,n):\n",
    "            for i in range(0,m):\n",
    "                sum += (Y[i][0] - hyp(W,X[i])) * X[i][j]\n",
    "            W[0][j] = W[0][j] + (alpha/m) * sum\n",
    "        cost_old = cost_new\n",
    "        cost_new = cost(W,X,Y)\n",
    "        print(cost_old - cost(W,X,Y))\n",
    "        iter += 1\n",
    "\n",
    "    print(W)\n",
    "    return iter  "
   ]
  },
  {
   "cell_type": "markdown",
   "metadata": {},
   "source": [
    "<div style=\"background-color: white; width: 93%; padding: 2em 2em 0.2em 2em; font-family: Gill Sans, sans-serif;\">\n",
    "    <h4 style=\"color: black;\"> 1.6 Funzione di predizione </h4>\n",
    "    <p style=\"color: black;\">Una volta allenato il modello, calcolando la funzione d'ipotesi con le features interessate e i pesi aggiornati si ottiene una stima di probabilità sulla classe relativa alle features proposte. Se quest'ultima supera una certa soglia, la classe sarà la 1, altrimenti la 0.</p>\n",
    "    <p style=\"color: black;\">L'accurancy del modello viene ottenuta facendo la media del numero di volte in cui la predizione è stata corretta</p>\n",
    "</div>"
   ]
  },
  {
   "cell_type": "code",
   "execution_count": 30,
   "metadata": {},
   "outputs": [],
   "source": [
    "def prediction(W,X,Y):\n",
    "    m = X.shape[0]\n",
    "    h = hyp(X, W)\n",
    "    Y_hat = h > 0.5\n",
    "    accuracy = 1.0/m * np.sum(Y == Y_hat)\n",
    "    return accuracy, Y_hat, h"
   ]
  },
  {
   "cell_type": "markdown",
   "metadata": {},
   "source": [
    "<div style=\"background-color: white; border-bottom-left-radius:15px; border-bottom-right-radius:15px; width:93%; padding:2em 2em 0.2em 2em; font-family:Gill Sans, sans-serif;\">\n",
    "</div>"
   ]
  },
  {
   "cell_type": "markdown",
   "metadata": {},
   "source": [
    "<div style=\"background-color: white; border-top-left-radius: 15px; border-top-right-radius: 15px; width: 93%; padding: 2em 2em 0.2em 2em; font-family: Gill Sans, sans-serif;\">\n",
    "    <a id=\"#intro\" style=\"text-decoration:none; color: black;\"><h3 style=\"font-weight:700;\"> 2. Preparazione del dataset </h3></a>\n",
    "    <h4 style=\"color:black\"> 2.1 Caricamento del dataset </h4>\n",
    "</div>"
   ]
  },
  {
   "cell_type": "code",
   "execution_count": 31,
   "metadata": {},
   "outputs": [],
   "source": [
    "# Carico il dataset\n",
    "path = '../color_extr/data.csv'\n",
    "data = pd.read_csv(path, usecols = [i for i in range(5)])"
   ]
  },
  {
   "cell_type": "markdown",
   "metadata": {},
   "source": [
    "<div style=\"background-color: white; width: 93%; padding: 2em 2em 0.2em 2em; font-family: Gill Sans, sans-serif;\">\n",
    "    <h4 style=\"color: black;\"> 2.2 Divisione del dataset in train e test set </h4>\n",
    "</div>"
   ]
  },
  {
   "cell_type": "code",
   "execution_count": 32,
   "metadata": {},
   "outputs": [],
   "source": [
    "# Creo train e test set\n",
    "X_train, X_test, Y_train, Y_test = train_test_split(data[['presenza_foglie','assenza_foglie','presenza_bachi_sfondo','assenza_bachi_sfondo']], data[['classificazione']], test_size=0.23)"
   ]
  },
  {
   "cell_type": "markdown",
   "metadata": {},
   "source": [
    "<div style=\"background-color: white; width: 93%; padding: 2em 2em 0.2em 2em; font-family: Gill Sans, sans-serif;\">\n",
    "    <h4 style=\"color: black;\"> 2.3 Manipolazione dei dati </h4>\n",
    "    <ul style=\"color: black;\">\n",
    "        <li>Tutti i set sono convertiti in array numpy</li>\n",
    "        <li>Alle features viene aggiunto il bias della funzione d'ipotesi (θ<sub>0</sub>)</li>\n",
    "        <li>Viene inizializzato il vettore dei pesi</li>\n",
    "    </ul>\n",
    "</div>"
   ]
  },
  {
   "cell_type": "code",
   "execution_count": 33,
   "metadata": {},
   "outputs": [],
   "source": [
    "Y_train = Y_train.to_numpy()\n",
    "Y_test = Y_test.to_numpy()\n",
    "\n",
    "m_tr, n_tr = X_train.shape\n",
    "X_train = np.concatenate((np.ones((m_tr,1)), X_train), axis=1)\n",
    "n_tr +=1\n",
    "\n",
    "m_te, n_te = X_test.shape\n",
    "X_test = np.concatenate((np.ones((m_te,1)), X_test), axis=1)\n",
    "n_te += 1\n",
    "\n",
    "W = np.array(np.zeros((1,n_te)))"
   ]
  },
  {
   "cell_type": "markdown",
   "metadata": {},
   "source": [
    "<div style=\"background-color: white; width: 93%; padding: 2em 2em 0.2em 2em; font-family: Gill Sans, sans-serif;\">\n",
    "    <h4 style=\"color: black;\"> 2.4 Normalizzazione dei dati </h4>\n",
    "</div>"
   ]
  },
  {
   "cell_type": "code",
   "execution_count": 34,
   "metadata": {},
   "outputs": [],
   "source": [
    "# Normalizzo i dati\n",
    "sc = StandardScaler()\n",
    "X_train = sc.fit_transform(X_train)\n",
    "X_test = sc.fit_transform(X_test)"
   ]
  },
  {
   "cell_type": "markdown",
   "metadata": {},
   "source": [
    "<div style=\"background-color: white; border-bottom-left-radius:15px; border-bottom-right-radius:15px; width:93%; padding:2em 2em 0.2em 2em; font-family:Gill Sans, sans-serif;\">\n",
    "</div>"
   ]
  },
  {
   "cell_type": "markdown",
   "metadata": {},
   "source": [
    "<div style=\"background-color: white; border-top-left-radius: 15px; border-top-right-radius: 15px; width: 93%; padding: 2em 2em 0.2em 2em; font-family: Gill Sans, sans-serif;\">\n",
    "    <a id=\"#intro\" style=\"text-decoration:none; color: black;\"><h3 style=\"font-weight:700;\"> 3. Applicazione del modello </h3></a>\n",
    "    <h4 style=\"color:black\"> 3.1 Allenamento del modello</h4>\n",
    "    <p style=\"color:black\"> Cerco il punto di massimo della funzione di costo per trovare i pesi ottimi.</p>\n",
    "    <p style=\"color:black\"> Iperparametri (alpha e condizione di stop) scelti in base al metodo Hand Tuning: iperparametri selzionati in base alle prove sul modello finchè non si raggiungono delle performance soddisfacenti</p>\n",
    "</div>"
   ]
  },
  {
   "cell_type": "code",
   "execution_count": 35,
   "metadata": {},
   "outputs": [
    {
     "name": "stdout",
     "output_type": "stream",
     "text": [
      "inf\n",
      "0.0142691451361312\n",
      "0.013722646995144805\n",
      "0.013198003675352399\n",
      "0.012694809713917676\n",
      "0.012212586493225763\n",
      "0.011750794951333243\n",
      "0.011308847465211325\n",
      "0.010886118785834786\n",
      "0.01048195595327861\n",
      "0.010095687161656208\n",
      "0.009726629577757717\n",
      "0.009374096143914823\n",
      "0.009037401415471713\n",
      "0.008715866497164826\n",
      "0.008408823151477063\n",
      "0.008115617156634669\n",
      "0.007835610993162656\n",
      "0.007568185936597582\n",
      "0.00731274363076323\n",
      "0.007068707211540015\n",
      "0.006835522045735731\n",
      "0.006612656143923257\n",
      "0.006399600300213026\n",
      "0.006195868006093119\n",
      "0.006000995179871238\n",
      "0.005814539747979797\n",
      "0.005636081109530178\n",
      "0.005465219511056718\n",
      "0.005301575354392518\n",
      "0.005144788457043914\n",
      "0.004994517281287192\n",
      "0.0048504381454435586\n",
      "0.00471224442839463\n",
      "0.004579645776325247\n",
      "0.004452367318906858\n",
      "0.004330148900616948\n",
      "0.004212744331613727\n",
      "0.004099920661501333\n",
      "0.003991457478422222\n",
      "0.003887146235163119\n",
      "0.0037867896033470516\n",
      "0.003690200856275916\n",
      "0.0035972032805812737\n",
      "0.0035076296165173493\n",
      "0.003421321526466903\n",
      "0.003338129091033981\n",
      "0.0032579103319414493\n",
      "0.003180530760843181\n",
      "0.003105862953074967\n",
      "0.003033786145319184\n",
      "0.002964185856128121\n",
      "0.0028969535282322156\n",
      "0.002831986191567326\n",
      "0.002769186145961333\n",
      "0.0027084606624467322\n",
      "0.0026497217021855257\n",
      "0.0025928856520358035\n",
      "0.0025378730758151002\n",
      "0.00248460848035964\n",
      "0.0024330200955179904\n",
      "0.002383039667256559\n",
      "0.0023346022630954533\n",
      "0.0022876460891336214\n",
      "0.002242112317964562\n",
      "0.002197944926815021\n",
      "0.0021550905452862867\n",
      "0.0021134983121057216\n",
      "0.002073119740335305\n",
      "0.002033908590513056\n",
      "0.0019958207512416615\n",
      "0.0019588141267577464\n",
      "0.001922848531056398\n",
      "0.001887885588158833\n",
      "0.0018538886381506137\n",
      "0.0018208226486267076\n",
      "0.0017886541312163162\n",
      "0.0017573510628718925\n",
      "0.0017268828116281387\n",
      "0.0016972200665616999\n",
      "0.0016683347716904828\n",
      "0.0016402000635741265\n",
      "0.0016127902123916904\n",
      "0.0015860805662851196\n",
      "0.0015600474987705337\n",
      "0.0015346683590342636\n",
      "0.001509921424941274\n",
      "0.0014857858585919925\n",
      "0.0014622416642782188\n",
      "0.0014392696486950074\n",
      "0.0014168513832762963\n",
      "0.0013949691685291032\n",
      "0.0013736060002498829\n",
      "0.0013527455375135222\n",
      "0.0013323720723333876\n",
      "0.0013124705008934479\n",
      "0.0012930262962663197\n",
      "0.0012740254825291952\n",
      "0.0012554546101993247\n",
      "0.001237300732916391\n",
      "0.0012195513852971684\n",
      "0.001202194561903347\n",
      "0.0011852186972541867\n",
      "0.0011686126468304359\n",
      "0.0011523656690134998\n",
      "0.0011364674079082926\n",
      "0.001120907877002586\n",
      "0.0011056774436162542\n",
      "0.0010907668140995863\n",
      "0.0010761670197382833\n",
      "0.001061869403329474\n",
      "0.0010478656063918623\n",
      "0.0010341475569770886\n",
      "0.0010207074580504405\n",
      "0.0010075377764115767\n",
      "0.0009946312321266193\n",
      "[[ 0.00330611 -0.94125539 -0.00313383  0.95150957  0.00340949]]\n"
     ]
    },
    {
     "data": {
      "text/plain": [
       "115"
      ]
     },
     "execution_count": 35,
     "metadata": {},
     "output_type": "execute_result"
    }
   ],
   "source": [
    "gradient_ascent(X_train,W,Y_train,0.04,0.001)"
   ]
  },
  {
   "cell_type": "markdown",
   "metadata": {},
   "source": [
    "<div style=\"background-color: white; width: 93%; padding: 2em 2em 0.2em 2em; font-family: Gill Sans, sans-serif;\">\n",
    "    <h4 style=\"color: black;\"> 3.2 Risultati del modello allenato </h4>\n",
    "</div>"
   ]
  },
  {
   "cell_type": "code",
   "execution_count": 36,
   "metadata": {},
   "outputs": [
    {
     "name": "stdout",
     "output_type": "stream",
     "text": [
      "### MyLog:\n",
      "\tAccuracy of training: 0.9653846153846154\n",
      "\tAccuracy of test: 0.9710610932475884\n",
      "### MyLog:\n",
      "\tError rate of training: 0.0346153846153846\n",
      "\tError rate of test: 0.02893890675241162\n"
     ]
    }
   ],
   "source": [
    "train_accurancy, train_predictions, train_prob_predictions = prediction(W,X_train,Y_train)\n",
    "test_accurancy, test_predictions, test_prob_predictions = prediction(W,X_test,Y_test)\n",
    "\n",
    "print(\"### MyLog:\\n\\tAccuracy of training: \"+str(train_accurancy)+\"\\n\\tAccuracy of test: \"+str(test_accurancy))\n",
    "print(\"### MyLog:\\n\\tError rate of training: \"+str(1 - train_accurancy)+\"\\n\\tError rate of test: \"+str(1 - test_accurancy))"
   ]
  },
  {
   "cell_type": "markdown",
   "metadata": {},
   "source": [
    "<div style=\"background-color: white; border-bottom-left-radius:15px; border-bottom-right-radius:15px; width:93%; padding:2em 2em 0.2em 2em; font-family:Gill Sans, sans-serif;\">\n",
    "</div>"
   ]
  },
  {
   "cell_type": "markdown",
   "metadata": {},
   "source": [
    "<div style=\"background-color: white; border-top-left-radius: 15px; border-top-right-radius: 15px; width: 93%; padding: 2em 2em 0.2em 2em; font-family: Gill Sans, sans-serif;\">\n",
    "    <a id=\"#intro\" style=\"text-decoration:none; color: black;\"><h3 style=\"font-weight:700;\"> 4. Valutazione del modello </h3></a>\n",
    "    <h4 style=\"color:black\"> 4.1 Metrica d'errore</h4>\n",
    "    <p style=\"color:black\">Per definire basso o alto l'error rate, è necessaria una metrica. Possiamo definirla considerando l'errore che farebbe un classificatore che predice sempre solo una delle due classi. In base a questo valore si valuta l'errore del classificatore implementato</p>\n",
    "</div>"
   ]
  },
  {
   "cell_type": "code",
   "execution_count": 37,
   "metadata": {},
   "outputs": [
    {
     "name": "stdout",
     "output_type": "stream",
     "text": [
      "Error rate di un classificatore che predice solo 0:  0.44041450777202074\n",
      "Accuracy di un classificatore che predice solo 0:  0.5595854922279793\n"
     ]
    }
   ],
   "source": [
    "# metric_error = #valori classe 0 / #valori classi\n",
    "metric_error = len(data[data.classificazione == 0]) / len(data)\n",
    "metric_accurancy = 1 - metric_error\n",
    "\n",
    "print(\"Error rate di un classificatore che predice solo 0: \", metric_error)\n",
    "print(\"Accuracy di un classificatore che predice solo 0: \", metric_accurancy)"
   ]
  },
  {
   "cell_type": "markdown",
   "metadata": {},
   "source": [
    "<div style=\"background-color: white; width: 93%; padding: 2em 2em 0.2em 2em; font-family: Gill Sans, sans-serif;\">\n",
    "    <h4 style=\"color: black;\"> 4.2 Confusion Matrix </h4>\n",
    "</div>"
   ]
  },
  {
   "cell_type": "code",
   "execution_count": 38,
   "metadata": {},
   "outputs": [
    {
     "data": {
      "image/png": "[encoded data removed]",
      "text/plain": [
       "<Figure size 432x288 with 2 Axes>"
      ]
     },
     "metadata": {},
     "output_type": "display_data"
    }
   ],
   "source": [
    "cm = confusion_matrix(Y_test, test_predictions)\n",
    "plt.figure()\n",
    "sns.set(font_scale=1.5)\n",
    "hm = sns.heatmap( cm, cbar=True, annot=True, square=True, fmt='.2f', annot_kws={'size': 15}, yticklabels=['No', 'Yes'], xticklabels=['No', 'Yes'])\n",
    "plt.title('Confusion Matrix TEST')\n",
    "plt.ylabel('default')\n",
    "plt.xlabel('prediction')\n",
    "plt.show()"
   ]
  },
  {
   "cell_type": "markdown",
   "metadata": {},
   "source": [
    "<div style=\"background-color: white; width: 93%; padding: 2em 2em 0.2em 2em; font-family: Gill Sans, sans-serif;\">\n",
    "    <h4 style=\"color: black;\"> 4.3 Curva precision e recall </h4>\n",
    "</div>"
   ]
  },
  {
   "cell_type": "code",
   "execution_count": 39,
   "metadata": {},
   "outputs": [
    {
     "data": {
      "image/png": "[encoded data removed]",
      "text/plain": [
       "<Figure size 432x288 with 1 Axes>"
      ]
     },
     "metadata": {},
     "output_type": "display_data"
    },
    {
     "name": "stdout",
     "output_type": "stream",
     "text": [
      "Precision:  0.5838709677419355\n",
      "Recall:  1.0\n",
      "f1-score:  0.975609756097561\n"
     ]
    }
   ],
   "source": [
    "precision, recall, thresholds = precision_recall_curve(Y_test, test_prob_predictions)\n",
    "plt.figure()\n",
    "plt.plot(recall, precision)\n",
    "plt.title(\"Precision-Recall Curve: Logit\")\n",
    "plt.xlabel(\"Recall\")\n",
    "plt.ylabel(\"Precision\")\n",
    "plt.show()\n",
    "\n",
    "print(\"Precision: \", precision[1])\n",
    "print(\"Recall: \", recall[1])\n",
    "print(\"f1-score: \", f1_score(Y_test, test_predictions))"
   ]
  },
  {
   "cell_type": "markdown",
   "metadata": {},
   "source": [
    "<div style=\"background-color: white; width: 93%; padding: 2em 2em 0.2em 2em; font-family: Gill Sans, sans-serif;\">\n",
    "    <h4 style=\"color: black;\"> 4.2 Curva ROC e AUC </h4>\n",
    "</div>"
   ]
  },
  {
   "cell_type": "code",
   "execution_count": 40,
   "metadata": {},
   "outputs": [
    {
     "data": {
      "image/png": "[encoded data removed]",
      "text/plain": [
       "<Figure size 432x288 with 1 Axes>"
      ]
     },
     "metadata": {},
     "output_type": "display_data"
    },
    {
     "name": "stdout",
     "output_type": "stream",
     "text": [
      "AUC:  0.9664683382915428\n"
     ]
    }
   ],
   "source": [
    "fpr, tpr, thresholds = roc_curve(Y_test, test_prob_predictions)\n",
    "plt.figure()\n",
    "plt.plot(fpr, tpr)\n",
    "plt.title(\"ROC: Logit\")\n",
    "plt.xlabel(\"False Positive Rate\")\n",
    "plt.ylabel(\"True Positive Rate\")\n",
    "plt.show()\n",
    "\n",
    "print (\"AUC: \", roc_auc_score(Y_test, test_predictions))"
   ]
  },
  {
   "cell_type": "markdown",
   "metadata": {},
   "source": [
    "<div style=\"background-color: white; border-bottom-left-radius:15px; border-bottom-right-radius:15px; width:93%; padding:2em 2em 0.2em 2em; font-family:Gill Sans, sans-serif;\">\n",
    "</div>"
   ]
  }
 ],
 "metadata": {
  "kernelspec": {
   "display_name": "Python 3.10.4 64-bit",
   "language": "python",
   "name": "python3"
  },
  "language_info": {
   "codemirror_mode": {
    "name": "ipython",
    "version": 3
   },
   "file_extension": ".py",
   "mimetype": "text/x-python",
   "name": "python",
   "nbconvert_exporter": "python",
   "pygments_lexer": "ipython3",
   "version": "3.10.4"
  },
  "orig_nbformat": 4,
  "vscode": {
   "interpreter": {
    "hash": "702afc27125c4b44e8d6e4d91e2be92deaff276ecbbea6cc8c365578c4a94287"
   }
  }
 },
 "nbformat": 4,
 "nbformat_minor": 2
}
