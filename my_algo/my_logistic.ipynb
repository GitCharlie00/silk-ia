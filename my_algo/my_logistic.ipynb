{
 "cells": [
  {
   "cell_type": "markdown",
   "metadata": {},
   "source": [
    "<div style=\"background-color : white; border-radius: 15px; width: 93%; padding: 2em; color: black; font-family: Gill Sans, sans-serif;\">\n",
    "    <h1 style =\"text-align: center; color: black; font-family: Gill Sans, sans-serif;font-weight: 700;\"> Implementazione di un classificatore con Logistic Regression </h1>\n",
    "    <h2>Indice</h2>\n",
    "    <ol type=\"1\">\n",
    "        <li style=\"padding-top: 0.3em; padding-bottom: 0.3em;\"><b>Basi per la logistic regression</b>\n",
    "            <ul>\n",
    "                <li style=\"padding-top: 0.3em; padding-bottom: 0.3em;\">1.1 Pacchetti necessari</li>\n",
    "                <li style=\"padding-bottom: 0.3em;\">1.2 Funzione logistica o sigmoide</li>\n",
    "                <li style=\"padding-bottom: 0.3em;\">1.3 Funzione d'ipotesi</li>\n",
    "                <li style=\"padding-bottom: 0.3em;\">1.4 Gradient ascent</li>\n",
    "                <li>1.5 Funzione di predizione</li>\n",
    "            </ul>\n",
    "        </li>\n",
    "        <li style=\"padding-top: 0.3em; padding-bottom: 0.3em;\"><b>Preparazione dataset</b>\n",
    "            <ul>\n",
    "                <li style=\"padding-top: 0.3em; padding-bottom: 0.3em;\">2.1 Caricamento del dataset</li>\n",
    "                <li style=\"padding-bottom: 0.3em;\">2.2 Divisione del dataset in train e test set</li>\n",
    "                <li style=\"padding-bottom: 0.3em;\">2.3 Manipolazione dei dati</li>\n",
    "                <li>2.4 Normalizzazione dei dati</li>\n",
    "            </ul>\n",
    "        </li>\n",
    "        <li style=\"padding-top: 0.3em; padding-bottom: 0.3em;\"><b>Applicazione del modello</b>\n",
    "            <ul>\n",
    "                <li style=\"padding-top: 0.3em; padding-bottom: 0.3em;\">3.1 Allenamento del modello</li>\n",
    "                <li>3.2 Risultati del modello allenato</li>\n",
    "            </ul>\n",
    "        </li>\n",
    "        <li style=\"padding-top: 0.3em\"><b>Valutazione del modello</b>\n",
    "            <ul>\n",
    "                <li style=\"padding-top: 0.3em; padding-bottom: 0.3em;\">4.1 Metrica d'errore</li>\n",
    "                <li style=\"padding-bottom: 0.3em;\">4.2 Confusion Matrix</li>\n",
    "                <li style=\"padding-bottom: 0.3em;\">4.3 Curva precision e recall</li>\n",
    "                <li>4.4 Curva ROC e AUC</li>\n",
    "            </ul>\n",
    "        </li>\n",
    "    </ol>\n",
    "</div>"
   ]
  },
  {
   "cell_type": "markdown",
   "metadata": {},
   "source": [
    "<div style=\"background-color: white; border-top-left-radius: 15px; border-top-right-radius: 15px; width: 93%; padding: 2em 2em 0.2em 2em; font-family: Gill Sans, sans-serif;\">\n",
    "    <a id=\"#intro\" style=\"text-decoration:none; color: black;\"><h3 style=\"font-weight:700;\"> 1. Basi per la logistic regression </h3></a>\n",
    "    <h4 style=\"color:black\"> 1.1 Pacchetti necessari </h4>\n",
    "</div>"
   ]
  },
  {
   "cell_type": "code",
   "execution_count": 113,
   "metadata": {},
   "outputs": [],
   "source": [
    "import numpy as np\n",
    "import pandas as pd\n",
    "from sklearn.model_selection import train_test_split\n",
    "from sklearn.preprocessing import StandardScaler\n",
    "from sklearn.metrics import confusion_matrix, precision_recall_curve, f1_score, roc_curve, roc_auc_score\n",
    "import seaborn as sns\n",
    "import matplotlib.pyplot as plt"
   ]
  },
  {
   "cell_type": "markdown",
   "metadata": {},
   "source": [
    "<div style=\"background-color: white; width: 93%; padding: 2em 2em 0.2em 2em; font-family: Gill Sans, sans-serif;\">\n",
    "    <h4 style=\"color: black;\"> 1.2 Funzione logistica o sigmoide </h4>\n",
    "    <p style=\"color: black;\">Funzione matematica che produce una curva avente un andamento ad \"S\". È una funzione reale limitata tra 0 e 1, definita per tutti i valori reali. È differenziabile, ha una derivata non negativa in ogni punto ed un punto di flesso in (0;0.5)</p>\n",
    "    <span style=\"display:flex; flex-direction:row; gap: 5%; align-items: center; justify-content: center; align-content:center; padding-bottom:1%;\">\n",
    "        <img src=\"./notebook_pic/Logistic-curve.png\">\n",
    "        <img src=\"./notebook_pic/Logistic-formula.jpg\">\n",
    "    </span>\n",
    "</div>"
   ]
  },
  {
   "cell_type": "code",
   "execution_count": 114,
   "metadata": {},
   "outputs": [],
   "source": [
    "def logistic(z):\n",
    "    den = 1 + np.exp(-z)\n",
    "    sigm = 1.0/den\n",
    "    return sigm"
   ]
  },
  {
   "cell_type": "markdown",
   "metadata": {},
   "source": [
    "<div style=\"background-color: white; width: 93%; padding: 2em 2em 0.2em 2em; font-family: Gill Sans, sans-serif;\">\n",
    "    <h4 style=\"color: black;\"> 1.3 Funzione d'ipotesi </h4>\n",
    "    <p style=\"color: black;\">La funzione di costo della logistic regression sarà basta sulla funzione sigmoide. Infatti, per effettuare la classificazione, serve una funzione con codominio [0,1]: la predizione si baserà sulla probabilità della stima di appartenere ad una delle due classi.</p>\n",
    "    <p style=\"color: black;\">Teoricamente le features potrebbero variare tra -ꝏ e ꝏ. Usando la funzione sigmoide: valori molto positivi non divergeranno verso l'infinito, bensì si attesteranno verso 1;  valori molto negativi non divergeranno verso l'infinito negativo, bensì si attesteranno verso 0.</p>\n",
    "    <span style=\"display:flex; flex-direction:row; gap: 5%; align-items: center; justify-content: center; align-content:center; padding-bottom:1%;\">\n",
    "        <img src=\"./notebook_pic/hyp.jpg\">\n",
    "    </span>\n",
    "</div>"
   ]
  },
  {
   "cell_type": "code",
   "execution_count": 115,
   "metadata": {},
   "outputs": [],
   "source": [
    "def hyp(W,X):\n",
    "    param = np.dot(W,X.T)\n",
    "    return logistic(param)"
   ]
  },
  {
   "cell_type": "markdown",
   "metadata": {},
   "source": [
    "<div style=\"background-color: white; width: 93%; padding: 2em 2em 0.2em 2em; font-family: Gill Sans, sans-serif;\">\n",
    "    <h4 style=\"color: black;\"> 1.4 Funzione di costo </h4>\n",
    "    <p style=\"color: black;\">La distribuzione di probabilità di un classificatore binario è rappresentata da una distribuzione di Bernoulli. In particolare, date le features (<b>x</b>) ed i pesi (<b>θ</b>), siamo interessati alla probabilità che l'output (Y) appartenga ad una delle due classi (0 o 1).</p>\n",
    "    <span style=\"display:flex; flex-direction:row; gap: 5%; align-items: center; justify-content: center; align-content:center; padding-bottom:1%;\">\n",
    "        <img src=\"./notebook_pic/bern1.jpg\">\n",
    "        <img src=\"./notebook_pic/bern2.jpg\">\n",
    "    </span>\n",
    "    <span style=\"display:flex; flex-direction:row; gap: 5%; align-items: center; justify-content: center; align-content:center; padding-bottom:1%;\">\n",
    "        <img src=\"./notebook_pic/bern3.jpg\">\n",
    "    </span>\n",
    "    <p style=\"color: black;\">Considerando tutte le features e ipotizzando che siano indipendenti e identicamente distribuite otteniamo la funzione di likelihood e successivamente la funzione di costo logaritmica</p>\n",
    "    <span style=\"display:flex; flex-direction:column; gap: 5%; align-items: center; justify-content: center; align-content:center; padding-bottom:1%;\">\n",
    "        <img src=\"./notebook_pic/bern4.jpg\">\n",
    "        <img src=\"./notebook_pic/bern5.jpg\">\n",
    "        <img src=\"./notebook_pic/bern6.jpg\">\n",
    "    </span>\n",
    "</div>"
   ]
  },
  {
   "cell_type": "code",
   "execution_count": 116,
   "metadata": {},
   "outputs": [],
   "source": [
    "def cost(W,X,Y):\n",
    "    m = X.shape[0]\n",
    "    h = hyp(W,X)\n",
    "    log_h = np.log(h)\n",
    "    log_one_h = np.log(1-h)\n",
    "    l_cost = float((-1.0/m) * ((np.dot(log_h,Y)) + (np.dot(log_one_h,(1-Y)))))\n",
    "    return l_cost"
   ]
  },
  {
   "cell_type": "markdown",
   "metadata": {},
   "source": [
    "<div style=\"background-color: white; width: 93%; padding: 2em 2em 0.2em 2em; font-family: Gill Sans, sans-serif;\">\n",
    "    <h4 style=\"color: black;\"> 1.5 Gradient ascent </h4>\n",
    "    <p style=\"color: black;\">Per come si è impostata la distribuzione, i pesi dovranno essere tali da massimizzare la funzione di costo. Infatti quando la y assume un valore, la funzione d'ipotesi dell'altro caso viene annullata. Quindi per riconoscere effettivamente un vero caso y, la funzione d'ipotesi deve aver il valore più grande possibile.</p>\n",
    "    <span style=\"display:flex; flex-direction:column; gap: 5%; align-items: center; justify-content: center; align-content:center; padding-bottom:1%;\">\n",
    "        <img src=\"./notebook_pic/cost1.jpg\">\n",
    "        <img src=\"./notebook_pic/cost2.jpg\">\n",
    "    </span>\n",
    "    <p style=\"color: black;\">Per raggiungere la massimizzazione dei pesi si utilizza un algoritmo gradient ascent. Data la curva della funzione di costo, si parte da un valore di <b>θ</b> e si calcola il valore di J(<b>θ</b>). In base alla derivata di J(<b>θ</b>) ci sposta lungo la curva di un fattore <i>α</i> e si ripete l'operazione fino alla convergenza, quindi finchè lo spostamento tra due valori di J(<b>θ</b>) è minimo.</p>\n",
    "    <center><p style=\"color: black; font-size: 2em; padding-top: 2%;\"><b>Esempio di gradient ascent su una parabola</b></p></center>\n",
    "    <span style=\"display:flex; flex-direction:column; gap: 5%; align-items: center; justify-content: center; align-content:center; padding-bottom:1%;\">\n",
    "        <img src=\"./notebook_pic/grad_asc1.jpg\">\n",
    "    </span>\n",
    "    <p style=\"color: black;\">Per il ragionamento suddetto, i pesi <b>θ</b> vengono aggiornati in base alla seguente formula.</p>\n",
    "    <span style=\"display:flex; flex-direction:column; gap: 5%; align-items: center; justify-content: center; align-content:center; padding-bottom:1%;\">\n",
    "        <img src=\"./notebook_pic/grad_asc2.jpg\">\n",
    "    </span>\n",
    "    <p style=\"color: black;\">Il procedimento può essere visto in forma algoritmica.</p>\n",
    "    <span style=\"display:flex; flex-direction:column; gap: 5%; align-items: center; justify-content: center; align-content:center; padding-bottom:1%;\">\n",
    "        <img src=\"./notebook_pic/grad_asc3.jpg\">\n",
    "    </span>\n",
    "</div>"
   ]
  },
  {
   "cell_type": "code",
   "execution_count": 117,
   "metadata": {},
   "outputs": [],
   "source": [
    "def gradient_ascent(X,W,Y,alpha,stop):\n",
    "    m,n = X.shape\n",
    "    cost_old = np.inf\n",
    "    cost_new = cost(W,X,Y)\n",
    "    print(cost_old - cost(W,X,Y))\n",
    "    sum = 0\n",
    "    iter = 0\n",
    "\n",
    "    while(abs(cost_old-cost_new) > stop):\n",
    "        for j in range(0,n):\n",
    "            for i in range(0,m):\n",
    "                sum += (Y[i][0] - hyp(W,X[i])) * X[i][j]\n",
    "            W[0][j] = W[0][j] + (alpha/m) * sum\n",
    "        cost_old = cost_new\n",
    "        cost_new = cost(W,X,Y)\n",
    "        print(cost_old - cost(W,X,Y))\n",
    "        iter += 1\n",
    "\n",
    "    print(W)\n",
    "    return iter  "
   ]
  },
  {
   "cell_type": "markdown",
   "metadata": {},
   "source": [
    "<div style=\"background-color: white; width: 93%; padding: 2em 2em 0.2em 2em; font-family: Gill Sans, sans-serif;\">\n",
    "    <h4 style=\"color: black;\"> 1.6 Funzione di predizione </h4>\n",
    "    <p style=\"color: black;\">Una volta allenato il modello, calcolando la funzione d'ipotesi con le features interessate e i pesi aggiornati si ottiene una stima di probabilità sulla classe relativa alle features proposte. Se quest'ultima supera una certa soglia, la classe sarà la 1, altrimenti la 0.</p>\n",
    "    <p style=\"color: black;\">L'accurancy del modello viene ottenuta facendo la media del numero di volte in cui la predizione è stata corretta</p>\n",
    "</div>"
   ]
  },
  {
   "cell_type": "code",
   "execution_count": 118,
   "metadata": {},
   "outputs": [],
   "source": [
    "def prediction(W,X,Y):\n",
    "    m = X.shape[0]\n",
    "    h = hyp(W,X)\n",
    "    Y_hat = h > 0.5\n",
    "    accuracy = 1.0/m * np.sum(Y.T == Y_hat)\n",
    "    return accuracy, Y_hat, h"
   ]
  },
  {
   "cell_type": "markdown",
   "metadata": {},
   "source": [
    "<div style=\"background-color: white; border-bottom-left-radius:15px; border-bottom-right-radius:15px; width:93%; padding:2em 2em 0.2em 2em; font-family:Gill Sans, sans-serif;\">\n",
    "</div>"
   ]
  },
  {
   "cell_type": "markdown",
   "metadata": {},
   "source": [
    "<div style=\"background-color: white; border-top-left-radius: 15px; border-top-right-radius: 15px; width: 93%; padding: 2em 2em 0.2em 2em; font-family: Gill Sans, sans-serif;\">\n",
    "    <a id=\"#intro\" style=\"text-decoration:none; color: black;\"><h3 style=\"font-weight:700;\"> 2. Preparazione del dataset </h3></a>\n",
    "    <h4 style=\"color:black\"> 2.1 Caricamento del dataset </h4>\n",
    "</div>"
   ]
  },
  {
   "cell_type": "code",
   "execution_count": 119,
   "metadata": {},
   "outputs": [],
   "source": [
    "# Carico il dataset\n",
    "path = '../color_extr/data.csv'\n",
    "data = pd.read_csv(path, usecols = [i for i in range(5)])"
   ]
  },
  {
   "cell_type": "markdown",
   "metadata": {},
   "source": [
    "<div style=\"background-color: white; width: 93%; padding: 2em 2em 0.2em 2em; font-family: Gill Sans, sans-serif;\">\n",
    "    <h4 style=\"color: black;\"> 2.2 Divisione del dataset in train e test set </h4>\n",
    "</div>"
   ]
  },
  {
   "cell_type": "code",
   "execution_count": 120,
   "metadata": {},
   "outputs": [],
   "source": [
    "# Creo train e test set\n",
    "X_train, X_test, Y_train, Y_test = train_test_split(data[['presenza_foglie','assenza_foglie','presenza_bachi_sfondo','assenza_bachi_sfondo']], data[['classificazione']], test_size=0.23)"
   ]
  },
  {
   "cell_type": "markdown",
   "metadata": {},
   "source": [
    "<div style=\"background-color: white; width: 93%; padding: 2em 2em 0.2em 2em; font-family: Gill Sans, sans-serif;\">\n",
    "    <h4 style=\"color: black;\"> 2.3 Manipolazione dei dati </h4>\n",
    "    <ul style=\"color: black;\">\n",
    "        <li>Tutti i set sono convertiti in array numpy</li>\n",
    "        <li>Alle features viene aggiunto il bias della funzione d'ipotesi (θ<sub>0</sub>)</li>\n",
    "        <li>Viene inizializzato il vettore dei pesi</li>\n",
    "    </ul>\n",
    "</div>"
   ]
  },
  {
   "cell_type": "code",
   "execution_count": 121,
   "metadata": {},
   "outputs": [],
   "source": [
    "Y_train = Y_train.to_numpy()\n",
    "Y_test = Y_test.to_numpy()\n",
    "\n",
    "m_tr, n_tr = X_train.shape\n",
    "X_train = np.concatenate((np.ones((m_tr,1)), X_train), axis=1)\n",
    "n_tr +=1\n",
    "\n",
    "m_te, n_te = X_test.shape\n",
    "X_test = np.concatenate((np.ones((m_te,1)), X_test), axis=1)\n",
    "n_te += 1\n",
    "\n",
    "W = np.array(np.zeros((1,n_te)))"
   ]
  },
  {
   "cell_type": "markdown",
   "metadata": {},
   "source": [
    "<div style=\"background-color: white; width: 93%; padding: 2em 2em 0.2em 2em; font-family: Gill Sans, sans-serif;\">\n",
    "    <h4 style=\"color: black;\"> 2.4 Normalizzazione dei dati </h4>\n",
    "</div>"
   ]
  },
  {
   "cell_type": "code",
   "execution_count": 122,
   "metadata": {},
   "outputs": [],
   "source": [
    "# Normalizzo i dati\n",
    "sc = StandardScaler()\n",
    "X_train = sc.fit_transform(X_train)\n",
    "X_test = sc.fit_transform(X_test)"
   ]
  },
  {
   "cell_type": "markdown",
   "metadata": {},
   "source": [
    "<div style=\"background-color: white; border-bottom-left-radius:15px; border-bottom-right-radius:15px; width:93%; padding:2em 2em 0.2em 2em; font-family:Gill Sans, sans-serif;\">\n",
    "</div>"
   ]
  },
  {
   "cell_type": "markdown",
   "metadata": {},
   "source": [
    "<div style=\"background-color: white; border-top-left-radius: 15px; border-top-right-radius: 15px; width: 93%; padding: 2em 2em 0.2em 2em; font-family: Gill Sans, sans-serif;\">\n",
    "    <a id=\"#intro\" style=\"text-decoration:none; color: black;\"><h3 style=\"font-weight:700;\"> 3. Applicazione del modello </h3></a>\n",
    "    <h4 style=\"color:black\"> 3.1 Allenamento del modello</h4>\n",
    "    <p style=\"color:black\"> Cerco il punto di massimo della funzione di costo per trovare i pesi ottimi.</p>\n",
    "    <p style=\"color:black\"> Iperparametri (alpha e condizione di stop) scelti in base al metodo Hand Tuning: iperparametri selzionati in base alle prove sul modello finchè non si raggiungono delle performance soddisfacenti</p>\n",
    "</div>"
   ]
  },
  {
   "cell_type": "code",
   "execution_count": 123,
   "metadata": {},
   "outputs": [
    {
     "name": "stdout",
     "output_type": "stream",
     "text": [
      "inf\n",
      "0.014301930556505082\n",
      "0.013753647220774101\n",
      "0.013227296713974379\n",
      "0.012722464734484462\n",
      "0.01223866527907691\n",
      "0.011775353205305539\n",
      "0.011331935957941686\n",
      "0.010907784346373295\n",
      "0.010502242307204646\n",
      "0.01011463562626902\n",
      "0.009744279626821672\n",
      "0.009390485856081043\n",
      "0.009052567821161595\n",
      "0.008729845838560735\n",
      "0.008421651069605351\n",
      "0.008127328818469337\n",
      "0.007846241170407997\n",
      "0.007577769046426486\n",
      "0.007321313747409575\n",
      "0.007076298056279351\n",
      "0.006842166961552376\n",
      "0.006618388060009972\n",
      "0.006404451690444513\n",
      "0.006199870844734168\n",
      "0.0060041808970254795\n",
      "0.0058169391866517706\n",
      "0.005637724485652362\n",
      "0.005466136377401676\n",
      "0.005301794568946527\n",
      "0.0051443381561531165\n",
      "0.0049934248576694595\n",
      "0.004848730231010345\n",
      "0.004709946881703619\n",
      "0.004576783674408447\n",
      "0.004448964953160162\n",
      "0.004326229776409285\n",
      "0.00420833117125452\n",
      "0.004095035410202952\n",
      "0.003986121312903157\n",
      "0.0038813795745479274\n",
      "0.003780612122039506\n",
      "0.0036836314985014273\n",
      "0.003590260276320978\n",
      "0.0035003304985760098\n",
      "0.003413683148443647\n",
      "0.0033301676459863705\n",
      "0.0032496413715590866\n",
      "0.003171969214962045\n",
      "0.0030970231493908096\n",
      "0.003024681829171927\n",
      "0.0029548302102464508\n",
      "0.0028873591923451736\n",
      "0.0028221652818021248\n",
      "0.0027591502739591767\n",
      "0.0026982209541381863\n",
      "0.0026392888161831385\n",
      "0.002582269797600789\n",
      "0.0025270840303715514\n",
      "0.002473655606532177\n",
      "0.0024219123576756374\n",
      "0.0023717856475507504\n",
      "0.0023232101769852798\n",
      "0.002276123800395158\n",
      "0.002230467353182497\n",
      "0.0021861844893625304\n",
      "0.0021432215287943146\n",
      "0.002101527313432716\n",
      "0.00206105307204274\n",
      "0.0020217522928598353\n",
      "0.0019835806037061254\n",
      "0.0019464956591021543\n",
      "0.0019104570339430471\n",
      "0.0018754261233350222\n",
      "0.0018413660482120564\n",
      "0.0018082415663767115\n",
      "0.0017760189886329436\n",
      "0.0017446660996944252\n",
      "0.0017141520835831092\n",
      "0.0016844474532344833\n",
      "0.001655523984061824\n",
      "0.0016273546512308723\n",
      "0.0015999135704277134\n",
      "0.0015731759419010949\n",
      "0.0015471179975893312\n",
      "0.001521716951140728\n",
      "0.0014969509506580492\n",
      "0.001472799034004213\n",
      "0.0014492410865164507\n",
      "0.0014262578009868743\n",
      "0.0014038306397778921\n",
      "0.0013819417989440197\n",
      "0.001360574174246676\n",
      "0.0013397113289504992\n",
      "0.0013193374632973764\n",
      "0.0012994373855632069\n",
      "0.0012799964846066936\n",
      "0.0012610007038242887\n",
      "0.0012424365164320772\n",
      "0.0012242909020003245\n",
      "0.0012065513241686365\n",
      "0.00118920570947878\n",
      "0.0011722424272597176\n",
      "0.0011556502705090121\n",
      "0.001139418437715256\n",
      "0.0011235365155691235\n",
      "0.0011079944625159155\n",
      "0.0010927825931039137\n",
      "0.0010778915630842711\n",
      "0.0010633123552238888\n",
      "0.00104903626579253\n",
      "0.0010350548916883695\n",
      "0.0010213601181679466\n",
      "0.0010079441071503548\n",
      "0.0009947992860629695\n",
      "[[ 0.00440038 -0.93256816 -0.00203159  0.94874754  0.00452378]]\n"
     ]
    },
    {
     "data": {
      "text/plain": [
       "114"
      ]
     },
     "execution_count": 123,
     "metadata": {},
     "output_type": "execute_result"
    }
   ],
   "source": [
    "gradient_ascent(X_train,W,Y_train,0.04,0.001)"
   ]
  },
  {
   "cell_type": "markdown",
   "metadata": {},
   "source": [
    "<div style=\"background-color: white; width: 93%; padding: 2em 2em 0.2em 2em; font-family: Gill Sans, sans-serif;\">\n",
    "    <h4 style=\"color: black;\"> 3.2 Risultati del modello allenato </h4>\n",
    "</div>"
   ]
  },
  {
   "cell_type": "code",
   "execution_count": 124,
   "metadata": {},
   "outputs": [
    {
     "name": "stdout",
     "output_type": "stream",
     "text": [
      "### MyLog:\n",
      "\tAccuracy of training: 0.9567307692307693\n",
      "\tAccuracy of test: 0.9807073954983923\n",
      "### MyLog:\n",
      "\tError rate of training: 0.043269230769230727\n",
      "\tError rate of test: 0.019292604501607746\n"
     ]
    }
   ],
   "source": [
    "train_accurancy, train_predictions, train_prob_predictions = prediction(W,X_train,Y_train)\n",
    "test_accurancy, test_predictions, test_prob_predictions = prediction(W,X_test,Y_test)\n",
    "\n",
    "print(\"### MyLog:\\n\\tAccuracy of training: \"+str(train_accurancy)+\"\\n\\tAccuracy of test: \"+str(test_accurancy))\n",
    "print(\"### MyLog:\\n\\tError rate of training: \"+str(1 - train_accurancy)+\"\\n\\tError rate of test: \"+str(1 - test_accurancy))"
   ]
  },
  {
   "cell_type": "markdown",
   "metadata": {},
   "source": [
    "<div style=\"background-color: white; border-bottom-left-radius:15px; border-bottom-right-radius:15px; width:93%; padding:2em 2em 0.2em 2em; font-family:Gill Sans, sans-serif;\">\n",
    "</div>"
   ]
  },
  {
   "cell_type": "markdown",
   "metadata": {},
   "source": [
    "<div style=\"background-color: white; border-top-left-radius: 15px; border-top-right-radius: 15px; width: 93%; padding: 2em 2em 0.2em 2em; font-family: Gill Sans, sans-serif;\">\n",
    "    <a id=\"#intro\" style=\"text-decoration:none; color: black;\"><h3 style=\"font-weight:700;\"> 4. Valutazione del modello </h3></a>\n",
    "    <h4 style=\"color:black\"> 4.1 Metrica d'errore</h4>\n",
    "    <p style=\"color:black\">Per definire basso o alto l'error rate, è necessaria una metrica. Possiamo definirla considerando l'errore che farebbe un classificatore che predice sempre solo una delle due classi. In base a questo valore si valuta l'errore del classificatore implementato</p>\n",
    "</div>"
   ]
  },
  {
   "cell_type": "code",
   "execution_count": 125,
   "metadata": {},
   "outputs": [
    {
     "name": "stdout",
     "output_type": "stream",
     "text": [
      "Error rate di un classificatore che predice solo 0:  0.44041450777202074\n",
      "Accuracy di un classificatore che predice solo 0:  0.5595854922279793\n"
     ]
    }
   ],
   "source": [
    "# metric_error = #valori classe 0 / #valori classi\n",
    "metric_error = len(data[data.classificazione == 0]) / len(data)\n",
    "metric_accurancy = 1 - metric_error\n",
    "\n",
    "print(\"Error rate di un classificatore che predice solo 0: \", metric_error)\n",
    "print(\"Accuracy di un classificatore che predice solo 0: \", metric_accurancy)"
   ]
  },
  {
   "cell_type": "markdown",
   "metadata": {},
   "source": [
    "<div style=\"background-color: white; width: 93%; padding: 2em 2em 0.2em 2em; font-family: Gill Sans, sans-serif;\">\n",
    "    <h4 style=\"color: black;\"> 4.2 Confusion Matrix </h4>\n",
    "</div>"
   ]
  },
  {
   "cell_type": "code",
   "execution_count": 126,
   "metadata": {},
   "outputs": [
    {
     "data": {
      "image/png": "[encoded data removed]",
      "text/plain": [
       "<Figure size 432x288 with 2 Axes>"
      ]
     },
     "metadata": {},
     "output_type": "display_data"
    }
   ],
   "source": [
    "cm = confusion_matrix(Y_test, test_predictions.T)\n",
    "plt.figure()\n",
    "sns.set(font_scale=1.5)\n",
    "hm = sns.heatmap( cm, cbar=True, annot=True, square=True, fmt='.2f', annot_kws={'size': 15}, yticklabels=['No', 'Yes'], xticklabels=['No', 'Yes'])\n",
    "plt.title('Confusion Matrix TEST')\n",
    "plt.ylabel('default')\n",
    "plt.xlabel('prediction')\n",
    "plt.show()"
   ]
  },
  {
   "cell_type": "markdown",
   "metadata": {},
   "source": [
    "<div style=\"background-color: white; width: 93%; padding: 2em 2em 0.2em 2em; font-family: Gill Sans, sans-serif;\">\n",
    "    <h4 style=\"color: black;\"> 4.3 Curva precision e recall </h4>\n",
    "</div>"
   ]
  },
  {
   "cell_type": "code",
   "execution_count": 130,
   "metadata": {},
   "outputs": [
    {
     "data": {
      "image/png": "[encoded data removed]",
      "text/plain": [
       "<Figure size 432x288 with 1 Axes>"
      ]
     },
     "metadata": {},
     "output_type": "display_data"
    },
    {
     "name": "stdout",
     "output_type": "stream",
     "text": [
      "Precision:  0.9110200072831856\n",
      "Recall:  0.6933029689608637\n",
      "f1-score:  0.984375\n"
     ]
    }
   ],
   "source": [
    "precision, recall, thresholds = precision_recall_curve(Y_test, test_prob_predictions.T)\n",
    "plt.figure()\n",
    "plt.plot(recall, precision)\n",
    "plt.title(\"Precision-Recall Curve: Logit\")\n",
    "plt.xlabel(\"Recall\")\n",
    "plt.ylabel(\"Precision\")\n",
    "plt.show()\n",
    "\n",
    "print(\"Precision: \", np.mean(precision))\n",
    "print(\"Recall: \", np.mean(recall))\n",
    "print(\"f1-score: \", f1_score(Y_test, test_predictions.T))"
   ]
  },
  {
   "cell_type": "markdown",
   "metadata": {},
   "source": [
    "<div style=\"background-color: white; width: 93%; padding: 2em 2em 0.2em 2em; font-family: Gill Sans, sans-serif;\">\n",
    "    <h4 style=\"color: black;\"> 4.2 Curva ROC e AUC </h4>\n",
    "</div>"
   ]
  },
  {
   "cell_type": "code",
   "execution_count": 129,
   "metadata": {},
   "outputs": [
    {
     "data": {
      "image/png": "[encoded data removed]",
      "text/plain": [
       "<Figure size 432x288 with 1 Axes>"
      ]
     },
     "metadata": {},
     "output_type": "display_data"
    },
    {
     "name": "stdout",
     "output_type": "stream",
     "text": [
      "AUC:  0.9767072640278383\n"
     ]
    }
   ],
   "source": [
    "fpr, tpr, thresholds = roc_curve(Y_test, test_prob_predictions.T)\n",
    "plt.figure()\n",
    "plt.plot(fpr, tpr)\n",
    "plt.title(\"ROC: Logit\")\n",
    "plt.xlabel(\"False Positive Rate\")\n",
    "plt.ylabel(\"True Positive Rate\")\n",
    "plt.show()\n",
    "\n",
    "print (\"AUC: \", roc_auc_score(Y_test, test_predictions.T))"
   ]
  },
  {
   "cell_type": "markdown",
   "metadata": {},
   "source": [
    "<div style=\"background-color: white; border-bottom-left-radius:15px; border-bottom-right-radius:15px; width:93%; padding:2em 2em 0.2em 2em; font-family:Gill Sans, sans-serif;\">\n",
    "</div>"
   ]
  }
 ],
 "metadata": {
  "kernelspec": {
   "display_name": "Python 3.10.4 64-bit",
   "language": "python",
   "name": "python3"
  },
  "language_info": {
   "codemirror_mode": {
    "name": "ipython",
    "version": 3
   },
   "file_extension": ".py",
   "mimetype": "text/x-python",
   "name": "python",
   "nbconvert_exporter": "python",
   "pygments_lexer": "ipython3",
   "version": "3.10.4"
  },
  "orig_nbformat": 4,
  "vscode": {
   "interpreter": {
    "hash": "702afc27125c4b44e8d6e4d91e2be92deaff276ecbbea6cc8c365578c4a94287"
   }
  }
 },
 "nbformat": 4,
 "nbformat_minor": 2
}
