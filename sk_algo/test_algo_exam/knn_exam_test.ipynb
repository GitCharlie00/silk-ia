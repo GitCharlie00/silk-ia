{
 "cells": [
  {
   "cell_type": "markdown",
   "metadata": {},
   "source": [
    "<div style=\"background-color : white; border-radius: 15px; width: 93%; padding: 2em; color: black; font-family: Gill Sans, sans-serif;\">\n",
    "<h1 style =\"text-align: center; color: black; font-family: Gill Sans, sans-serif;font-weight: 700;\"> Test del mio algoritmo su dataset ammissione college</h1>\n",
    "<h2>Indice</h2>\n",
    "\n",
    "<ol type=\"1\">\n",
    "    <li style=\"padding-top: 0.3em; padding-bottom: 0.3em;\"><b>Preparazione dataset</b>\n",
    "        <ul>\n",
    "            <li style=\"padding-top: 0.3em; padding-bottom: 0.3em;\">1.1 Pacchetti necessari</li>       \n",
    "            <li style=\"padding-bottom: 0.3em;\">1.2 Caricamento dataset</li>\n",
    "            <li style=\"padding-bottom: 0.3em;\">1.3 Divisione del dataset in train e test set</li>\n",
    "            <li style=\"padding-bottom: 0.3em;\">1.4 Manipolazione dei dati</li>\n",
    "            <li>1.5 Normalizzazione dei dati</li>\n",
    "        </ul>\n",
    "    </li>\n",
    "    <li style=\"padding-top: 0.3em; padding-bottom: 0.3em;\"><b>Applicazione del modello</b>\n",
    "        <ul>\n",
    "            <li style=\"padding-top: 0.3em; padding-bottom: 0.3em;\">2.1 Hyperparameter tuning</li>\n",
    "            <li style=\"padding-bottom: 0.3em;\">2.2 Allenamento del modello</li>\n",
    "            <li>2.3 Risultati del modello allenato</li>\n",
    "        </ul>\n",
    "    </li>\n",
    "    <li style=\"padding-top: 0.3em; padding-bottom: 0.3em;\"><b>Valutazione del modello</b>\n",
    "        <ul>\n",
    "            <li style=\"padding-top: 0.3em; padding-bottom: 0.3em;\">5.1 Metrica d'errore</li>\n",
    "            <li style=\"padding-bottom: 0.3em;\">5.2 Confusion Matrix</li>\n",
    "            <li style=\"padding-bottom: 0.3em;\">5.3 Curva precision e recall</li>\n",
    "            <li>5.4 Curva ROC e AUC</li>\n",
    "        </ul>\n",
    "    </li>\n",
    "</ol>\n",
    "</div>"
   ]
  },
  {
   "cell_type": "markdown",
   "metadata": {},
   "source": [
    "<div style=\"background-color: white; border-top-left-radius: 15px; border-top-right-radius: 15px; width: 93%; padding: 2em 2em 0.2em 2em; font-family: Gill Sans, sans-serif;\">\n",
    "    <a id=\"#intro\" style=\"text-decoration:none; color: black;\"><h3 style=\"font-weight:700;\"> 1. Preparazione del dataset </h3></a>\n",
    "    <h4 style=\"color:black\"> 1.1 Pacchetti necessari </h4>\n",
    "</div>"
   ]
  },
  {
   "cell_type": "code",
   "execution_count": 12,
   "metadata": {},
   "outputs": [],
   "source": [
    "import pandas as pd\n",
    "from sklearn.model_selection import train_test_split, GridSearchCV\n",
    "from sklearn.preprocessing import StandardScaler\n",
    "from sklearn.neighbors import KNeighborsClassifier\n",
    "from sklearn.metrics import confusion_matrix, precision_recall_curve, f1_score, roc_curve, roc_auc_score\n",
    "import matplotlib.pyplot as plt\n",
    "import seaborn as sns\n",
    "import numpy as np\n",
    "import warnings\n",
    "warnings.filterwarnings('ignore')"
   ]
  },
  {
   "cell_type": "markdown",
   "metadata": {},
   "source": [
    "<div style=\"background-color: white; width: 93%; padding: 2em 2em 0.2em 2em; font-family: Gill Sans, sans-serif;\">\n",
    "    <h4 style=\"color:black\"> 1.2 Caricamento dataset </h4>\n",
    "</div>"
   ]
  },
  {
   "cell_type": "code",
   "execution_count": 13,
   "metadata": {},
   "outputs": [],
   "source": [
    "# Carico il dataset\n",
    "path = './ex2data1.txt'\n",
    "data = pd.read_csv(path, header=None, names=[\"Ex1\",\"Ex2\",\"classificazione\"])"
   ]
  },
  {
   "cell_type": "markdown",
   "metadata": {},
   "source": [
    "<div style=\"background-color: white; width: 93%; padding: 2em 2em 0.2em 2em; font-family: Gill Sans, sans-serif;\">\n",
    "    <h4 style=\"color:black\"> 1.3 Divisione del dataset in train e test set </h4>\n",
    "</div>"
   ]
  },
  {
   "cell_type": "code",
   "execution_count": 14,
   "metadata": {},
   "outputs": [],
   "source": [
    "# Creo train e test set\n",
    "X_train, X_test, Y_train, Y_test = train_test_split(data[[\"Ex1\",\"Ex2\"]], data[['classificazione']], test_size=0.23)"
   ]
  },
  {
   "cell_type": "markdown",
   "metadata": {},
   "source": [
    "<div style=\"background-color: white; width: 93%; padding: 2em 2em 0.2em 2em; font-family: Gill Sans, sans-serif;\">\n",
    "    <h4 style=\"color: black;\"> 1.4 Manipolazione dei dati </h4>\n",
    "    <ul style=\"color: black;\">\n",
    "        <li>Tutti i set sono convertiti in array numpy</li>\n",
    "        <li>Alle features viene aggiunto il bias della funzione d'ipotesi (θ<sub>0</sub>)</li>\n",
    "        <li>Viene inizializzato il vettore dei pesi</li>\n",
    "    </ul>\n",
    "</div>"
   ]
  },
  {
   "cell_type": "code",
   "execution_count": 15,
   "metadata": {},
   "outputs": [],
   "source": [
    "Y_train = Y_train.to_numpy()\n",
    "Y_test = Y_test.to_numpy()\n",
    "\n",
    "m_tr, n_tr = X_train.shape\n",
    "X_train = np.concatenate((np.ones((m_tr,1)), X_train), axis=1)\n",
    "n_tr +=1\n",
    "\n",
    "m_te, n_te = X_test.shape\n",
    "X_test = np.concatenate((np.ones((m_te,1)), X_test), axis=1)\n",
    "n_te += 1\n",
    "\n",
    "W = np.array(np.zeros((1,n_te)))"
   ]
  },
  {
   "cell_type": "markdown",
   "metadata": {},
   "source": [
    "<div style=\"background-color: white; width: 93%; padding: 2em 2em 0.2em 2em; font-family: Gill Sans, sans-serif;\">\n",
    "    <h4 style=\"color: black;\"> 1.5 Normalizzazione dei dati </h4>\n",
    "</div>"
   ]
  },
  {
   "cell_type": "code",
   "execution_count": 16,
   "metadata": {},
   "outputs": [],
   "source": [
    "# Normalizzo i dati\n",
    "sc = StandardScaler()\n",
    "X_train = sc.fit_transform(X_train)\n",
    "X_test = sc.fit_transform(X_test)"
   ]
  },
  {
   "cell_type": "markdown",
   "metadata": {},
   "source": [
    "<div style=\"background-color: white; border-bottom-left-radius:15px; border-bottom-right-radius:15px; width:93%; padding:2em 2em 0.2em 2em; font-family:Gill Sans, sans-serif;\">\n",
    "</div>"
   ]
  },
  {
   "cell_type": "markdown",
   "metadata": {},
   "source": [
    "<div style=\"background-color: white; border-top-left-radius: 15px; border-top-right-radius: 15px; width: 93%; padding: 2em 2em 0.2em 2em; font-family: Gill Sans, sans-serif;\">\n",
    "    <a id=\"#intro\" style=\"text-decoration:none; color: black;\"><h3 style=\"font-weight:700;\"> 2. Applicazione del modello </h3></a>\n",
    "    <h4 style=\"color:black\"> 2.1 Hyperparameter tuning</h4>\n",
    "</div>"
   ]
  },
  {
   "cell_type": "code",
   "execution_count": 17,
   "metadata": {},
   "outputs": [
    {
     "name": "stdout",
     "output_type": "stream",
     "text": [
      "KNeighborsClassifier\n",
      "Fitting 5 folds for each of 36 candidates, totalling 180 fits\n"
     ]
    },
    {
     "data": {
      "text/plain": [
       "{'metric': 'minkowski', 'n_neighbors': 5, 'weights': 'uniform'}"
      ]
     },
     "execution_count": 17,
     "metadata": {},
     "output_type": "execute_result"
    }
   ],
   "source": [
    "grid_params = { 'n_neighbors' : [5,7,9,11,13,15],\n",
    "               'weights' : ['uniform','distance'],\n",
    "               'metric' : ['minkowski','euclidean','manhattan']}\n",
    "\n",
    "print(type(KNeighborsClassifier()).__name__)\n",
    "\n",
    "gs = GridSearchCV(KNeighborsClassifier(), grid_params, verbose = 1, cv=5, n_jobs = -1)\n",
    "\n",
    "g_res = gs.fit(X_train, Y_train)\n",
    "g_res.best_params_\n"
   ]
  },
  {
   "cell_type": "markdown",
   "metadata": {},
   "source": [
    "<div style=\"background-color: white; width: 93%; padding: 2em 2em 0.2em 2em; font-family: Gill Sans, sans-serif;\">\n",
    "    <h4 style=\"color: black;\"> 2.2 Allenamento modello </h4>\n",
    "</div>"
   ]
  },
  {
   "cell_type": "code",
   "execution_count": 28,
   "metadata": {},
   "outputs": [],
   "source": [
    "model_knn = KNeighborsClassifier(n_neighbors = 15, weights = 'distance', metric = 'minkowski')\n",
    "\n",
    "knn_fit = model_knn.fit(X_train, Y_train)"
   ]
  },
  {
   "cell_type": "markdown",
   "metadata": {},
   "source": [
    "<div style=\"background-color: white; width: 93%; padding: 2em 2em 0.2em 2em; font-family: Gill Sans, sans-serif;\">\n",
    "    <h4 style=\"color: black;\"> 2.3 Risultati del modello allenato </h4>\n",
    "</div>"
   ]
  },
  {
   "cell_type": "code",
   "execution_count": 29,
   "metadata": {},
   "outputs": [
    {
     "name": "stdout",
     "output_type": "stream",
     "text": [
      "### KNN:\n",
      "\tAccuracy of training: 1.0\n",
      "\tAccuracy of test: 0.9130434782608695\n",
      "### KNN:\n",
      "\tError rate of training: 0.0\n",
      "\tError rate of test: 0.08695652173913049\n"
     ]
    }
   ],
   "source": [
    "predictions_knn = model_knn.predict(X_test)\n",
    "predictions_lr_scores = model_knn.predict_proba(X_test)[:,1]\n",
    "\n",
    "train_score = model_knn.score(X_train, Y_train)\n",
    "test_score = model_knn.score(X_test, Y_test)\n",
    "print(\"### KNN:\\n\\tAccuracy of training: \"+str(train_score)+\"\\n\\tAccuracy of test: \"+str(test_score))\n",
    "print(\"### KNN:\\n\\tError rate of training: \"+str(1 - train_score)+\"\\n\\tError rate of test: \"+str(1 - test_score))"
   ]
  },
  {
   "cell_type": "markdown",
   "metadata": {},
   "source": [
    "<div style=\"background-color: white; border-bottom-left-radius:15px; border-bottom-right-radius:15px; width:93%; padding:2em 2em 0.2em 2em; font-family:Gill Sans, sans-serif;\">\n",
    "</div>"
   ]
  },
  {
   "cell_type": "markdown",
   "metadata": {},
   "source": [
    "<div style=\"background-color: white; border-top-left-radius: 15px; border-top-right-radius: 15px; width: 93%; padding: 2em 2em 0.2em 2em; font-family: Gill Sans, sans-serif;\">\n",
    "    <a id=\"#intro\" style=\"text-decoration:none; color: black;\"><h3 style=\"font-weight:700;\"> 3. Valutazione del modello </h3></a>\n",
    "    <h4 style=\"color:black\"> 3.1 Metrica d'errore</h4>\n",
    "</div>"
   ]
  },
  {
   "cell_type": "code",
   "execution_count": 19,
   "metadata": {},
   "outputs": [
    {
     "name": "stdout",
     "output_type": "stream",
     "text": [
      "Error rate di un classificatore che predice solo 0:  0.4\n",
      "Accuracy di un classificatore che predice solo 0:  0.6\n"
     ]
    }
   ],
   "source": [
    "# metric_error = #valori classe 0 / #valori classi\n",
    "metric_error = len(data[data.classificazione == 0]) / len(data)\n",
    "metric_accurancy = 1 - metric_error\n",
    "\n",
    "print(\"Error rate di un classificatore che predice solo 0: \", metric_error)\n",
    "print(\"Accuracy di un classificatore che predice solo 0: \", metric_accurancy)"
   ]
  },
  {
   "cell_type": "markdown",
   "metadata": {},
   "source": [
    "<div style=\"background-color: white; width: 93%; padding: 2em 2em 0.2em 2em; font-family: Gill Sans, sans-serif;\">\n",
    "    <h4 style=\"color: black;\"> 3.2 Confusion Matrix </h4>\n",
    "</div>"
   ]
  },
  {
   "cell_type": "code",
   "execution_count": 24,
   "metadata": {},
   "outputs": [
    {
     "data": {
      "image/png": "[encoded data removed]",
      "text/plain": [
       "<Figure size 432x288 with 2 Axes>"
      ]
     },
     "metadata": {},
     "output_type": "display_data"
    },
    {
     "name": "stdout",
     "output_type": "stream",
     "text": [
      "Precision:  0.8823529411764706\n",
      "Recall:  1.0\n",
      "Specificity:  0.75\n"
     ]
    }
   ],
   "source": [
    "cm = confusion_matrix(Y_test, predictions_knn)\n",
    "plt.figure()\n",
    "sns.set(font_scale=1.5)\n",
    "hm = sns.heatmap( cm, cbar=True, annot=True, square=True, fmt='.2f', annot_kws={'size': 15}, yticklabels=['No', 'Yes'], xticklabels=['No', 'Yes'])\n",
    "plt.title('Confusion Matrix TEST')\n",
    "plt.ylabel('default')\n",
    "plt.xlabel('prediction')\n",
    "plt.show()\n",
    "\n",
    "diagonal = np.diag(cm)\n",
    "antidiagonal = np.fliplr(cm).diagonal()\n",
    "\n",
    "false_positive = antidiagonal[0]\n",
    "false_negative = antidiagonal[1]\n",
    "true_positive = diagonal[1]\n",
    "true_negative = diagonal[0]\n",
    "\n",
    "# Precision\n",
    "pre = true_positive/(true_positive+false_positive)\n",
    "# Recall\n",
    "rec = true_positive/(true_positive+false_negative)\n",
    "# Specificity\n",
    "sens = true_negative/(true_negative+false_positive) \n",
    "\n",
    "print(\"Precision: \", pre)\n",
    "print(\"Recall: \", rec)\n",
    "print(\"Specificity: \", sens)"
   ]
  },
  {
   "cell_type": "markdown",
   "metadata": {},
   "source": [
    "<div style=\"background-color: white; width: 93%; padding: 2em 2em 0.2em 2em; font-family: Gill Sans, sans-serif;\">\n",
    "    <h4 style=\"color: black;\"> 3.3 Curva precision e recall </h4>\n",
    "</div>"
   ]
  },
  {
   "cell_type": "code",
   "execution_count": 23,
   "metadata": {},
   "outputs": [
    {
     "data": {
      "image/png": "[encoded data removed]",
      "text/plain": [
       "<Figure size 432x288 with 1 Axes>"
      ]
     },
     "metadata": {},
     "output_type": "display_data"
    },
    {
     "name": "stdout",
     "output_type": "stream",
     "text": [
      "f1-score:  0.9375\n"
     ]
    }
   ],
   "source": [
    "precision, recall, thresholds = precision_recall_curve(Y_test, predictions_lr_scores)\n",
    "plt.figure()\n",
    "plt.plot(recall, precision)\n",
    "plt.title(\"Precision-Recall Curve: Logit\")\n",
    "plt.xlabel(\"Recall\")\n",
    "plt.ylabel(\"Precision\")\n",
    "plt.show()\n",
    "\n",
    "print(\"f1-score: \", f1_score(Y_test, predictions_knn))"
   ]
  },
  {
   "cell_type": "markdown",
   "metadata": {},
   "source": [
    "<div style=\"background-color: white; width: 93%; padding: 2em 2em 0.2em 2em; font-family: Gill Sans, sans-serif;\">\n",
    "    <h4 style=\"color: black;\"> 3.4 Curva ROC e AUC </h4>\n",
    "</div>"
   ]
  },
  {
   "cell_type": "code",
   "execution_count": 26,
   "metadata": {},
   "outputs": [
    {
     "data": {
      "image/png": "[encoded data removed]",
      "text/plain": [
       "<Figure size 432x288 with 1 Axes>"
      ]
     },
     "metadata": {},
     "output_type": "display_data"
    },
    {
     "name": "stdout",
     "output_type": "stream",
     "text": [
      "AUC:  0.875\n"
     ]
    }
   ],
   "source": [
    "fpr, tpr, thresholds = roc_curve(Y_test, predictions_lr_scores)\n",
    "plt.figure()\n",
    "plt.plot(fpr, tpr)\n",
    "plt.title(\"ROC: Logit\")\n",
    "plt.xlabel(\"False Positive Rate\")\n",
    "plt.ylabel(\"True Positive Rate\")\n",
    "plt.show()\n",
    "\n",
    "print (\"AUC: \", roc_auc_score(Y_test, predictions_knn))"
   ]
  },
  {
   "cell_type": "markdown",
   "metadata": {},
   "source": [
    "<div style=\"background-color: white; border-bottom-left-radius:15px; border-bottom-right-radius:15px; width:93%; padding:2em 2em 0.2em 2em; font-family:Gill Sans, sans-serif;\">\n",
    "</div>"
   ]
  }
 ],
 "metadata": {
  "kernelspec": {
   "display_name": "Python 3.10.4 64-bit",
   "language": "python",
   "name": "python3"
  },
  "language_info": {
   "codemirror_mode": {
    "name": "ipython",
    "version": 3
   },
   "file_extension": ".py",
   "mimetype": "text/x-python",
   "name": "python",
   "nbconvert_exporter": "python",
   "pygments_lexer": "ipython3",
   "version": "3.10.4"
  },
  "orig_nbformat": 4,
  "vscode": {
   "interpreter": {
    "hash": "702afc27125c4b44e8d6e4d91e2be92deaff276ecbbea6cc8c365578c4a94287"
   }
  }
 },
 "nbformat": 4,
 "nbformat_minor": 2
}
