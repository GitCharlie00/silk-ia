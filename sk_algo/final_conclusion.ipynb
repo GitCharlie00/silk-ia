{
 "cells": [
  {
   "cell_type": "markdown",
   "metadata": {},
   "source": [
    "<div style=\"background-color : white; border-radius: 15px; width: 93%; padding: 2em; color: black; font-family: Gill Sans, sans-serif;\">\n",
    "    <h1 style =\"text-align: center; color: black; font-family: Gill Sans, sans-serif;font-weight: 700;\"> Conclusioni sul progetto </h1>\n",
    "    <h2>Indice</h2>\n",
    "    <ol type=\"1\">\n",
    "        <li style=\"padding-top: 0.3em; padding-bottom: 0.3em;\"><b>Classificazioni immagini per alimentazione bachi</b></li>\n",
    "        <li style=\"padding-top: 0.3em; padding-bottom: 0.3em;\"><b>Confronto del mio modello con lo stato dell'arte</b>\n",
    "            <ul>\n",
    "                <li style=\"padding-top: 0.3em; padding-bottom: 0.3em;\">2.1 Dataset bachicoltura</li>\n",
    "                <li style=\"padding-bottom: 0.3em;\">2.2 Dataset ammissione college</li>\n",
    "                <li style=\"padding-bottom: 0.3em;\">2.3 Dataset infarti</li>\n",
    "                <li>2.4 Conclusioni sul mio modello</li>\n",
    "            </ul>\n",
    "        </li>\n",
    "    </ol>\n",
    "</div>"
   ]
  },
  {
   "cell_type": "markdown",
   "metadata": {},
   "source": [
    "<div style=\"color: black; background-color: white; border-radius: 15px; width: 93%; padding: 2em 2em 0.2em 2em; font-family: Gill Sans, sans-serif; color: black;\">\n",
    "    <h3 style=\"font-weight:700;\"> 1. Classificazioni immagini per alimentazione bachi </h3>\n",
    "    <p>L'obiettivo principale del progetto consisteva nel riconoscere la necessità di dar da mangiare ai bachi in base ad un'immagine del letto devo sono posti. Al termine dell'esperienza si può concludere che tale specifica è stata raggiunta con un'elevata accuratezza. Il dataset ricavato dalle immagini acquisite presenta dei valori spesso correlati e ben separati. Tutto ciò ha permesso, anche con un modello non allo stato dell'arte, di ottenere una classificazione di qualità, confermata da tutte le metriche del caso. Quindi il risultato finale si può definire molto buono, se non ottimo. Un esito eccellente era intrinsicamente una specifica del progetto. Infatti la fase di alimentazione dei bachi è forse una delle più delicate di tutta la bachicoltura, in cui si determina la qualità e soprattutto la quantità del filo, fondamentale per la funzionalità della filiera</p>\n",
    "</div>"
   ]
  },
  {
   "cell_type": "markdown",
   "metadata": {},
   "source": [
    "<div style=\"color: black; background-color: white; border-radius: 15px; width: 93%; padding: 2em 2em 0.2em 2em; font-family: Gill Sans, sans-serif; color: black;\">\n",
    "    <h3 style=\"font-weight:700;\"> 2. Confronto del mio modello con lo stato dell'arte </h3>\n",
    "    <p>Al fine di evitare spiacevoli ripetizioni, si indicherà con MLR (My Logistic Regression) il modello da me implementato, e con SAC (State of Art Classificator) il modello del classificatore allo stato dell'arte. Gli indicatori specificati si riferiscono alla fase di test dei modelli.</p>\n",
    "    <h3> 2.1 Dataset bachicoltura </h3>\n",
    "    <p>Entrambi i modelli sono risultati molto accurati nella classificazione, con un errore che, in base alla metrica definita, si può definire molto basso. La precisione è a vantaggio, se pur di poco, di SAC, il quale tuttavia presenta una recall minimamente inferiore rispetto a MLR. Anche analizzando l'area sottesa dalla curva ROC si può vedere come SAC prevalga nel risultato, seppur di poco. La differenza tra le due aree, analizzando la confusion matrix, è sicuramente dovuta al numero di falsi negativi ottenuti da MLR (il quadruplo rispetto a SAC). Nonostante vari indicatori vadano a favore di SAC, si può concludere che MLR ha ottenuto dei riscontri molto positivi sul dataset, avvicinandosi molto ai risultati dello stato dell'arte</p>\n",
    "    <h3> 2.2 Dataset ammissione college </h3>\n",
    "    <p>In questo test prevale SAC. Anche se con MLR si ottengono valori relativamente buoni, l'error rate dello stato dell'arte è sicuramnete minore rispetto a quello di MLR, basandosi sulla metrica. Anche l'accurancy di SAC è maggiore, di circa 5 punti percentuali rispetto a MLR. Secondo la confusion matrix le predizioni errate sono di più, seppur di poco, nel modello MLR. I valori delle curve relativi all'analisi delle predizioni (precision-recall e ROC) tendono a favore di SAC</p>\n",
    "    <h3> 2.3 Dataset infarti </h3>\n",
    "    <p>In questo test prevale in maniera abbastanza consistente SAC. Seppur nessuno dei due modelli abbia raggiunto una soglia di test accurancy dell'85%, l'error rate di MLR è quasi il doppio rispetto a SAC. Analizzando la confusion matrix, entrambi i modelli riportano delle predizioni errate. Tuttavia a causa dei risultati relativamente migliori di SAC, gli indicatori relativi alle curve precision-recall e ROC tendono a suo favore</p>\n",
    "    <h3> 2.4 Conclusioni sul mio modello </h3>\n",
    "    <p>Dai vari test effettuati sul modello MLR, si denota che quest'ultimo ha avuto delle distinte performance su dataset ben separabili. In particolare si è rivelato essere un ottimo classificatore sul dataset relativo alla bachicoltura, argomento principale del progetto. Mentre nel momento in cui è stato sottoposto al confronto con SAC sui dataset di test, ha ottenuto sicuramente dei risultati non troppo soddisfacenti. Tuttavia si può concludere che, per lo scopo del progetto, MLR si è rivelato un ottimo classificatore. Le performance generali si potrebbero migliorare andando a lavorare su una scelta ottimale degli iperparametri del modello in base al dataset a cui è sottoposto ed applicando un processo di features selection.</p>\n",
    "</div>"
   ]
  }
 ],
 "metadata": {
  "kernelspec": {
   "display_name": "Python 3.10.4 64-bit",
   "language": "python",
   "name": "python3"
  },
  "language_info": {
   "codemirror_mode": {
    "name": "ipython",
    "version": 3
   },
   "file_extension": ".py",
   "mimetype": "text/x-python",
   "name": "python",
   "nbconvert_exporter": "python",
   "pygments_lexer": "ipython3",
   "version": "3.10.4"
  },
  "orig_nbformat": 4,
  "vscode": {
   "interpreter": {
    "hash": "702afc27125c4b44e8d6e4d91e2be92deaff276ecbbea6cc8c365578c4a94287"
   }
  }
 },
 "nbformat": 4,
 "nbformat_minor": 2
}
